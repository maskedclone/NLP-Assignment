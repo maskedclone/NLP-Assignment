{
  "cells": [
    {
      "cell_type": "markdown",
      "metadata": {
        "id": "LVlrfpS42O9I"
      },
      "source": [
        "# Natural Language Processing\n",
        "\n",
        "## Part 4: TorchText + biGRU + Attention + Masking + Padded + Teaching Forcing + BLEU\n",
        "\n",
        "In this notebook we will be adding a few improvements - packed padded sequences and masking.  Packed padded sequences are used to tell our RNN to skip over padding tokens in our encoder. Masking explicitly forces the model to ignore certain values, such as attention over padded elements. Both of these techniques are commonly used in NLP. \n",
        "\n",
        "We will also look at how to use our model for inference, by giving it a sentence, seeing what it translates it as and seeing where exactly it pays attention to when translating each word.\n",
        "\n",
        "Finally, we'll use the BLEU metric to measure the quality of our translations.\n",
        "\n",
        "The figures are from https://github.com/bentrevett.\n",
        "\n",
        "**Note**: Skip to the model part."
      ]
    },
    {
      "cell_type": "code",
      "source": [
        "!pip install attacut"
      ],
      "metadata": {
        "id": "yTG5UmBl6nl8",
        "colab": {
          "base_uri": "https://localhost:8080/"
        },
        "outputId": "1e20fe06-21b7-4d4e-f685-38f77bb2bdb7"
      },
      "execution_count": 1,
      "outputs": [
        {
          "output_type": "stream",
          "name": "stdout",
          "text": [
            "Looking in indexes: https://pypi.org/simple, https://us-python.pkg.dev/colab-wheels/public/simple/\n",
            "Collecting attacut\n",
            "  Downloading attacut-1.0.6-py3-none-any.whl (1.3 MB)\n",
            "\u001b[2K     \u001b[90m━━━━━━━━━━━━━━━━━━━━━━━━━━━━━━━━━━━━━━━━\u001b[0m \u001b[32m1.3/1.3 MB\u001b[0m \u001b[31m43.4 MB/s\u001b[0m eta \u001b[36m0:00:00\u001b[0m\n",
            "\u001b[?25hCollecting docopt>=0.6.2\n",
            "  Downloading docopt-0.6.2.tar.gz (25 kB)\n",
            "  Preparing metadata (setup.py) ... \u001b[?25l\u001b[?25hdone\n",
            "Requirement already satisfied: numpy>=1.17.0 in /usr/local/lib/python3.9/dist-packages (from attacut) (1.22.4)\n",
            "Collecting fire>=0.1.3\n",
            "  Downloading fire-0.5.0.tar.gz (88 kB)\n",
            "\u001b[2K     \u001b[90m━━━━━━━━━━━━━━━━━━━━━━━━━━━━━━━━━━━━━━━━\u001b[0m \u001b[32m88.3/88.3 KB\u001b[0m \u001b[31m13.0 MB/s\u001b[0m eta \u001b[36m0:00:00\u001b[0m\n",
            "\u001b[?25h  Preparing metadata (setup.py) ... \u001b[?25l\u001b[?25hdone\n",
            "Requirement already satisfied: torch>=1.2.0 in /usr/local/lib/python3.9/dist-packages (from attacut) (1.13.1+cu116)\n",
            "Collecting nptyping>=0.2.0\n",
            "  Downloading nptyping-2.5.0-py3-none-any.whl (37 kB)\n",
            "Requirement already satisfied: six>=1.12.0 in /usr/local/lib/python3.9/dist-packages (from attacut) (1.15.0)\n",
            "Requirement already satisfied: pyyaml>=5.1.2 in /usr/local/lib/python3.9/dist-packages (from attacut) (6.0)\n",
            "Collecting ssg>=0.0.4\n",
            "  Downloading ssg-0.0.8-py3-none-any.whl (473 kB)\n",
            "\u001b[2K     \u001b[90m━━━━━━━━━━━━━━━━━━━━━━━━━━━━━━━━━━━━━━\u001b[0m \u001b[32m473.8/473.8 KB\u001b[0m \u001b[31m39.1 MB/s\u001b[0m eta \u001b[36m0:00:00\u001b[0m\n",
            "\u001b[?25hRequirement already satisfied: termcolor in /usr/local/lib/python3.9/dist-packages (from fire>=0.1.3->attacut) (2.2.0)\n",
            "Requirement already satisfied: typing-extensions<5.0.0,>=4.0.0 in /usr/local/lib/python3.9/dist-packages (from nptyping>=0.2.0->attacut) (4.5.0)\n",
            "Requirement already satisfied: tqdm>=4.32.2 in /usr/local/lib/python3.9/dist-packages (from ssg>=0.0.4->attacut) (4.65.0)\n",
            "Collecting python-crfsuite>=0.9.6\n",
            "  Downloading python_crfsuite-0.9.9-cp39-cp39-manylinux_2_17_x86_64.manylinux2014_x86_64.whl (1.0 MB)\n",
            "\u001b[2K     \u001b[90m━━━━━━━━━━━━━━━━━━━━━━━━━━━━━━━━━━━━━━━━\u001b[0m \u001b[32m1.0/1.0 MB\u001b[0m \u001b[31m62.4 MB/s\u001b[0m eta \u001b[36m0:00:00\u001b[0m\n",
            "\u001b[?25hBuilding wheels for collected packages: docopt, fire\n",
            "  Building wheel for docopt (setup.py) ... \u001b[?25l\u001b[?25hdone\n",
            "  Created wheel for docopt: filename=docopt-0.6.2-py2.py3-none-any.whl size=13721 sha256=499d113dfc28b4fcb979b4242ea306d9bca3589db454e129ceb2339bf6e85f67\n",
            "  Stored in directory: /root/.cache/pip/wheels/70/4a/46/1309fc853b8d395e60bafaf1b6df7845bdd82c95fd59dd8d2b\n",
            "  Building wheel for fire (setup.py) ... \u001b[?25l\u001b[?25hdone\n",
            "  Created wheel for fire: filename=fire-0.5.0-py2.py3-none-any.whl size=116952 sha256=d98269ba910ce68dd3a824a58bdfb14167013ff5cf898b6248e71798a96217e4\n",
            "  Stored in directory: /root/.cache/pip/wheels/f7/f1/89/b9ea2bf8f80ec027a88fef1d354b3816b4d3d29530988972f6\n",
            "Successfully built docopt fire\n",
            "Installing collected packages: python-crfsuite, docopt, nptyping, fire, ssg, attacut\n",
            "Successfully installed attacut-1.0.6 docopt-0.6.2 fire-0.5.0 nptyping-2.5.0 python-crfsuite-0.9.9 ssg-0.0.8\n"
          ]
        }
      ]
    },
    {
      "cell_type": "code",
      "execution_count": 2,
      "metadata": {
        "colab": {
          "base_uri": "https://localhost:8080/"
        },
        "id": "E6670n6N2O9J",
        "outputId": "922990cc-7fb5-45ce-9c6b-132079aa0378"
      },
      "outputs": [
        {
          "output_type": "stream",
          "name": "stdout",
          "text": [
            "cuda\n"
          ]
        }
      ],
      "source": [
        "import torch, torchtext\n",
        "from torch import nn\n",
        "import torch.nn.functional as F\n",
        "\n",
        "import random, math, time\n",
        "\n",
        "device = torch.device('cuda' if torch.cuda.is_available() else 'cpu')\n",
        "print(device)\n",
        "\n",
        "#make our work comparable if restarted the kernel\n",
        "SEED = 1234\n",
        "torch.manual_seed(SEED)\n",
        "torch.backends.cudnn.deterministic = True"
      ]
    },
    {
      "cell_type": "code",
      "execution_count": 3,
      "metadata": {
        "id": "DDy2TS7L2O9K"
      },
      "outputs": [],
      "source": [
        "# torch.cuda.get_device_name(0)"
      ]
    },
    {
      "cell_type": "code",
      "execution_count": 4,
      "metadata": {
        "colab": {
          "base_uri": "https://localhost:8080/",
          "height": 35
        },
        "id": "HfOutn5T2O9K",
        "outputId": "9e8466be-a5ba-4a18-f60c-8e7987ba0b90"
      },
      "outputs": [
        {
          "output_type": "execute_result",
          "data": {
            "text/plain": [
              "'1.13.1+cu116'"
            ],
            "application/vnd.google.colaboratory.intrinsic+json": {
              "type": "string"
            }
          },
          "metadata": {},
          "execution_count": 4
        }
      ],
      "source": [
        "torch.__version__"
      ]
    },
    {
      "cell_type": "code",
      "execution_count": 5,
      "metadata": {
        "colab": {
          "base_uri": "https://localhost:8080/",
          "height": 35
        },
        "id": "DosFwulz2O9K",
        "outputId": "a004518d-73bc-4ec8-ff6f-77200464e41c"
      },
      "outputs": [
        {
          "output_type": "execute_result",
          "data": {
            "text/plain": [
              "'0.14.1'"
            ],
            "application/vnd.google.colaboratory.intrinsic+json": {
              "type": "string"
            }
          },
          "metadata": {},
          "execution_count": 5
        }
      ],
      "source": [
        "torchtext.__version__"
      ]
    },
    {
      "cell_type": "markdown",
      "metadata": {
        "tags": [],
        "id": "XmXd7tNB2O9L"
      },
      "source": [
        "## 1. ETL: Loading the dataset\n",
        "\n",
        "**Note**: Here I chose to translate English to German, simply it is easier for myself, since I don't understand German so it is difficult for me to imagine a sentence during inference."
      ]
    },
    {
      "cell_type": "code",
      "execution_count": 6,
      "metadata": {
        "id": "0OA4Zim92O9L"
      },
      "outputs": [],
      "source": [
        "import pandas as pd\n",
        "\n",
        "src = './en-fr-reduced.csv'\n",
        "df = pd.read_csv(src)"
      ]
    },
    {
      "cell_type": "code",
      "execution_count": 7,
      "metadata": {
        "id": "k3F2N5aW2O9L"
      },
      "outputs": [],
      "source": [
        "#so this is a datapipe object; very similar to pytorch dataset version 2 which is better\n",
        "# train"
      ]
    },
    {
      "cell_type": "markdown",
      "metadata": {
        "tags": [],
        "id": "VtpKj47v2O9L"
      },
      "source": [
        "## 2. EDA - simple investigation"
      ]
    },
    {
      "cell_type": "code",
      "execution_count": 8,
      "metadata": {
        "colab": {
          "base_uri": "https://localhost:8080/",
          "height": 206
        },
        "id": "4Py3ldmh2O9L",
        "outputId": "2122d5b9-948f-4486-c3f1-1c19f6788967"
      },
      "outputs": [
        {
          "output_type": "execute_result",
          "data": {
            "text/plain": [
              "                                                  en  \\\n",
              "0  Changing Lives | Changing Society | How It Wor...   \n",
              "1                                           Site map   \n",
              "2                                           Feedback   \n",
              "3                                            Credits   \n",
              "4                                           Français   \n",
              "\n",
              "                                                  fr  \n",
              "0  Il a transformé notre vie | Il a transformé la...  \n",
              "1                                       Plan du site  \n",
              "2                                        Rétroaction  \n",
              "3                                            Crédits  \n",
              "4                                            English  "
            ],
            "text/html": [
              "\n",
              "  <div id=\"df-5f0a1ad3-10cb-453e-9a0d-f42c6b47f1f7\">\n",
              "    <div class=\"colab-df-container\">\n",
              "      <div>\n",
              "<style scoped>\n",
              "    .dataframe tbody tr th:only-of-type {\n",
              "        vertical-align: middle;\n",
              "    }\n",
              "\n",
              "    .dataframe tbody tr th {\n",
              "        vertical-align: top;\n",
              "    }\n",
              "\n",
              "    .dataframe thead th {\n",
              "        text-align: right;\n",
              "    }\n",
              "</style>\n",
              "<table border=\"1\" class=\"dataframe\">\n",
              "  <thead>\n",
              "    <tr style=\"text-align: right;\">\n",
              "      <th></th>\n",
              "      <th>en</th>\n",
              "      <th>fr</th>\n",
              "    </tr>\n",
              "  </thead>\n",
              "  <tbody>\n",
              "    <tr>\n",
              "      <th>0</th>\n",
              "      <td>Changing Lives | Changing Society | How It Wor...</td>\n",
              "      <td>Il a transformé notre vie | Il a transformé la...</td>\n",
              "    </tr>\n",
              "    <tr>\n",
              "      <th>1</th>\n",
              "      <td>Site map</td>\n",
              "      <td>Plan du site</td>\n",
              "    </tr>\n",
              "    <tr>\n",
              "      <th>2</th>\n",
              "      <td>Feedback</td>\n",
              "      <td>Rétroaction</td>\n",
              "    </tr>\n",
              "    <tr>\n",
              "      <th>3</th>\n",
              "      <td>Credits</td>\n",
              "      <td>Crédits</td>\n",
              "    </tr>\n",
              "    <tr>\n",
              "      <th>4</th>\n",
              "      <td>Français</td>\n",
              "      <td>English</td>\n",
              "    </tr>\n",
              "  </tbody>\n",
              "</table>\n",
              "</div>\n",
              "      <button class=\"colab-df-convert\" onclick=\"convertToInteractive('df-5f0a1ad3-10cb-453e-9a0d-f42c6b47f1f7')\"\n",
              "              title=\"Convert this dataframe to an interactive table.\"\n",
              "              style=\"display:none;\">\n",
              "        \n",
              "  <svg xmlns=\"http://www.w3.org/2000/svg\" height=\"24px\"viewBox=\"0 0 24 24\"\n",
              "       width=\"24px\">\n",
              "    <path d=\"M0 0h24v24H0V0z\" fill=\"none\"/>\n",
              "    <path d=\"M18.56 5.44l.94 2.06.94-2.06 2.06-.94-2.06-.94-.94-2.06-.94 2.06-2.06.94zm-11 1L8.5 8.5l.94-2.06 2.06-.94-2.06-.94L8.5 2.5l-.94 2.06-2.06.94zm10 10l.94 2.06.94-2.06 2.06-.94-2.06-.94-.94-2.06-.94 2.06-2.06.94z\"/><path d=\"M17.41 7.96l-1.37-1.37c-.4-.4-.92-.59-1.43-.59-.52 0-1.04.2-1.43.59L10.3 9.45l-7.72 7.72c-.78.78-.78 2.05 0 2.83L4 21.41c.39.39.9.59 1.41.59.51 0 1.02-.2 1.41-.59l7.78-7.78 2.81-2.81c.8-.78.8-2.07 0-2.86zM5.41 20L4 18.59l7.72-7.72 1.47 1.35L5.41 20z\"/>\n",
              "  </svg>\n",
              "      </button>\n",
              "      \n",
              "  <style>\n",
              "    .colab-df-container {\n",
              "      display:flex;\n",
              "      flex-wrap:wrap;\n",
              "      gap: 12px;\n",
              "    }\n",
              "\n",
              "    .colab-df-convert {\n",
              "      background-color: #E8F0FE;\n",
              "      border: none;\n",
              "      border-radius: 50%;\n",
              "      cursor: pointer;\n",
              "      display: none;\n",
              "      fill: #1967D2;\n",
              "      height: 32px;\n",
              "      padding: 0 0 0 0;\n",
              "      width: 32px;\n",
              "    }\n",
              "\n",
              "    .colab-df-convert:hover {\n",
              "      background-color: #E2EBFA;\n",
              "      box-shadow: 0px 1px 2px rgba(60, 64, 67, 0.3), 0px 1px 3px 1px rgba(60, 64, 67, 0.15);\n",
              "      fill: #174EA6;\n",
              "    }\n",
              "\n",
              "    [theme=dark] .colab-df-convert {\n",
              "      background-color: #3B4455;\n",
              "      fill: #D2E3FC;\n",
              "    }\n",
              "\n",
              "    [theme=dark] .colab-df-convert:hover {\n",
              "      background-color: #434B5C;\n",
              "      box-shadow: 0px 1px 3px 1px rgba(0, 0, 0, 0.15);\n",
              "      filter: drop-shadow(0px 1px 2px rgba(0, 0, 0, 0.3));\n",
              "      fill: #FFFFFF;\n",
              "    }\n",
              "  </style>\n",
              "\n",
              "      <script>\n",
              "        const buttonEl =\n",
              "          document.querySelector('#df-5f0a1ad3-10cb-453e-9a0d-f42c6b47f1f7 button.colab-df-convert');\n",
              "        buttonEl.style.display =\n",
              "          google.colab.kernel.accessAllowed ? 'block' : 'none';\n",
              "\n",
              "        async function convertToInteractive(key) {\n",
              "          const element = document.querySelector('#df-5f0a1ad3-10cb-453e-9a0d-f42c6b47f1f7');\n",
              "          const dataTable =\n",
              "            await google.colab.kernel.invokeFunction('convertToInteractive',\n",
              "                                                     [key], {});\n",
              "          if (!dataTable) return;\n",
              "\n",
              "          const docLinkHtml = 'Like what you see? Visit the ' +\n",
              "            '<a target=\"_blank\" href=https://colab.research.google.com/notebooks/data_table.ipynb>data table notebook</a>'\n",
              "            + ' to learn more about interactive tables.';\n",
              "          element.innerHTML = '';\n",
              "          dataTable['output_type'] = 'display_data';\n",
              "          await google.colab.output.renderOutput(dataTable, element);\n",
              "          const docLink = document.createElement('div');\n",
              "          docLink.innerHTML = docLinkHtml;\n",
              "          element.appendChild(docLink);\n",
              "        }\n",
              "      </script>\n",
              "    </div>\n",
              "  </div>\n",
              "  "
            ]
          },
          "metadata": {},
          "execution_count": 8
        }
      ],
      "source": [
        "#let's take a look at one example of train\n",
        "df.head()"
      ]
    },
    {
      "cell_type": "code",
      "execution_count": 9,
      "metadata": {
        "colab": {
          "base_uri": "https://localhost:8080/"
        },
        "id": "Wx6R2sM_2O9L",
        "outputId": "2f919fa5-fef0-4539-9e63-38112f693049"
      },
      "outputs": [
        {
          "output_type": "stream",
          "name": "stdout",
          "text": [
            "7000\n"
          ]
        }
      ],
      "source": [
        "size = len(df)\n",
        "print(size)"
      ]
    },
    {
      "cell_type": "markdown",
      "metadata": {
        "id": "fmtpDTeg2O9L"
      },
      "source": [
        "#### Due to limitation in memory of GPU, I cut off the dataset from 22 million to different ranges (15000, 10000, 7000, 5000) to find the most suitable one. After many tries, I see that 7000 in size of dataset is more fit to run in Gernaral and Multiplicative. However, the additive requires much more memory so that I continue to cut off the size (4000, 3500, 3000, 2000) but it is just fit for 2000 despite I tried on my local machine, puffer, and also google colab. In that case, the model is dump due to limitation in data size."
      ]
    },
    {
      "cell_type": "code",
      "execution_count": 10,
      "metadata": {
        "id": "EVnilZNw2O9M"
      },
      "outputs": [],
      "source": [
        "df = df.head(2000)\n",
        "df.to_csv('en-fr-reduced-new.csv', index=False)"
      ]
    },
    {
      "cell_type": "code",
      "execution_count": 11,
      "metadata": {
        "colab": {
          "base_uri": "https://localhost:8080/"
        },
        "id": "QXV9cVCW2O9M",
        "outputId": "102691ba-407c-4d27-d368-928be7f55fc7"
      },
      "outputs": [
        {
          "output_type": "stream",
          "name": "stdout",
          "text": [
            "2000\n"
          ]
        }
      ],
      "source": [
        "size = len(df)\n",
        "print(size)"
      ]
    },
    {
      "cell_type": "code",
      "execution_count": 12,
      "metadata": {
        "id": "xCq4JAJf2O9M"
      },
      "outputs": [],
      "source": [
        "dataset = df.values.tolist()"
      ]
    },
    {
      "cell_type": "markdown",
      "metadata": {
        "id": "YxywRtUE2O9M"
      },
      "source": [
        "Since 29001 is plenty,, we gonna call `random_split` to train, val and test"
      ]
    },
    {
      "cell_type": "code",
      "execution_count": 13,
      "metadata": {
        "id": "ZH4DqOU82O9M"
      },
      "outputs": [],
      "source": [
        "import random\n",
        "from torch.utils.data import random_split\n",
        "\n",
        "random.seed(99)\n",
        "random.shuffle(dataset)\n",
        "\n",
        "train_data_set_size = int(size*0.9)\n",
        "\n",
        "# test set\n",
        "train_dataset = dataset[:train_data_set_size]\n",
        "test = dataset[train_data_set_size:]\n",
        "\n",
        "# train and valid set\n",
        "train_size = int(train_data_set_size*0.9)\n",
        "train = train_dataset[:train_size]\n",
        "val = train_dataset[train_size:]"
      ]
    },
    {
      "cell_type": "code",
      "execution_count": 14,
      "metadata": {
        "colab": {
          "base_uri": "https://localhost:8080/"
        },
        "id": "WYwQ79Pf2O9M",
        "outputId": "8ab04588-6ee1-4524-cfc7-32cb2e362c6b"
      },
      "outputs": [
        {
          "output_type": "stream",
          "name": "stdout",
          "text": [
            "1620 180 200\n"
          ]
        }
      ],
      "source": [
        "print(len(train),len(val),len(test))"
      ]
    },
    {
      "cell_type": "markdown",
      "metadata": {
        "tags": [],
        "id": "mnileH0X2O9M"
      },
      "source": [
        "## 3. Preprocessing \n",
        "\n",
        "### Tokenizing\n",
        "\n",
        "**Note**: the models must first be downloaded using the following on the command line: \n",
        "```\n",
        "python3 -m spacy download en_core_web_sm\n",
        "python3 -m spacy download de_core_news_sm\n",
        "```\n",
        "\n",
        "First, since we have two languages, let's create some constants to represent that.  Also, let's create two dicts: one for holding our tokenizers and one for holding all the vocabs with assigned numbers for each unique word"
      ]
    },
    {
      "cell_type": "markdown",
      "metadata": {
        "id": "L3tdV_lb2O9N"
      },
      "source": [
        "#### At the beginning, I tried on python3 -m spacy download fr_core_news_sm to cope with French, but it didn't work. So, I used my classmates's model - attacut (Referenced from Todsavad and Ati, TonsonP)"
      ]
    },
    {
      "cell_type": "code",
      "execution_count": 15,
      "metadata": {
        "colab": {
          "base_uri": "https://localhost:8080/"
        },
        "id": "yDwCKnXL2O9N",
        "outputId": "f12f7bd7-bbd0-48fa-ceac-a3217e7451dd"
      },
      "outputs": [
        {
          "output_type": "stream",
          "name": "stdout",
          "text": [
            "['Il', ' ', 'a', ' ', 'transform', 'é', ' ', 'notre', ' ', 'vie', ' ', '|', ' ', 'Il', ' ', 'a', ' ', 'transformé']\n"
          ]
        },
        {
          "output_type": "execute_result",
          "data": {
            "text/plain": [
              "['Il',\n",
              " ' ',\n",
              " 'a',\n",
              " ' ',\n",
              " 'transform',\n",
              " 'é',\n",
              " ' ',\n",
              " 'notre',\n",
              " ' ',\n",
              " 'vie',\n",
              " ' ',\n",
              " '|',\n",
              " ' ',\n",
              " 'Il',\n",
              " ' ',\n",
              " 'a',\n",
              " ' ',\n",
              " 'transformé']"
            ]
          },
          "metadata": {},
          "execution_count": 15
        }
      ],
      "source": [
        "from attacut import tokenize, Tokenizer\n",
        "\n",
        "# tokenize `txt` using our best model `attacut-sc`\n",
        "txt = 'Il a transformé notre vie | Il a transformé'\n",
        "words = tokenize(txt)\n",
        "print(words)\n",
        "# alternatively, an AttaCut tokenizer might be instantiated directly, allowing\n",
        "# one to specify whether to use `attacut-sc` or `attacut-c`.\n",
        "atta = Tokenizer(model=\"attacut-sc\")\n",
        "words = atta.tokenize(txt)\n",
        "words"
      ]
    },
    {
      "cell_type": "code",
      "execution_count": 16,
      "metadata": {
        "id": "z9nrourB2O9N"
      },
      "outputs": [],
      "source": [
        "SRC_LANGUAGE = 'fr'\n",
        "TRG_LANGUAGE = 'en'\n",
        "# Place-holders\n",
        "token_transform = {}\n",
        "vocab_transform = {}"
      ]
    },
    {
      "cell_type": "code",
      "execution_count": 17,
      "metadata": {
        "id": "fZLLax822O9N"
      },
      "outputs": [],
      "source": [
        "# from torchtext.data.utils import get_tokenizer\n",
        "# token_transform[SRC_LANGUAGE] = get_tokenizer('spacy', language='en_core_web_sm')\n",
        "# token_transform[TRG_LANGUAGE] = get_tokenizer('spacy', language='fr_core_news_sm')"
      ]
    },
    {
      "cell_type": "code",
      "execution_count": 18,
      "metadata": {
        "id": "K5c3Ge7y2O9N"
      },
      "outputs": [],
      "source": [
        "from attacut import tokenize, Tokenizer\n",
        "from torchtext.data.utils import get_tokenizer\n",
        "\n",
        "token_transform[SRC_LANGUAGE] = Tokenizer(model=\"attacut-sc\")\n",
        "token_transform[TRG_LANGUAGE] = get_tokenizer('spacy', language='en_core_web_sm')"
      ]
    },
    {
      "cell_type": "code",
      "execution_count": 19,
      "metadata": {
        "colab": {
          "base_uri": "https://localhost:8080/"
        },
        "id": "zDq9kwTw2O9N",
        "outputId": "3736bbfd-693b-4337-f8e7-483a15eedb40"
      },
      "outputs": [
        {
          "output_type": "stream",
          "name": "stdout",
          "text": [
            "Sentence:  A spectrograph operates like a spectroscope except that the small telescope is replaced by a detector that can record the spectrum of the material being studied.\n",
            "Tokenization:  ['A', ' ', 'spectrograph', ' ', 'operates ', 'like', ' ', 'a', ' ', 'spectroscope', ' ', 'except', ' ', 'that', ' ', 'the', ' ', 'small', ' ', 'telescope', ' ', 'is', ' ', 'replaced', ' ', 'by', ' ', 'a', ' ', 'detector', ' ', 'that', ' ', 'can', ' ', 'record', ' ', 'the', ' ', 'spectrum', ' ', 'of', ' ', 'the', ' ', 'material', ' ', 'being', ' ', 'studied', '.']\n"
          ]
        }
      ],
      "source": [
        "#example of tokenization of the english part\n",
        "print(\"Sentence: \", train[0][0])\n",
        "print(\"Tokenization: \", token_transform[SRC_LANGUAGE].tokenize(train[0][0]))"
      ]
    },
    {
      "cell_type": "code",
      "execution_count": 20,
      "metadata": {
        "colab": {
          "base_uri": "https://localhost:8080/"
        },
        "id": "5Nj0Hmli2O9N",
        "outputId": "c785d477-39f3-4682-f0c9-59ef2c0dc048"
      },
      "outputs": [
        {
          "output_type": "stream",
          "name": "stdout",
          "text": [
            "Sentence:  Un spectrographe fonctionne comme un spectroscope sauf que la lunette graduée est remplacée par un détecteur quelconque qui enregistre le spectre de l’objet observé.\n",
            "Tokenization:  ['Un', ' ', 'spectrographe', ' ', 'fonctionne', ' ', 'comme', ' ', 'un', ' ', 'spectroscope', ' ', 'sauf', ' ', 'que', ' ', 'la', ' ', 'lunette', ' ', 'graduée', ' ', 'est', ' ', 'remplac', 'ée', ' ', 'par', ' ', 'un', ' ', 'd', 'é', 'tecteur', ' ', 'quelconque ', 'qui', ' ', 'enregistre', ' ', 'le', ' ', 'spectre', ' ', 'de', ' ', 'l', '’objet', ' ', 'observ', 'é', '.']\n"
          ]
        }
      ],
      "source": [
        "#example of tokenization of the french part\n",
        "print(\"Sentence: \", train[0][1])\n",
        "print(\"Tokenization: \", token_transform[SRC_LANGUAGE].tokenize(train[0][1]))"
      ]
    },
    {
      "cell_type": "markdown",
      "metadata": {
        "id": "LyO12smB2O9O"
      },
      "source": [
        "A function to tokenize our input."
      ]
    },
    {
      "cell_type": "code",
      "execution_count": 21,
      "metadata": {
        "id": "5n0mdonk2O9O"
      },
      "outputs": [],
      "source": [
        "# helper function to yield list of tokens\n",
        "# here data can be `train` or `val` or `test`\n",
        "def yield_tokens(data, language):\n",
        "    language_index = {SRC_LANGUAGE: 0, TRG_LANGUAGE: 1}\n",
        "\n",
        "    for data_sample in data:\n",
        "        if language == SRC_LANGUAGE:\n",
        "            yield token_transform[language].tokenize(data_sample[language_index[language]])\n",
        "        elif language == TRG_LANGUAGE:\n",
        "            yield token_transform[language](data_sample[language_index[language]])"
      ]
    },
    {
      "cell_type": "markdown",
      "metadata": {
        "id": "VlVtlDrZ2O9O"
      },
      "source": [
        "Before we tokenize, let's define some special symbols so our neural network understand the embeddings of these symbols, namely the unknown, the padding, the start of sentence, and end of sentence."
      ]
    },
    {
      "cell_type": "code",
      "execution_count": 22,
      "metadata": {
        "id": "9eNNnbL42O9O"
      },
      "outputs": [],
      "source": [
        "# Define special symbols and indices\n",
        "UNK_IDX, PAD_IDX, SOS_IDX, EOS_IDX = 0, 1, 2, 3\n",
        "# Make sure the tokens are in order of their indices to properly insert them in vocab\n",
        "special_symbols = ['<unk>', '<pad>', '<sos>', '<eos>']"
      ]
    },
    {
      "cell_type": "markdown",
      "metadata": {
        "tags": [],
        "id": "04tJHFOe2O9O"
      },
      "source": [
        "### Text to integers (Numericalization)\n",
        "\n",
        "Next we gonna create function (torchtext called vocabs) that turn these tokens into integers.  Here we use built in factory function <code>build_vocab_from_iterator</code> which accepts iterator that yield list or iterator of tokens."
      ]
    },
    {
      "cell_type": "code",
      "execution_count": 23,
      "metadata": {
        "id": "IU7U_D3S2O9O"
      },
      "outputs": [],
      "source": [
        "from torchtext.vocab import build_vocab_from_iterator\n",
        "\n",
        "for ln in [SRC_LANGUAGE, TRG_LANGUAGE]:\n",
        "    # Create torchtext's Vocab object \n",
        "    vocab_transform[ln] = build_vocab_from_iterator(yield_tokens(train, ln), \n",
        "                                                    min_freq=2,   #if not, everything will be treated as UNK\n",
        "                                                    specials=special_symbols,\n",
        "                                                    special_first=True) #indicates whether to insert symbols at the beginning or at the end                                            \n",
        "# Set UNK_IDX as the default index. This index is returned when the token is not found. \n",
        "# If not set, it throws RuntimeError when the queried token is not found in the Vocabulary. \n",
        "for ln in [SRC_LANGUAGE, TRG_LANGUAGE]:\n",
        "    vocab_transform[ln].set_default_index(UNK_IDX)\n"
      ]
    },
    {
      "cell_type": "code",
      "execution_count": 24,
      "metadata": {
        "id": "Q62s4ic32O9O"
      },
      "outputs": [],
      "source": [
        "# import pickle\n",
        "# with open('text_translation_.pkl', 'wb') as file:\n",
        "      \n",
        "#     # A new file will be created\n",
        "#     pickle.dump(vocab_transform, file)"
      ]
    },
    {
      "cell_type": "code",
      "execution_count": 25,
      "metadata": {
        "id": "D9sXBpaa2O9O"
      },
      "outputs": [],
      "source": [
        "# with open('french_vocab.pkl', 'wb') as file:\n",
        "      \n",
        "#     # A new file will be created\n",
        "#     pickle.dump(vocab_transform[TRG_LANGUAGE], file)"
      ]
    },
    {
      "cell_type": "code",
      "execution_count": 26,
      "metadata": {
        "colab": {
          "base_uri": "https://localhost:8080/"
        },
        "id": "gMCKziWn2O9O",
        "outputId": "7bbaed15-1cc0-4631-bc76-502786f20756"
      },
      "outputs": [
        {
          "output_type": "execute_result",
          "data": {
            "text/plain": [
              "[0, 14, 12, 0, 12]"
            ]
          },
          "metadata": {},
          "execution_count": 26
        }
      ],
      "source": [
        "#see some example\n",
        "vocab_transform[SRC_LANGUAGE](['here', 'is', 'a', 'unknownword', 'a'])"
      ]
    },
    {
      "cell_type": "code",
      "execution_count": 27,
      "metadata": {
        "colab": {
          "base_uri": "https://localhost:8080/",
          "height": 35
        },
        "id": "iHh4TsKh2O9O",
        "outputId": "072fb366-c056-4076-ca11-9acd2250fd1c"
      },
      "outputs": [
        {
          "output_type": "execute_result",
          "data": {
            "text/plain": [
              "'was'"
            ],
            "application/vnd.google.colaboratory.intrinsic+json": {
              "type": "string"
            }
          },
          "metadata": {},
          "execution_count": 27
        }
      ],
      "source": [
        "#we can reverse it....\n",
        "mapping = vocab_transform[SRC_LANGUAGE].get_itos()\n",
        "\n",
        "#print 16, for example\n",
        "mapping[16]"
      ]
    },
    {
      "cell_type": "code",
      "execution_count": 28,
      "metadata": {
        "colab": {
          "base_uri": "https://localhost:8080/"
        },
        "id": "FVb-l4oh2O9P",
        "outputId": "db1f5a0c-09d6-4501-8200-0545ba9b64ec"
      },
      "outputs": [
        {
          "output_type": "execute_result",
          "data": {
            "text/plain": [
              "[0, 1264, 56]"
            ]
          },
          "metadata": {},
          "execution_count": 28
        }
      ],
      "source": [
        "vocab_transform[TRG_LANGUAGE](['dangereux', 'directement', 'Soleil'])"
      ]
    },
    {
      "cell_type": "code",
      "execution_count": 29,
      "metadata": {
        "colab": {
          "base_uri": "https://localhost:8080/",
          "height": 35
        },
        "id": "TrlBQdpa2O9P",
        "outputId": "a8164ace-f595-4ba6-91dc-89b79cf5137c"
      },
      "outputs": [
        {
          "output_type": "execute_result",
          "data": {
            "text/plain": [
              "'nt'"
            ],
            "application/vnd.google.colaboratory.intrinsic+json": {
              "type": "string"
            }
          },
          "metadata": {},
          "execution_count": 29
        }
      ],
      "source": [
        "#we can reverse it....\n",
        "mapping = vocab_transform[TRG_LANGUAGE].get_itos()\n",
        "\n",
        "#print 474, for example\n",
        "mapping[102]"
      ]
    },
    {
      "cell_type": "code",
      "execution_count": 30,
      "metadata": {
        "colab": {
          "base_uri": "https://localhost:8080/",
          "height": 35
        },
        "id": "awAbFVAJ2O9P",
        "outputId": "37c86948-a9b7-4aa7-87a4-0a075cd48457"
      },
      "outputs": [
        {
          "output_type": "execute_result",
          "data": {
            "text/plain": [
              "'<unk>'"
            ],
            "application/vnd.google.colaboratory.intrinsic+json": {
              "type": "string"
            }
          },
          "metadata": {},
          "execution_count": 30
        }
      ],
      "source": [
        "#let's try unknown vocab\n",
        "mapping[0]\n",
        "#they will all map to <unk> which has 0 as integer"
      ]
    },
    {
      "cell_type": "code",
      "execution_count": 31,
      "metadata": {
        "colab": {
          "base_uri": "https://localhost:8080/"
        },
        "id": "4CWEFV7l2O9P",
        "outputId": "75fd1773-665d-468f-d529-7c3964e6d061"
      },
      "outputs": [
        {
          "output_type": "execute_result",
          "data": {
            "text/plain": [
              "('<pad>', '<sos>', '<eos>')"
            ]
          },
          "metadata": {},
          "execution_count": 31
        }
      ],
      "source": [
        "#let's try special symbols\n",
        "mapping[1], mapping[2], mapping[3]"
      ]
    },
    {
      "cell_type": "code",
      "execution_count": 32,
      "metadata": {
        "colab": {
          "base_uri": "https://localhost:8080/"
        },
        "id": "GRCqISKH2O9P",
        "outputId": "40ec9926-9c0f-4820-c599-c2f2d326c6a9"
      },
      "outputs": [
        {
          "output_type": "execute_result",
          "data": {
            "text/plain": [
              "2906"
            ]
          },
          "metadata": {},
          "execution_count": 32
        }
      ],
      "source": [
        "#check unique vocabularies\n",
        "len(mapping)"
      ]
    },
    {
      "cell_type": "markdown",
      "metadata": {
        "tags": [],
        "id": "r3d5BFRl2O9P"
      },
      "source": [
        "## 4. Preparing the dataloader\n",
        "\n",
        "One thing we change here is the <code>collate_fn</code> which now also returns the length of sentence.  This is required for <code>packed_padded_sequence</code>"
      ]
    },
    {
      "cell_type": "code",
      "execution_count": 33,
      "metadata": {
        "id": "Wyv1lLQy2O9P"
      },
      "outputs": [],
      "source": [
        "from torch.nn.utils.rnn import pad_sequence\n",
        "from torch.utils.data import DataLoader\n",
        "import multiprocessing as mp\n",
        "BATCH_SIZE = 64\n",
        "\n",
        "# helper function to club together sequential operations\n",
        "def sequential_transforms(*transforms):\n",
        "    global func\n",
        "    def func(txt_input):\n",
        "        for transform in transforms:\n",
        "            if transform == token_transform[SRC_LANGUAGE]:\n",
        "                txt_input = transform.tokenize(txt_input)\n",
        "            else:\n",
        "                txt_input = transform(txt_input)\n",
        "        return txt_input\n",
        "\n",
        "    return func\n",
        "\n",
        "# function to add BOS/EOS and create tensor for input sequence indices\n",
        "def tensor_transform(token_ids):\n",
        "    return torch.cat((torch.tensor([SOS_IDX]), \n",
        "                      torch.tensor(token_ids), \n",
        "                      torch.tensor([EOS_IDX])))\n",
        "\n",
        "# src and trg language text transforms to convert raw strings into tensors indices\n",
        "text_transform = {}\n",
        "for ln in [SRC_LANGUAGE, TRG_LANGUAGE]:\n",
        "    text_transform[ln] = sequential_transforms(token_transform[ln], #Tokenization\n",
        "                                               vocab_transform[ln], #Numericalization\n",
        "                                               tensor_transform) # Add BOS/EOS and create tensor\n",
        "\n",
        "# function to collate data samples into batch tesors\n",
        "def collate_batch(batch):\n",
        "    src_batch, src_len_batch, trg_batch = [], [], []\n",
        "    for src_sample, trg_sample in batch:\n",
        "        processed_text = text_transform[SRC_LANGUAGE](str(src_sample).rstrip(\"\\n\"))\n",
        "        src_batch.append(processed_text)\n",
        "        trg_batch.append(text_transform[TRG_LANGUAGE](str(trg_sample).rstrip(\"\\n\")))\n",
        "        src_len_batch.append(processed_text.size(0))\n",
        "\n",
        "    src_batch = pad_sequence(src_batch, padding_value=PAD_IDX)\n",
        "    trg_batch = pad_sequence(trg_batch, padding_value=PAD_IDX)\n",
        "    import pickle\n",
        "        \n",
        "    return src_batch, torch.tensor(src_len_batch, dtype=torch.int64), trg_batch"
      ]
    },
    {
      "cell_type": "code",
      "execution_count": 34,
      "metadata": {
        "colab": {
          "base_uri": "https://localhost:8080/"
        },
        "id": "6QT26Mss2O9P",
        "outputId": "fab1ed4d-22a7-4bd4-9451-544f2464d488"
      },
      "outputs": [
        {
          "output_type": "execute_result",
          "data": {
            "text/plain": [
              "{'fr': <function __main__.func(txt_input)>,\n",
              " 'en': <function __main__.func(txt_input)>}"
            ]
          },
          "metadata": {},
          "execution_count": 34
        }
      ],
      "source": [
        "text_transform"
      ]
    },
    {
      "cell_type": "markdown",
      "metadata": {
        "id": "XCV534xB2O9Q"
      },
      "source": [
        "Create train, val, and test dataloaders"
      ]
    },
    {
      "cell_type": "code",
      "execution_count": 35,
      "metadata": {
        "id": "l7i0bTNT2O9Q"
      },
      "outputs": [],
      "source": [
        "batch_size = 32\n",
        "\n",
        "train_loader = DataLoader(train, batch_size=batch_size,\n",
        "                              shuffle=True, collate_fn=collate_batch)\n",
        "valid_loader = DataLoader(val, batch_size=batch_size,\n",
        "                              shuffle=True, collate_fn=collate_batch)\n",
        "test_loader  = DataLoader(test, batch_size=batch_size,\n",
        "                             shuffle=True, collate_fn=collate_batch)"
      ]
    },
    {
      "cell_type": "markdown",
      "metadata": {
        "id": "-4zh8QK92O9Q"
      },
      "source": [
        "Let's test the train loader."
      ]
    },
    {
      "cell_type": "code",
      "execution_count": 36,
      "metadata": {
        "id": "HR38UzDN2O9Q"
      },
      "outputs": [],
      "source": [
        "for en, _, fr in train_loader:\n",
        "    break"
      ]
    },
    {
      "cell_type": "code",
      "execution_count": 37,
      "metadata": {
        "colab": {
          "base_uri": "https://localhost:8080/"
        },
        "id": "SYakzmRU2O9Q",
        "outputId": "d51bcc36-20c7-423c-94c4-85816372e787"
      },
      "outputs": [
        {
          "output_type": "stream",
          "name": "stdout",
          "text": [
            "English shape:  torch.Size([82, 32])\n",
            "French shape:  torch.Size([46, 32])\n"
          ]
        }
      ],
      "source": [
        "print(\"English shape: \", en.shape)  # (seq len, batch_size)\n",
        "print(\"French shape: \", fr.shape)   # (seq len, batch_size)"
      ]
    },
    {
      "cell_type": "code",
      "execution_count": 38,
      "metadata": {
        "colab": {
          "base_uri": "https://localhost:8080/"
        },
        "id": "egu8Y3jg2O9Q",
        "outputId": "601f1fe3-7b88-4bf2-e1a1-41f7e359274a"
      },
      "outputs": [
        {
          "output_type": "execute_result",
          "data": {
            "text/plain": [
              "(51, 6, 7)"
            ]
          },
          "metadata": {},
          "execution_count": 38
        }
      ],
      "source": [
        "len(train_loader),len(valid_loader),len(test_loader)"
      ]
    },
    {
      "cell_type": "code",
      "execution_count": 39,
      "metadata": {
        "id": "zu8-XOLW2O9Q"
      },
      "outputs": [],
      "source": [
        "train_loader_length = len(list(iter(train_loader)))\n",
        "val_loader_length   = len(list(iter(valid_loader)))\n",
        "test_loader_length  = len(list(iter(test_loader)))"
      ]
    },
    {
      "cell_type": "code",
      "execution_count": 40,
      "metadata": {
        "colab": {
          "base_uri": "https://localhost:8080/"
        },
        "id": "wzrUJ2nA2O9Q",
        "outputId": "516d35ca-e495-4b03-dc11-9985b20c5628"
      },
      "outputs": [
        {
          "output_type": "stream",
          "name": "stdout",
          "text": [
            "51\n",
            "6\n",
            "7\n"
          ]
        }
      ],
      "source": [
        "print(train_loader_length)\n",
        "print(val_loader_length)\n",
        "print(test_loader_length)"
      ]
    },
    {
      "cell_type": "markdown",
      "metadata": {
        "id": "z2vLOes52O9Q"
      },
      "source": [
        "## 5. Design the model\n",
        "\n",
        "### Encoder\n",
        "\n",
        "The changes here all within the `forward` method. It now accepts the lengths of the source sentences as well as the sentences themselves. \n",
        "\n",
        "After the source sentence (padded automatically within the iterator) has been embedded, we can then use `pack_padded_sequence` on it with the lengths of the sentences. Note that the tensor containing the lengths of the sequences must be a CPU tensor as of the latest version of PyTorch, which we explicitly do so with `to('cpu')`. `packed_embedded` will then be our packed padded sequence. This can be then fed to our RNN as normal which will return `packed_outputs`, a packed tensor containing all of the hidden states from the sequence, and `hidden` which is simply the final hidden state from our sequence. `hidden` is a standard tensor and not packed in any way, the only difference is that as the input was a packed sequence, this tensor is from the final **non-padded element** in the sequence.\n",
        "\n",
        "We then unpack our `packed_outputs` using `pad_packed_sequence` which returns the `outputs` and the lengths of each, which we don't need. \n",
        "\n",
        "The first dimension of `outputs` is the padded sequence lengths however due to using a packed padded sequence the values of tensors when a padding token was the input will be all zeros."
      ]
    },
    {
      "cell_type": "code",
      "execution_count": 41,
      "metadata": {
        "id": "fuNcOdvw2O9Q"
      },
      "outputs": [],
      "source": [
        "class Encoder(nn.Module):\n",
        "    def __init__(self, input_dim, emb_dim, hid_dim, dropout):\n",
        "        super().__init__()\n",
        "        \n",
        "        self.embedding = nn.Embedding(input_dim, emb_dim)\n",
        "        self.rnn = nn.GRU(emb_dim, hid_dim, bidirectional = True)\n",
        "        self.fc = nn.Linear(hid_dim * 2, hid_dim)\n",
        "        self.dropout = nn.Dropout(dropout)\n",
        "        \n",
        "    def forward(self, src, src_len):\n",
        "        \n",
        "        #src = [src len, batch size]\n",
        "        #src_len = [batch size]\n",
        "        \n",
        "        embedded = self.dropout(self.embedding(src))\n",
        "        #embedded = [src len, batch size, emb dim]\n",
        "                \n",
        "        #need to explicitly put lengths on cpu!\n",
        "        packed_embedded = nn.utils.rnn.pack_padded_sequence(embedded, src_len.to('cpu'), enforce_sorted=False)\n",
        "                \n",
        "        packed_outputs, hidden = self.rnn(packed_embedded)        \n",
        "        #packed_outputs is a packed sequence containing all hidden states\n",
        "        #hidden is now from the final non-padded element in the batch\n",
        "            \n",
        "        outputs, _ = nn.utils.rnn.pad_packed_sequence(packed_outputs) \n",
        "        #outputs is now a non-packed sequence, all hidden states obtained\n",
        "        #  when the input is a pad token are all zeros\n",
        "            \n",
        "        #outputs = [src len, batch size, hid dim * num directions]\n",
        "        #hidden = [n layers * num directions, batch size, hid dim]\n",
        "        \n",
        "        #hidden is stacked [forward_1, backward_1, forward_2, backward_2, ...]\n",
        "        #outputs are always from the last layer\n",
        "        \n",
        "        #hidden [-2, :, : ] is the last of the forwards RNN \n",
        "        #hidden [-1, :, : ] is the last of the backwards RNN\n",
        "        \n",
        "        #initial decoder hidden is final hidden state of the forwards and backwards \n",
        "        #  encoder RNNs fed through a linear layer\n",
        "        hidden = torch.tanh(self.fc(torch.cat((hidden[-2,:,:], hidden[-1,:,:]), dim = 1)))\n",
        "        \n",
        "        #outputs = [src len, batch size, hid dim * 2]\n",
        "        #hidden = [batch size, hid dim]\n",
        "        \n",
        "        return outputs, hidden"
      ]
    },
    {
      "cell_type": "markdown",
      "metadata": {
        "id": "3OoNcQ9z2O9R"
      },
      "source": [
        "### Attention\n",
        "\n",
        "The attention used here is additive attention which is defined by:\n",
        "\n",
        "$$e = v\\text{tanh}(W_hh + W_ss + b)$$\n",
        "\n",
        "Previously, we allowed this module to \"pay attention\" to padding tokens within the source sentence. However, using *masking*, we can force the attention to only be over non-padding elements.\n",
        "\n",
        "The `forward` method now takes a `mask` input. This is a `[batch size, source sentence length]` tensor that is 1 when the source sentence token is not a padding token, and 0 when it is a padding token. For example, if the source sentence is: `[\"hello\", \"how\", \"are\", \"you\", \"?\", `<pad>`, `<pad>`]`, then the mask would be `[1, 1, 1, 1, 1, 0, 0]`.\n",
        "\n",
        "We apply the mask after the attention has been calculated, but before it has been normalized by the `softmax` function. It is applied using `masked_fill`. This fills the tensor at each element where the first argument (`mask == 0`) is true, with the value given by the second argument (`-1e10`). In other words, it will take the un-normalized attention values, and change the attention values over padded elements to be `-1e10`. As these numbers will be miniscule compared to the other values they will become zero when passed through the `softmax` layer, ensuring no attention is payed to padding tokens in the source sentence."
      ]
    },
    {
      "cell_type": "code",
      "execution_count": 42,
      "metadata": {
        "id": "GKaC-2lt2O9R"
      },
      "outputs": [],
      "source": [
        "class Attention(nn.Module):\n",
        "    def __init__(self, hid_dim, variants):\n",
        "        super().__init__()\n",
        "        self.variants = variants\n",
        "        self.v = nn.Linear(hid_dim, 1, bias = False)\n",
        "        self.W = nn.Linear(hid_dim,     hid_dim) #for decoder\n",
        "        self.U = nn.Linear(hid_dim * 2, hid_dim) #for encoder outputs\n",
        "                \n",
        "    def forward(self, hidden, encoder_outputs, mask):\n",
        "        \n",
        "        #hidden = [batch size, hid dim]\n",
        "        #encoder_outputs = [src len, batch size, hid dim * 2]\n",
        "        \n",
        "        batch_size = encoder_outputs.shape[1]\n",
        "        src_len = encoder_outputs.shape[0]\n",
        "\n",
        "        encoder_outputs = encoder_outputs.permute(1, 0, 2)\n",
        "        #encoder_outputs = [batch size, src len, hid dim * 2]\n",
        "\n",
        "        if self.variants == 'additive': #work\n",
        "            #repeat decoder hidden state src_len times\n",
        "            hidden = hidden.unsqueeze(1).repeat(1, src_len, 1)\n",
        "            #hidden = [batch size, src len, hid dim]\n",
        "            \n",
        "            energy = torch.tanh(self.W(hidden) + self.U(encoder_outputs))\n",
        "            #energy = [batch size, src len, hid dim]\n",
        "            \n",
        "            attention = self.v(energy).squeeze(2)\n",
        "            #attention = [batch size, src len]\n",
        "            \n",
        "        elif self.variants == 'general': #work\n",
        "            hidden = hidden.unsqueeze(1).repeat(1, 1, 2)\n",
        "            #hidden = [batch size, 1, hid dim*2]\n",
        "            #encoder_outputs = [batch size, hid dim * 2, src len]\n",
        "\n",
        "            energy = torch.bmm(hidden, encoder_outputs.transpose(1, 2))\n",
        "            attention = energy.squeeze(1)\n",
        "            #attention = [batch size, src len]\n",
        "\n",
        "        elif self.variants == 'multiplicative':\n",
        "            wh = self.W(hidden).unsqueeze(1).repeat(1, 1, 2)\n",
        "            #wh = [batch size, 1, hid dim*2]\n",
        "            #encoder_outputs = [batch size, hid dim * 2, src len]\n",
        "\n",
        "            energy = torch.bmm(wh, encoder_outputs.transpose(1, 2))\n",
        "            attention = energy.squeeze(1)\n",
        "\n",
        "        #use masked_fill_ if you want in-place\n",
        "        attention = attention.masked_fill(mask, -1e10)\n",
        "        #attention = [batch size, src len]\n",
        "        return F.softmax(attention, dim = 1)"
      ]
    },
    {
      "cell_type": "markdown",
      "metadata": {
        "id": "VZXtw3Ja2O9R"
      },
      "source": [
        "Let's see how the masked_fill work, just so you have faith"
      ]
    },
    {
      "cell_type": "code",
      "execution_count": 43,
      "metadata": {
        "colab": {
          "base_uri": "https://localhost:8080/"
        },
        "id": "2dEEJDjc2O9R",
        "outputId": "c62c422c-558d-487e-a297-3c4d7a585bcf"
      },
      "outputs": [
        {
          "output_type": "stream",
          "name": "stdout",
          "text": [
            "tensor([[           9, -10000000000,            7,            2, -10000000000,\n",
            "         -10000000000],\n",
            "        [          99, -10000000000, -10000000000,            0,            8,\n",
            "                    9]])\n"
          ]
        }
      ],
      "source": [
        "#example of masked_fill\n",
        "#reall that 1 is pad_idx\n",
        "x = torch.tensor([ [9, 1, 7, 2, 1, 1], [99, 1, 1, 0, 8, 9] ])\n",
        "\n",
        "mask = (x == PAD_IDX)\n",
        "\n",
        "x.masked_fill_(mask, -1e10)\n",
        "print(x)"
      ]
    },
    {
      "cell_type": "markdown",
      "metadata": {
        "tags": [],
        "id": "wwCTM4AO2O9R"
      },
      "source": [
        "### Decoder\n",
        "\n",
        "The decoder only needs a few small changes. It needs to accept a mask over the source sentence and pass this to the attention module. As we want to view the values of attention during inference, we also return the attention tensor."
      ]
    },
    {
      "cell_type": "code",
      "execution_count": 44,
      "metadata": {
        "id": "KcDZ8sCq2O9R"
      },
      "outputs": [],
      "source": [
        "class Decoder(nn.Module):\n",
        "    def __init__(self, output_dim, emb_dim, hid_dim, dropout, attention):\n",
        "        super().__init__()\n",
        "\n",
        "        self.output_dim = output_dim\n",
        "        self.attention = attention\n",
        "        self.embedding = nn.Embedding(output_dim, emb_dim)\n",
        "        self.gru = nn.GRU((hid_dim * 2) + emb_dim, hid_dim)\n",
        "        self.fc = nn.Linear((hid_dim * 2) + hid_dim + emb_dim, output_dim)\n",
        "        self.dropout = nn.Dropout(dropout)\n",
        "        \n",
        "    def forward(self, input, hidden, encoder_outputs, mask):\n",
        "             \n",
        "        #input = [batch size]\n",
        "        #hidden = [batch size, hid dim]\n",
        "        #encoder_outputs = [src len, batch size, hid dim * 2]\n",
        "        #mask = [batch size, src len]\n",
        "        \n",
        "        input = input.unsqueeze(0)\n",
        "        #input = [1, batch size]\n",
        "        \n",
        "        embedded = self.dropout(self.embedding(input))\n",
        "        #embedded = [1, batch size, emb dim]\n",
        "        \n",
        "        a = self.attention(hidden, encoder_outputs, mask)\n",
        "        #a = [batch size, src len]\n",
        "        \n",
        "        a = a.unsqueeze(1)\n",
        "        #a = [batch size, 1, src len]\n",
        "        \n",
        "        encoder_outputs = encoder_outputs.permute(1, 0, 2)\n",
        "        #encoder_outputs = [batch size, src len, hid dim * 2]\n",
        "        \n",
        "        weighted = torch.bmm(a, encoder_outputs)\n",
        "        #weighted = [batch size, 1, hid dim * 2]\n",
        "        \n",
        "        weighted = weighted.permute(1, 0, 2)\n",
        "        #weighted = [1, batch size, hid dim * 2]\n",
        "        \n",
        "        rnn_input = torch.cat((embedded, weighted), dim = 2)\n",
        "        #rnn_input = [1, batch size, (hid dim * 2) + emb dim]\n",
        "            \n",
        "        output, hidden = self.gru(rnn_input, hidden.unsqueeze(0))\n",
        "        #output = [seq len, batch size, dec hid dim * n directions]\n",
        "        #hidden = [n layers * n directions, batch size, hid dim]\n",
        "        \n",
        "        #seq len, n layers and n directions will always be 1 in this decoder, therefore:\n",
        "        #output = [1, batch size, hid dim]\n",
        "        #hidden = [1, batch size, hid dim]\n",
        "        #this also means that output == hidden\n",
        "        assert (output == hidden).all()\n",
        "        \n",
        "        embedded = embedded.squeeze(0)\n",
        "        output = output.squeeze(0)\n",
        "        weighted = weighted.squeeze(0)\n",
        "        \n",
        "        prediction = self.fc(torch.cat((output, weighted, embedded), dim = 1))\n",
        "        #prediction = [batch size, output dim]\n",
        "        \n",
        "        return prediction, hidden.squeeze(0), a.squeeze(1)"
      ]
    },
    {
      "cell_type": "markdown",
      "metadata": {
        "id": "-Ie4qWcr2O9R"
      },
      "source": [
        "### Putting them together (become Seq2Seq!)\n",
        "\n",
        "The overarching seq2seq model also needs a few changes for packed padded sequences, masking and inference. \n",
        "\n",
        "We need to tell it what the indexes are for the pad token and also pass the source sentence lengths as input to the `forward` method.\n",
        "\n",
        "We use the pad token index to create the masks, by creating a mask tensor that is 1 wherever the source sentence is not equal to the pad token. This is all done within the `create_mask` function.\n",
        "\n",
        "The sequence lengths as needed to pass to the encoder to use packed padded sequences.\n",
        "\n",
        "The attention at each time-step is stored in the `attentions` "
      ]
    },
    {
      "cell_type": "code",
      "execution_count": 45,
      "metadata": {
        "id": "vXeP6thA2O9R"
      },
      "outputs": [],
      "source": [
        "class Seq2SeqPackedAttention(nn.Module):\n",
        "    def __init__(self, encoder, decoder, src_pad_idx, device):\n",
        "        super().__init__()\n",
        "        \n",
        "        self.encoder = encoder\n",
        "        self.decoder = decoder\n",
        "        self.src_pad_idx = src_pad_idx\n",
        "        self.device = device\n",
        "        \n",
        "    def create_mask(self, src):\n",
        "        mask = (src == self.src_pad_idx).permute(1, 0)  #permute so it's the same shape as attention\n",
        "        return mask\n",
        "        \n",
        "    def forward(self, src, src_len, trg, teacher_forcing_ratio = 0.5):\n",
        "        \n",
        "        #src = [src len, batch size]\n",
        "        #src_len = [batch size]\n",
        "        #trg = [trg len, batch size]\n",
        "        #teacher_forcing_ratio is probability to use teacher forcing\n",
        "        #e.g. if teacher_forcing_ratio is 0.75 we use teacher forcing 75% of the time\n",
        "                    \n",
        "        batch_size = src.shape[1]\n",
        "        trg_len = trg.shape[0]\n",
        "        trg_vocab_size = self.decoder.output_dim\n",
        "        \n",
        "        #tensor to store decoder outputs\n",
        "        outputs = torch.zeros(trg_len, batch_size, trg_vocab_size).to(self.device)\n",
        "        \n",
        "        #tensor to store attentiont outputs from decoder\n",
        "        attentions = torch.zeros(trg_len, batch_size, src.shape[0]).to(self.device)\n",
        "        \n",
        "        #encoder_outputs is all hidden states of the input sequence, back and forwards\n",
        "        #hidden is the final forward and backward hidden states, passed through a linear layer\n",
        "        encoder_outputs, hidden = self.encoder(src, src_len)\n",
        "                \n",
        "        #first input to the decoder is the <sos> tokens\n",
        "        input_ = trg[0,:]\n",
        "        \n",
        "        mask = self.create_mask(src)\n",
        "        #mask = [batch size, src len]\n",
        "                \n",
        "        for t in range(1, trg_len):\n",
        "            \n",
        "            #insert input token embedding, previous hidden state, all encoder hidden states \n",
        "            #  and mask\n",
        "            #receive output tensor (predictions) and new hidden state\n",
        "            output, hidden, attention = self.decoder(input_, hidden, encoder_outputs, mask)\n",
        "            #output    = [batch size, output dim]\n",
        "            #hidden    = [batch size, hid dim]\n",
        "            #attention = [batch size, src len]\n",
        "            \n",
        "            #place predictions in a tensor holding predictions for each token\n",
        "            outputs[t] = output\n",
        "            \n",
        "            #place attentions in a tensor holding attention for each token\n",
        "            attentions[t] = attention\n",
        "            \n",
        "            #decide if we are going to use teacher forcing or not\n",
        "            teacher_force = random.random() < teacher_forcing_ratio\n",
        "            \n",
        "            #get the highest predicted token from our predictions\n",
        "            top1 = output.argmax(1) \n",
        "            \n",
        "            #if teacher forcing, use actual next token as next input\n",
        "            #if not, use predicted token\n",
        "            input_ = trg[t] if teacher_force else top1\n",
        "            \n",
        "        return outputs, attentions"
      ]
    },
    {
      "cell_type": "markdown",
      "metadata": {
        "tags": [],
        "id": "vyQ4M3Y22O9S"
      },
      "source": [
        "## 6. Training\n",
        "#### General Attention\n",
        "We use a simplified version of the weight initialization scheme used in the paper. Here, we will initialize all biases to zero and all weights from $\\mathcal{N}(0, 0.01)$."
      ]
    },
    {
      "cell_type": "code",
      "execution_count": 46,
      "metadata": {
        "id": "XOs8Zvpo2O9S"
      },
      "outputs": [],
      "source": [
        "# def initialize_weights(m):\n",
        "#     for name, param in m.named_parameters():\n",
        "#         if 'weight' in name:\n",
        "#             nn.init.normal_(param.data, mean=0, std=0.01)\n",
        "#         else:\n",
        "#             nn.init.constant_(param.data, 0)"
      ]
    },
    {
      "cell_type": "code",
      "execution_count": 47,
      "metadata": {
        "id": "3prAu-6b2O9S"
      },
      "outputs": [],
      "source": [
        "# input_dim   = len(vocab_transform[SRC_LANGUAGE])\n",
        "# output_dim  = len(vocab_transform[TRG_LANGUAGE])\n",
        "# emb_dim     = 256  \n",
        "# hid_dim     = 512  \n",
        "# dropout     = 0.5\n",
        "# SRC_PAD_IDX = PAD_IDX\n",
        "\n",
        "# attn = Attention(hid_dim, variants='general')\n",
        "# enc  = Encoder(input_dim,  emb_dim,  hid_dim, dropout)\n",
        "# dec  = Decoder(output_dim, emb_dim,  hid_dim, dropout, attn)\n",
        "\n",
        "# model = Seq2SeqPackedAttention(enc, dec, SRC_PAD_IDX, device).to(device)\n",
        "# model.apply(initialize_weights)"
      ]
    },
    {
      "cell_type": "code",
      "execution_count": 48,
      "metadata": {
        "id": "RanE0zGQ2O9S"
      },
      "outputs": [],
      "source": [
        "# #we can print the complexity by the number of parameters\n",
        "# def count_parameters(model):\n",
        "#     params = [p.numel() for p in model.parameters() if p.requires_grad]\n",
        "#     for item in params:\n",
        "#         print(f'{item:>6}')\n",
        "#     print(f'______\\n{sum(params):>6}')\n",
        "    \n",
        "# count_parameters(model)"
      ]
    },
    {
      "cell_type": "markdown",
      "metadata": {
        "id": "TJN5zYUu2O9S"
      },
      "source": [
        "Our loss function calculates the average loss per token, however by passing the index of the `<pad>` token as the `ignore_index` argument we ignore the loss whenever the target token is a padding token. "
      ]
    },
    {
      "cell_type": "code",
      "execution_count": 49,
      "metadata": {
        "id": "6SX5KLZa2O9S"
      },
      "outputs": [],
      "source": [
        "# import torch.optim as optim\n",
        "\n",
        "# lr = 0.001\n",
        "\n",
        "# #training hyperparameters\n",
        "# optimizer = optim.Adam(model.parameters(), lr=lr)\n",
        "# criterion = nn.CrossEntropyLoss(ignore_index = PAD_IDX) #combine softmax with cross entropy"
      ]
    },
    {
      "cell_type": "markdown",
      "metadata": {
        "id": "1knU_y5y2O9S"
      },
      "source": [
        "The training is very similar to part 1."
      ]
    },
    {
      "cell_type": "code",
      "execution_count": 50,
      "metadata": {
        "id": "wnkRb1at2O9S"
      },
      "outputs": [],
      "source": [
        "# def train(model, loader, optimizer, criterion, clip, loader_length):\n",
        "    \n",
        "#     model.train()\n",
        "#     epoch_loss = 0\n",
        "    \n",
        "#     for src, src_length, trg in loader:\n",
        "        \n",
        "#         src = src.to(device)\n",
        "#         trg = trg.to(device)\n",
        "        \n",
        "#         optimizer.zero_grad()\n",
        "        \n",
        "#         output, attentions = model(src, src_length, trg)\n",
        "        \n",
        "#         #trg    = [trg len, batch size]\n",
        "#         #output = [trg len, batch size, output dim]\n",
        "#         output_dim = output.shape[-1]\n",
        "        \n",
        "#         #the loss function only works on 2d inputs with 1d targets thus we need to flatten each of them\n",
        "#         output = output[1:].view(-1, output_dim)\n",
        "#         trg    = trg[1:].view(-1)\n",
        "#         #trg    = [(trg len - 1) * batch size]\n",
        "#         #output = [(trg len - 1) * batch size, output dim]\n",
        "        \n",
        "#         loss = criterion(output, trg)\n",
        "        \n",
        "#         loss.backward()\n",
        "        \n",
        "#         #clip the gradients to prevent them from exploding (a common issue in RNNs)\n",
        "#         torch.nn.utils.clip_grad_norm_(model.parameters(), clip)\n",
        "        \n",
        "#         optimizer.step()\n",
        "        \n",
        "#         epoch_loss += loss.item()\n",
        "        \n",
        "#     return epoch_loss / loader_length"
      ]
    },
    {
      "cell_type": "markdown",
      "metadata": {
        "id": "-WO97upc2O9S"
      },
      "source": [
        "Our evaluation loop is similar to our training loop, however as we aren't updating any parameters we don't need to pass an optimizer or a clip value."
      ]
    },
    {
      "cell_type": "code",
      "execution_count": 51,
      "metadata": {
        "id": "kjYYOYuE2O9S"
      },
      "outputs": [],
      "source": [
        "# def evaluate(model, loader, criterion, loader_length):\n",
        "        \n",
        "#     #turn off dropout (and batch norm if used)\n",
        "#     model.eval()\n",
        "    \n",
        "#     epoch_loss = 0\n",
        "    \n",
        "#     with torch.no_grad():\n",
        "    \n",
        "#         for src, src_length, trg in loader:\n",
        "        \n",
        "#             src = src.to(device)\n",
        "#             trg = trg.to(device)\n",
        "\n",
        "#             output, attentions = model(src, src_length, trg, 0) #turn off teacher forcing\n",
        "\n",
        "#             #trg    = [trg len, batch size]\n",
        "#             #output = [trg len, batch size, output dim]\n",
        "\n",
        "#             output_dim = output.shape[-1]\n",
        "            \n",
        "#             output = output[1:].view(-1, output_dim)\n",
        "#             trg = trg[1:].view(-1)\n",
        "\n",
        "#             #trg    = [(trg len - 1) * batch size]\n",
        "#             #output = [(trg len - 1) * batch size, output dim]\n",
        "\n",
        "#             loss = criterion(output, trg)\n",
        "            \n",
        "#             epoch_loss += loss.item()\n",
        "        \n",
        "#     return epoch_loss / loader_length"
      ]
    },
    {
      "cell_type": "markdown",
      "metadata": {
        "id": "N23h9Kww2O9S"
      },
      "source": [
        "### Putting everything together"
      ]
    },
    {
      "cell_type": "code",
      "execution_count": 52,
      "metadata": {
        "id": "kcAiLl-I2O9T"
      },
      "outputs": [],
      "source": [
        "# def epoch_time(start_time, end_time):\n",
        "#     elapsed_time = end_time - start_time\n",
        "#     elapsed_mins = int(elapsed_time / 60)\n",
        "#     elapsed_secs = int(elapsed_time - (elapsed_mins * 60))\n",
        "#     return elapsed_mins, elapsed_secs"
      ]
    },
    {
      "cell_type": "code",
      "execution_count": 53,
      "metadata": {
        "id": "9EMmBR_T2O9T"
      },
      "outputs": [],
      "source": [
        "# best_valid_loss = float('inf')\n",
        "# num_epochs = 5\n",
        "# clip       = 1\n",
        "\n",
        "# save_path = f'general_model.pt'\n",
        "\n",
        "# train_losses = []\n",
        "# valid_losses = []\n",
        "\n",
        "# for epoch in range(num_epochs):\n",
        "    \n",
        "#     start_time = time.time()\n",
        "\n",
        "#     train_loss = train(model, train_loader, optimizer, criterion, clip, train_loader_length)\n",
        "#     valid_loss = evaluate(model, valid_loader, criterion, val_loader_length)\n",
        "    \n",
        "#     #for plotting\n",
        "#     train_losses.append(train_loss)\n",
        "#     valid_losses.append(valid_loss)\n",
        "    \n",
        "#     end_time = time.time()\n",
        "    \n",
        "#     epoch_mins, epoch_secs = epoch_time(start_time, end_time)\n",
        "\n",
        "    \n",
        "#     if valid_loss < best_valid_loss:\n",
        "#         best_valid_loss = valid_loss\n",
        "#         torch.save(model.state_dict(), save_path)\n",
        "    \n",
        "#     print(f'Epoch: {epoch+1:02} | Time: {epoch_mins}m {epoch_secs}s')\n",
        "#     print(f'\\tTrain Loss: {train_loss:.3f} | Train PPL: {math.exp(train_loss):7.3f}')\n",
        "#     print(f'\\t Val. Loss: {valid_loss:.3f} |  Val. PPL: {math.exp(valid_loss):7.3f}')\n",
        "    \n",
        "#     #lower perplexity is better"
      ]
    },
    {
      "cell_type": "code",
      "execution_count": 54,
      "metadata": {
        "id": "OU_DzxdB2O9T"
      },
      "outputs": [],
      "source": [
        "# import matplotlib.pyplot as plt\n",
        "# fig = plt.figure(figsize=(5, 3))\n",
        "# ax = fig.add_subplot(1, 1, 1)\n",
        "# ax.plot(train_losses, label = 'train loss')\n",
        "# ax.plot(valid_losses, label = 'valid loss')\n",
        "# plt.legend()\n",
        "# ax.set_xlabel('updates')\n",
        "# ax.set_ylabel('loss')"
      ]
    },
    {
      "cell_type": "code",
      "execution_count": 55,
      "metadata": {
        "id": "QHu5b7DT2O9T"
      },
      "outputs": [],
      "source": [
        "# model.load_state_dict(torch.load(save_path))\n",
        "# test_loss = evaluate(model, test_loader, criterion, test_loader_length)\n",
        "\n",
        "# print(f'| Test Loss: {test_loss:.3f} | Test PPL: {math.exp(test_loss):7.3f} |')"
      ]
    },
    {
      "cell_type": "code",
      "execution_count": 56,
      "metadata": {
        "id": "ZREl1orC2O9T"
      },
      "outputs": [],
      "source": [
        "# model"
      ]
    },
    {
      "cell_type": "markdown",
      "metadata": {
        "tags": [],
        "id": "XDZ4ekaV2O9T"
      },
      "source": [
        "#### Multiplicative Attention\n",
        "We use a simplified version of the weight initialization scheme used in the paper. Here, we will initialize all biases to zero and all weights from $\\mathcal{N}(0, 0.01)$."
      ]
    },
    {
      "cell_type": "code",
      "execution_count": 57,
      "metadata": {
        "id": "dUyGJLWN2O9T"
      },
      "outputs": [],
      "source": [
        "# def initialize_weights(m):\n",
        "#     for name, param in m.named_parameters():\n",
        "#         if 'weight' in name:\n",
        "#             nn.init.normal_(param.data, mean=0, std=0.01)\n",
        "#         else:\n",
        "#             nn.init.constant_(param.data, 0)"
      ]
    },
    {
      "cell_type": "code",
      "execution_count": 58,
      "metadata": {
        "id": "J_WZF_XW2O9T"
      },
      "outputs": [],
      "source": [
        "# input_dim   = len(vocab_transform[SRC_LANGUAGE])\n",
        "# output_dim  = len(vocab_transform[TRG_LANGUAGE])\n",
        "# emb_dim     = 256  \n",
        "# hid_dim     = 512  \n",
        "# dropout     = 0.5\n",
        "# SRC_PAD_IDX = PAD_IDX\n",
        "\n",
        "# attn = Attention(hid_dim, variants='multiplicative')\n",
        "# enc  = Encoder(input_dim,  emb_dim,  hid_dim, dropout)\n",
        "# dec  = Decoder(output_dim, emb_dim,  hid_dim, dropout, attn)\n",
        "\n",
        "# model = Seq2SeqPackedAttention(enc, dec, SRC_PAD_IDX, device).to(device)\n",
        "# model.apply(initialize_weights)"
      ]
    },
    {
      "cell_type": "code",
      "execution_count": 59,
      "metadata": {
        "id": "Qq-s4fex2O9T"
      },
      "outputs": [],
      "source": [
        "# #we can print the complexity by the number of parameters\n",
        "# def count_parameters(model):\n",
        "#     params = [p.numel() for p in model.parameters() if p.requires_grad]\n",
        "#     for item in params:\n",
        "#         print(f'{item:>6}')\n",
        "#     print(f'______\\n{sum(params):>6}')\n",
        "    \n",
        "# count_parameters(model)"
      ]
    },
    {
      "cell_type": "markdown",
      "metadata": {
        "id": "7HOEcJSF2O9T"
      },
      "source": [
        "Our loss function calculates the average loss per token, however by passing the index of the `<pad>` token as the `ignore_index` argument we ignore the loss whenever the target token is a padding token. "
      ]
    },
    {
      "cell_type": "code",
      "execution_count": 60,
      "metadata": {
        "id": "Z2ybhagI2O9T"
      },
      "outputs": [],
      "source": [
        "# import torch.optim as optim\n",
        "\n",
        "# lr = 0.001\n",
        "\n",
        "# #training hyperparameters\n",
        "# optimizer = optim.Adam(model.parameters(), lr=lr)\n",
        "# criterion = nn.CrossEntropyLoss(ignore_index = PAD_IDX) #combine softmax with cross entropy"
      ]
    },
    {
      "cell_type": "code",
      "execution_count": 61,
      "metadata": {
        "id": "62eUhyJq2O9T"
      },
      "outputs": [],
      "source": [
        "# def train(model, loader, optimizer, criterion, clip, loader_length):\n",
        "    \n",
        "#     model.train()\n",
        "#     epoch_loss = 0\n",
        "    \n",
        "#     for src, src_length, trg in loader:\n",
        "        \n",
        "#         src = src.to(device)\n",
        "#         trg = trg.to(device)\n",
        "        \n",
        "#         optimizer.zero_grad()\n",
        "        \n",
        "#         output, attentions = model(src, src_length, trg)\n",
        "        \n",
        "#         #trg    = [trg len, batch size]\n",
        "#         #output = [trg len, batch size, output dim]\n",
        "#         output_dim = output.shape[-1]\n",
        "        \n",
        "#         #the loss function only works on 2d inputs with 1d targets thus we need to flatten each of them\n",
        "#         output = output[1:].view(-1, output_dim)\n",
        "#         trg    = trg[1:].view(-1)\n",
        "#         #trg    = [(trg len - 1) * batch size]\n",
        "#         #output = [(trg len - 1) * batch size, output dim]\n",
        "        \n",
        "#         loss = criterion(output, trg)\n",
        "        \n",
        "#         loss.backward()\n",
        "        \n",
        "#         #clip the gradients to prevent them from exploding (a common issue in RNNs)\n",
        "#         torch.nn.utils.clip_grad_norm_(model.parameters(), clip)\n",
        "        \n",
        "#         optimizer.step()\n",
        "        \n",
        "#         epoch_loss += loss.item()\n",
        "        \n",
        "#     return epoch_loss / loader_length"
      ]
    },
    {
      "cell_type": "markdown",
      "metadata": {
        "id": "jDGmwZ_x2O9U"
      },
      "source": [
        "Our evaluation loop is similar to our training loop, however as we aren't updating any parameters we don't need to pass an optimizer or a clip value."
      ]
    },
    {
      "cell_type": "code",
      "execution_count": 62,
      "metadata": {
        "id": "B0X-eWa82O9U"
      },
      "outputs": [],
      "source": [
        "# def evaluate(model, loader, criterion, loader_length):\n",
        "        \n",
        "#     #turn off dropout (and batch norm if used)\n",
        "#     model.eval()\n",
        "    \n",
        "#     epoch_loss = 0\n",
        "    \n",
        "#     with torch.no_grad():\n",
        "    \n",
        "#         for src, src_length, trg in loader:\n",
        "        \n",
        "#             src = src.to(device)\n",
        "#             trg = trg.to(device)\n",
        "\n",
        "#             output, attentions = model(src, src_length, trg, 0) #turn off teacher forcing\n",
        "\n",
        "#             #trg    = [trg len, batch size]\n",
        "#             #output = [trg len, batch size, output dim]\n",
        "\n",
        "#             output_dim = output.shape[-1]\n",
        "            \n",
        "#             output = output[1:].view(-1, output_dim)\n",
        "#             trg = trg[1:].view(-1)\n",
        "\n",
        "#             #trg    = [(trg len - 1) * batch size]\n",
        "#             #output = [(trg len - 1) * batch size, output dim]\n",
        "\n",
        "#             loss = criterion(output, trg)\n",
        "            \n",
        "#             epoch_loss += loss.item()\n",
        "        \n",
        "#     return epoch_loss / loader_length"
      ]
    },
    {
      "cell_type": "code",
      "execution_count": 63,
      "metadata": {
        "id": "cVz25T5z2O9U"
      },
      "outputs": [],
      "source": [
        "# best_valid_loss = float('inf')\n",
        "# num_epochs = 5\n",
        "# clip       = 1\n",
        "\n",
        "# save_path = f'multiplicative_model.pt'\n",
        "\n",
        "# train_losses = []\n",
        "# valid_losses = []\n",
        "\n",
        "# for epoch in range(num_epochs):\n",
        "    \n",
        "#     start_time = time.time()\n",
        "\n",
        "#     train_loss = train(model, train_loader, optimizer, criterion, clip, train_loader_length)\n",
        "#     valid_loss = evaluate(model, valid_loader, criterion, val_loader_length)\n",
        "    \n",
        "#     #for plotting\n",
        "#     train_losses.append(train_loss)\n",
        "#     valid_losses.append(valid_loss)\n",
        "    \n",
        "#     end_time = time.time()\n",
        "    \n",
        "#     epoch_mins, epoch_secs = epoch_time(start_time, end_time)\n",
        "\n",
        "    \n",
        "#     if valid_loss < best_valid_loss:\n",
        "#         best_valid_loss = valid_loss\n",
        "#         torch.save(model.state_dict(), save_path)\n",
        "    \n",
        "#     print(f'Epoch: {epoch+1:02} | Time: {epoch_mins}m {epoch_secs}s')\n",
        "#     print(f'\\tTrain Loss: {train_loss:.3f} | Train PPL: {math.exp(train_loss):7.3f}')\n",
        "#     print(f'\\t Val. Loss: {valid_loss:.3f} |  Val. PPL: {math.exp(valid_loss):7.3f}')\n",
        "    \n",
        "#     #lower perplexity is better"
      ]
    },
    {
      "cell_type": "code",
      "execution_count": 64,
      "metadata": {
        "id": "lYN4s6Tg2O9U"
      },
      "outputs": [],
      "source": [
        "# import matplotlib.pyplot as plt\n",
        "# fig = plt.figure(figsize=(5, 3))\n",
        "# ax = fig.add_subplot(1, 1, 1)\n",
        "# ax.plot(train_losses, label = 'train loss')\n",
        "# ax.plot(valid_losses, label = 'valid loss')\n",
        "# plt.legend()\n",
        "# ax.set_xlabel('updates')\n",
        "# ax.set_ylabel('loss')"
      ]
    },
    {
      "cell_type": "code",
      "execution_count": 65,
      "metadata": {
        "id": "EA0SK9Kk2O9U"
      },
      "outputs": [],
      "source": [
        "# model.load_state_dict(torch.load(save_path))\n",
        "# test_loss = evaluate(model, test_loader, criterion, test_loader_length)\n",
        "\n",
        "# print(f'| Test Loss: {test_loss:.3f} | Test PPL: {math.exp(test_loss):7.3f} |')"
      ]
    },
    {
      "cell_type": "code",
      "execution_count": 66,
      "metadata": {
        "id": "xWKJyHdJ2O9U"
      },
      "outputs": [],
      "source": [
        "# model"
      ]
    },
    {
      "cell_type": "markdown",
      "metadata": {
        "tags": [],
        "id": "bFZTzIWc2O9U"
      },
      "source": [
        "#### Addictive Attention\n",
        "We use a simplified version of the weight initialization scheme used in the paper. Here, we will initialize all biases to zero and all weights from $\\mathcal{N}(0, 0.01)$."
      ]
    },
    {
      "cell_type": "code",
      "execution_count": 67,
      "metadata": {
        "id": "BnldV9AB2O9U"
      },
      "outputs": [],
      "source": [
        "def initialize_weights(m):\n",
        "    for name, param in m.named_parameters():\n",
        "        if 'weight' in name:\n",
        "            nn.init.normal_(param.data, mean=0, std=0.01)\n",
        "        else:\n",
        "            nn.init.constant_(param.data, 0)"
      ]
    },
    {
      "cell_type": "code",
      "execution_count": 68,
      "metadata": {
        "colab": {
          "base_uri": "https://localhost:8080/"
        },
        "id": "FHA3iDZZ2O9U",
        "outputId": "993da195-e651-4cb7-9117-822190fbdd57"
      },
      "outputs": [
        {
          "output_type": "execute_result",
          "data": {
            "text/plain": [
              "Seq2SeqPackedAttention(\n",
              "  (encoder): Encoder(\n",
              "    (embedding): Embedding(2732, 256)\n",
              "    (rnn): GRU(256, 512, bidirectional=True)\n",
              "    (fc): Linear(in_features=1024, out_features=512, bias=True)\n",
              "    (dropout): Dropout(p=0.5, inplace=False)\n",
              "  )\n",
              "  (decoder): Decoder(\n",
              "    (attention): Attention(\n",
              "      (v): Linear(in_features=512, out_features=1, bias=False)\n",
              "      (W): Linear(in_features=512, out_features=512, bias=True)\n",
              "      (U): Linear(in_features=1024, out_features=512, bias=True)\n",
              "    )\n",
              "    (embedding): Embedding(2906, 256)\n",
              "    (gru): GRU(1280, 512)\n",
              "    (fc): Linear(in_features=1792, out_features=2906, bias=True)\n",
              "    (dropout): Dropout(p=0.5, inplace=False)\n",
              "  )\n",
              ")"
            ]
          },
          "metadata": {},
          "execution_count": 68
        }
      ],
      "source": [
        "input_dim   = len(vocab_transform[SRC_LANGUAGE])\n",
        "output_dim  = len(vocab_transform[TRG_LANGUAGE])\n",
        "emb_dim     = 256  \n",
        "hid_dim     = 512  \n",
        "dropout     = 0.5\n",
        "SRC_PAD_IDX = PAD_IDX\n",
        "\n",
        "attn = Attention(hid_dim, variants='additive')\n",
        "enc  = Encoder(input_dim,  emb_dim,  hid_dim, dropout)\n",
        "dec  = Decoder(output_dim, emb_dim,  hid_dim, dropout, attn)\n",
        "\n",
        "model_additive = Seq2SeqPackedAttention(enc, dec, SRC_PAD_IDX, device).to(device)\n",
        "model_additive.apply(initialize_weights)"
      ]
    },
    {
      "cell_type": "code",
      "execution_count": 69,
      "metadata": {
        "colab": {
          "base_uri": "https://localhost:8080/"
        },
        "id": "z9dT1Aia2O9U",
        "outputId": "2461e4c2-2540-4c33-c5f2-8561dac5ec3f"
      },
      "outputs": [
        {
          "output_type": "stream",
          "name": "stdout",
          "text": [
            "699392\n",
            "393216\n",
            "786432\n",
            "  1536\n",
            "  1536\n",
            "393216\n",
            "786432\n",
            "  1536\n",
            "  1536\n",
            "524288\n",
            "   512\n",
            "   512\n",
            "262144\n",
            "   512\n",
            "524288\n",
            "   512\n",
            "743936\n",
            "1966080\n",
            "786432\n",
            "  1536\n",
            "  1536\n",
            "5207552\n",
            "  2906\n",
            "______\n",
            "13087578\n"
          ]
        }
      ],
      "source": [
        "#we can print the complexity by the number of parameters\n",
        "def count_parameters(model):\n",
        "    params = [p.numel() for p in model.parameters() if p.requires_grad]\n",
        "    for item in params:\n",
        "        print(f'{item:>6}')\n",
        "    print(f'______\\n{sum(params):>6}')\n",
        "    \n",
        "count_parameters(model_additive)"
      ]
    },
    {
      "cell_type": "code",
      "execution_count": 70,
      "metadata": {
        "id": "p_Wxc6yV2O9U"
      },
      "outputs": [],
      "source": [
        "import torch.optim as optim\n",
        "\n",
        "lr = 0.001\n",
        "\n",
        "#training hyperparameters\n",
        "optimizer = optim.Adam(model_additive.parameters(), lr=lr)\n",
        "criterion = nn.CrossEntropyLoss(ignore_index = PAD_IDX) #combine softmax with cross entropy"
      ]
    },
    {
      "cell_type": "code",
      "execution_count": 71,
      "metadata": {
        "id": "BcBAroTA2O9V"
      },
      "outputs": [],
      "source": [
        "def train(model, loader, optimizer, criterion, clip, loader_length):\n",
        "    \n",
        "    model.train()\n",
        "    epoch_loss = 0\n",
        "    \n",
        "    for src, src_length, trg in loader:\n",
        "        \n",
        "        src = src.to(device)\n",
        "        trg = trg.to(device)\n",
        "        \n",
        "        optimizer.zero_grad()\n",
        "        \n",
        "        output, attentions = model(src, src_length, trg)\n",
        "        \n",
        "        #trg    = [trg len, batch size]\n",
        "        #output = [trg len, batch size, output dim]\n",
        "        output_dim = output.shape[-1]\n",
        "        \n",
        "        #the loss function only works on 2d inputs with 1d targets thus we need to flatten each of them\n",
        "        output = output[1:].view(-1, output_dim)\n",
        "        trg    = trg[1:].view(-1)\n",
        "        #trg    = [(trg len - 1) * batch size]\n",
        "        #output = [(trg len - 1) * batch size, output dim]\n",
        "        \n",
        "        loss = criterion(output, trg)\n",
        "        \n",
        "        loss.backward()\n",
        "        \n",
        "        #clip the gradients to prevent them from exploding (a common issue in RNNs)\n",
        "        torch.nn.utils.clip_grad_norm_(model.parameters(), clip)\n",
        "        \n",
        "        optimizer.step()\n",
        "        \n",
        "        epoch_loss += loss.item()\n",
        "        \n",
        "    return epoch_loss / loader_length"
      ]
    },
    {
      "cell_type": "code",
      "execution_count": 72,
      "metadata": {
        "id": "PbeYGBnE2O9V"
      },
      "outputs": [],
      "source": [
        "def evaluate(model, loader, criterion, loader_length):\n",
        "        \n",
        "    #turn off dropout (and batch norm if used)\n",
        "    model.eval()\n",
        "    \n",
        "    epoch_loss = 0\n",
        "    \n",
        "    with torch.no_grad():\n",
        "    \n",
        "        for src, src_length, trg in loader:\n",
        "        \n",
        "            src = src.to(device)\n",
        "            trg = trg.to(device)\n",
        "\n",
        "            output, attentions = model(src, src_length, trg, 0) #turn off teacher forcing\n",
        "\n",
        "            #trg    = [trg len, batch size]\n",
        "            #output = [trg len, batch size, output dim]\n",
        "\n",
        "            output_dim = output.shape[-1]\n",
        "            \n",
        "            output = output[1:].view(-1, output_dim)\n",
        "            trg = trg[1:].view(-1)\n",
        "\n",
        "            #trg    = [(trg len - 1) * batch size]\n",
        "            #output = [(trg len - 1) * batch size, output dim]\n",
        "\n",
        "            loss = criterion(output, trg)\n",
        "            \n",
        "            epoch_loss += loss.item()\n",
        "        \n",
        "    return epoch_loss / loader_length"
      ]
    },
    {
      "cell_type": "code",
      "execution_count": 73,
      "metadata": {
        "id": "aaH74Xzv2O9V"
      },
      "outputs": [],
      "source": [
        "def epoch_time(start_time, end_time):\n",
        "    elapsed_time = end_time - start_time\n",
        "    elapsed_mins = int(elapsed_time / 60)\n",
        "    elapsed_secs = int(elapsed_time - (elapsed_mins * 60))\n",
        "    return elapsed_mins, elapsed_secs"
      ]
    },
    {
      "cell_type": "code",
      "execution_count": 74,
      "metadata": {
        "colab": {
          "base_uri": "https://localhost:8080/"
        },
        "id": "xICpaA2A2O9V",
        "outputId": "48141611-003e-40c2-a403-ba6b06d183ef"
      },
      "outputs": [
        {
          "output_type": "stream",
          "name": "stdout",
          "text": [
            "Epoch: 01 | Time: 0m 29s\n",
            "\tTrain Loss: 6.424 | Train PPL: 616.689\n",
            "\t Val. Loss: 5.611 |  Val. PPL: 273.540\n",
            "Epoch: 02 | Time: 0m 29s\n",
            "\tTrain Loss: 5.808 | Train PPL: 332.999\n",
            "\t Val. Loss: 5.527 |  Val. PPL: 251.384\n",
            "Epoch: 03 | Time: 0m 28s\n",
            "\tTrain Loss: 5.607 | Train PPL: 272.280\n",
            "\t Val. Loss: 5.466 |  Val. PPL: 236.591\n",
            "Epoch: 04 | Time: 0m 28s\n",
            "\tTrain Loss: 5.385 | Train PPL: 218.051\n",
            "\t Val. Loss: 5.369 |  Val. PPL: 214.704\n",
            "Epoch: 05 | Time: 0m 28s\n",
            "\tTrain Loss: 5.184 | Train PPL: 178.326\n",
            "\t Val. Loss: 5.373 |  Val. PPL: 215.491\n",
            "Epoch: 06 | Time: 0m 28s\n",
            "\tTrain Loss: 5.005 | Train PPL: 149.119\n",
            "\t Val. Loss: 5.303 |  Val. PPL: 200.927\n",
            "Epoch: 07 | Time: 0m 28s\n",
            "\tTrain Loss: 4.790 | Train PPL: 120.345\n",
            "\t Val. Loss: 5.332 |  Val. PPL: 206.850\n",
            "Epoch: 08 | Time: 0m 27s\n",
            "\tTrain Loss: 4.603 | Train PPL:  99.823\n",
            "\t Val. Loss: 5.312 |  Val. PPL: 202.755\n",
            "Epoch: 09 | Time: 0m 28s\n",
            "\tTrain Loss: 4.413 | Train PPL:  82.492\n",
            "\t Val. Loss: 5.342 |  Val. PPL: 208.888\n",
            "Epoch: 10 | Time: 0m 28s\n",
            "\tTrain Loss: 4.185 | Train PPL:  65.725\n",
            "\t Val. Loss: 5.319 |  Val. PPL: 204.137\n",
            "Epoch: 11 | Time: 0m 27s\n",
            "\tTrain Loss: 4.000 | Train PPL:  54.614\n",
            "\t Val. Loss: 5.368 |  Val. PPL: 214.416\n",
            "Epoch: 12 | Time: 0m 28s\n",
            "\tTrain Loss: 3.822 | Train PPL:  45.688\n",
            "\t Val. Loss: 5.368 |  Val. PPL: 214.393\n",
            "Epoch: 13 | Time: 0m 29s\n",
            "\tTrain Loss: 3.629 | Train PPL:  37.680\n",
            "\t Val. Loss: 5.424 |  Val. PPL: 226.837\n",
            "Epoch: 14 | Time: 0m 28s\n",
            "\tTrain Loss: 3.460 | Train PPL:  31.809\n",
            "\t Val. Loss: 5.448 |  Val. PPL: 232.333\n",
            "Epoch: 15 | Time: 0m 28s\n",
            "\tTrain Loss: 3.316 | Train PPL:  27.557\n",
            "\t Val. Loss: 5.465 |  Val. PPL: 236.256\n"
          ]
        }
      ],
      "source": [
        "best_valid_loss = float('inf')\n",
        "num_epochs = 15\n",
        "clip       = 1\n",
        "\n",
        "save_path = f'additive_model.pt'\n",
        "\n",
        "train_losses = []\n",
        "valid_losses = []\n",
        "\n",
        "for epoch in range(num_epochs):\n",
        "    \n",
        "    start_time = time.time()\n",
        "\n",
        "    train_loss = train(model_additive, train_loader, optimizer, criterion, clip, train_loader_length)\n",
        "    valid_loss = evaluate(model_additive, valid_loader, criterion, val_loader_length)\n",
        "    \n",
        "    #for plotting\n",
        "    train_losses.append(train_loss)\n",
        "    valid_losses.append(valid_loss)\n",
        "    \n",
        "    end_time = time.time()\n",
        "    \n",
        "    epoch_mins, epoch_secs = epoch_time(start_time, end_time)\n",
        "\n",
        "    \n",
        "    if valid_loss < best_valid_loss:\n",
        "        best_valid_loss = valid_loss\n",
        "        torch.save(model_additive.state_dict(), save_path)\n",
        "    \n",
        "    print(f'Epoch: {epoch+1:02} | Time: {epoch_mins}m {epoch_secs}s')\n",
        "    print(f'\\tTrain Loss: {train_loss:.3f} | Train PPL: {math.exp(train_loss):7.3f}')\n",
        "    print(f'\\t Val. Loss: {valid_loss:.3f} |  Val. PPL: {math.exp(valid_loss):7.3f}')\n",
        "    \n",
        "    #lower perplexity is better"
      ]
    },
    {
      "cell_type": "code",
      "execution_count": 75,
      "metadata": {
        "colab": {
          "base_uri": "https://localhost:8080/",
          "height": 242
        },
        "id": "fLJnB31h2O9V",
        "outputId": "e82bbfab-82c5-4486-8b40-1d24c772c119"
      },
      "outputs": [
        {
          "output_type": "execute_result",
          "data": {
            "text/plain": [
              "Text(0, 0.5, 'loss')"
            ]
          },
          "metadata": {},
          "execution_count": 75
        },
        {
          "output_type": "display_data",
          "data": {
            "text/plain": [
              "<Figure size 360x216 with 1 Axes>"
            ],
            "image/png": "[encoded data removed]"
          },
          "metadata": {
            "needs_background": "light"
          }
        }
      ],
      "source": [
        "import matplotlib.pyplot as plt\n",
        "fig = plt.figure(figsize=(5, 3))\n",
        "ax = fig.add_subplot(1, 1, 1)\n",
        "ax.plot(train_losses, label = 'train loss')\n",
        "ax.plot(valid_losses, label = 'valid loss')\n",
        "plt.legend()\n",
        "ax.set_xlabel('updates')\n",
        "ax.set_ylabel('loss')"
      ]
    },
    {
      "cell_type": "code",
      "execution_count": 76,
      "metadata": {
        "colab": {
          "base_uri": "https://localhost:8080/"
        },
        "id": "cZtjU-aW2O9V",
        "outputId": "21678ca7-6267-4e36-9e4c-228f157d9860"
      },
      "outputs": [
        {
          "output_type": "stream",
          "name": "stdout",
          "text": [
            "| Test Loss: 5.211 | Test PPL: 183.332 |\n"
          ]
        }
      ],
      "source": [
        "model_additive.load_state_dict(torch.load(save_path))\n",
        "test_loss = evaluate(model_additive, test_loader, criterion, test_loader_length)\n",
        "\n",
        "print(f'| Test Loss: {test_loss:.3f} | Test PPL: {math.exp(test_loss):7.3f} |')"
      ]
    },
    {
      "cell_type": "code",
      "execution_count": 77,
      "metadata": {
        "colab": {
          "base_uri": "https://localhost:8080/"
        },
        "id": "_Bq9m67R2O9V",
        "outputId": "835e264e-f06e-402b-a417-f1585d523da4"
      },
      "outputs": [
        {
          "output_type": "execute_result",
          "data": {
            "text/plain": [
              "Seq2SeqPackedAttention(\n",
              "  (encoder): Encoder(\n",
              "    (embedding): Embedding(2732, 256)\n",
              "    (rnn): GRU(256, 512, bidirectional=True)\n",
              "    (fc): Linear(in_features=1024, out_features=512, bias=True)\n",
              "    (dropout): Dropout(p=0.5, inplace=False)\n",
              "  )\n",
              "  (decoder): Decoder(\n",
              "    (attention): Attention(\n",
              "      (v): Linear(in_features=512, out_features=1, bias=False)\n",
              "      (W): Linear(in_features=512, out_features=512, bias=True)\n",
              "      (U): Linear(in_features=1024, out_features=512, bias=True)\n",
              "    )\n",
              "    (embedding): Embedding(2906, 256)\n",
              "    (gru): GRU(1280, 512)\n",
              "    (fc): Linear(in_features=1792, out_features=2906, bias=True)\n",
              "    (dropout): Dropout(p=0.5, inplace=False)\n",
              "  )\n",
              ")"
            ]
          },
          "metadata": {},
          "execution_count": 77
        }
      ],
      "source": [
        "model_additive"
      ]
    },
    {
      "cell_type": "markdown",
      "metadata": {
        "tags": [],
        "id": "0ojt5G932O9V"
      },
      "source": [
        "## 7. Test on some random news"
      ]
    },
    {
      "cell_type": "code",
      "execution_count": 78,
      "metadata": {
        "colab": {
          "base_uri": "https://localhost:8080/",
          "height": 52
        },
        "id": "-_n6TiRU2O9V",
        "outputId": "7ff88187-75cf-4fd5-8a34-64f4190d9270"
      },
      "outputs": [
        {
          "output_type": "execute_result",
          "data": {
            "text/plain": [
              "'A spectrograph operates like a spectroscope except that the small telescope is replaced by a detector that can record the spectrum of the material being studied.'"
            ],
            "application/vnd.google.colaboratory.intrinsic+json": {
              "type": "string"
            }
          },
          "metadata": {},
          "execution_count": 78
        }
      ],
      "source": [
        "dataset[0][0]"
      ]
    },
    {
      "cell_type": "code",
      "execution_count": 79,
      "metadata": {
        "colab": {
          "base_uri": "https://localhost:8080/",
          "height": 52
        },
        "id": "P-ZgSPe42O9V",
        "outputId": "1f4fb21c-79b7-4166-ff49-0f0e8658e056"
      },
      "outputs": [
        {
          "output_type": "execute_result",
          "data": {
            "text/plain": [
              "'Un spectrographe fonctionne comme un spectroscope sauf que la lunette graduée est remplacée par un détecteur quelconque qui enregistre le spectre de l’objet observé.'"
            ],
            "application/vnd.google.colaboratory.intrinsic+json": {
              "type": "string"
            }
          },
          "metadata": {},
          "execution_count": 79
        }
      ],
      "source": [
        "dataset[0][1]"
      ]
    },
    {
      "cell_type": "code",
      "execution_count": 80,
      "metadata": {
        "colab": {
          "base_uri": "https://localhost:8080/"
        },
        "id": "xq6YbpiP2O9V",
        "outputId": "629f647a-ee64-4bb2-c29d-e490a80cd252"
      },
      "outputs": [
        {
          "output_type": "execute_result",
          "data": {
            "text/plain": [
              "tensor([   2,   83,    4,    0,    4,    0,   91,    4,   12,    4,  899,    4,\n",
              "           0,    4,   13,    4,    5,    4,  241,    4,   32,    4,   14,    4,\n",
              "        2584,    4,   24,    4,   12,    4,  707,    4,   13,    4,   67,    4,\n",
              "         752,    4,    5,    4,  102,    4,    8,    4,    5,    4,  727,    4,\n",
              "         308,    4,  763,    7,    3], device='cuda:0')"
            ]
          },
          "metadata": {},
          "execution_count": 80
        }
      ],
      "source": [
        "src_text = text_transform[SRC_LANGUAGE](dataset[0][0]).to(device)\n",
        "src_text"
      ]
    },
    {
      "cell_type": "code",
      "execution_count": 81,
      "metadata": {
        "colab": {
          "base_uri": "https://localhost:8080/"
        },
        "id": "BUNvynii2O9W",
        "outputId": "6589da50-6b2a-4f82-dd01-8584c87f48d0"
      },
      "outputs": [
        {
          "output_type": "execute_result",
          "data": {
            "text/plain": [
              "tensor([   2,   88,    0, 1292,   45,   17, 1396,    0,   23,    7,  283, 2449,\n",
              "          14,    0,   28,   17,  547, 2737,   20,    0,   11,   81,    4, 1332,\n",
              "        1348,    6,    3], device='cuda:0')"
            ]
          },
          "metadata": {},
          "execution_count": 81
        }
      ],
      "source": [
        "trg_text = text_transform[TRG_LANGUAGE](dataset[0][1]).to(device)\n",
        "trg_text"
      ]
    },
    {
      "cell_type": "code",
      "execution_count": 82,
      "metadata": {
        "id": "PTYgP8Rk2O9W"
      },
      "outputs": [],
      "source": [
        "src_text = src_text.reshape(-1, 1)  #because batch_size is 1"
      ]
    },
    {
      "cell_type": "code",
      "execution_count": 83,
      "metadata": {
        "id": "e43Pc-_l2O9W"
      },
      "outputs": [],
      "source": [
        "trg_text = trg_text.reshape(-1, 1)"
      ]
    },
    {
      "cell_type": "code",
      "execution_count": 84,
      "metadata": {
        "colab": {
          "base_uri": "https://localhost:8080/"
        },
        "id": "EgfaKZHm2O9W",
        "outputId": "3946f5b6-b083-4a7a-92e8-afdfeb7b0251"
      },
      "outputs": [
        {
          "output_type": "execute_result",
          "data": {
            "text/plain": [
              "(torch.Size([53, 1]), torch.Size([27, 1]))"
            ]
          },
          "metadata": {},
          "execution_count": 84
        }
      ],
      "source": [
        "src_text.shape, trg_text.shape"
      ]
    },
    {
      "cell_type": "code",
      "execution_count": 85,
      "metadata": {
        "id": "rwj7KEbk2O9W"
      },
      "outputs": [],
      "source": [
        "text_length = torch.tensor([src_text.size(0)]).to(dtype=torch.int64)"
      ]
    },
    {
      "cell_type": "code",
      "execution_count": 86,
      "metadata": {
        "id": "DSAYN_hp2O9W"
      },
      "outputs": [],
      "source": [
        "model_additive.load_state_dict(torch.load(save_path))\n",
        "\n",
        "model_additive.eval()\n",
        "with torch.no_grad():\n",
        "    output, attentions = model_additive(src_text, text_length, trg_text, 0) #turn off teacher forcing"
      ]
    },
    {
      "cell_type": "code",
      "execution_count": 87,
      "metadata": {
        "colab": {
          "base_uri": "https://localhost:8080/"
        },
        "id": "hTcm-gJG2O9W",
        "outputId": "2dc35fc5-65ed-47dd-f982-e790df752afe"
      },
      "outputs": [
        {
          "output_type": "execute_result",
          "data": {
            "text/plain": [
              "torch.Size([27, 1, 2906])"
            ]
          },
          "metadata": {},
          "execution_count": 87
        }
      ],
      "source": [
        "output.shape #trg_len, batch_size, trg_output_dim"
      ]
    },
    {
      "cell_type": "markdown",
      "metadata": {
        "id": "CuyNTbTK2O9W"
      },
      "source": [
        "Since batch size is 1, we just take off that dimension"
      ]
    },
    {
      "cell_type": "code",
      "execution_count": 88,
      "metadata": {
        "id": "6aui7tSN2O9W"
      },
      "outputs": [],
      "source": [
        "output = output.squeeze(1)"
      ]
    },
    {
      "cell_type": "code",
      "execution_count": 89,
      "metadata": {
        "colab": {
          "base_uri": "https://localhost:8080/"
        },
        "id": "d8M4LRPQ2O9W",
        "outputId": "fb405014-55d0-416c-a3ae-4b03b0342abd"
      },
      "outputs": [
        {
          "output_type": "execute_result",
          "data": {
            "text/plain": [
              "torch.Size([27, 2906])"
            ]
          },
          "metadata": {},
          "execution_count": 89
        }
      ],
      "source": [
        "output.shape"
      ]
    },
    {
      "cell_type": "markdown",
      "metadata": {
        "id": "b00afwKE2O9W"
      },
      "source": [
        "We shall remove the first token since it's zeroes anyway"
      ]
    },
    {
      "cell_type": "code",
      "execution_count": 90,
      "metadata": {
        "colab": {
          "base_uri": "https://localhost:8080/"
        },
        "id": "FzF9i0tB2O9W",
        "outputId": "eb1ea9f3-60c0-46a8-e26f-a16745658215"
      },
      "outputs": [
        {
          "output_type": "execute_result",
          "data": {
            "text/plain": [
              "torch.Size([26, 2906])"
            ]
          },
          "metadata": {},
          "execution_count": 90
        }
      ],
      "source": [
        "output = output[1:]\n",
        "output.shape #trg_len, trg_output_dim"
      ]
    },
    {
      "cell_type": "markdown",
      "metadata": {
        "id": "vBwg_buu2O9W"
      },
      "source": [
        "Then we just take the top token with highest probabilities"
      ]
    },
    {
      "cell_type": "code",
      "execution_count": 91,
      "metadata": {
        "id": "K55NB2Bc2O9W"
      },
      "outputs": [],
      "source": [
        "output_max = output.argmax(1) #returns max indices"
      ]
    },
    {
      "cell_type": "code",
      "execution_count": 92,
      "metadata": {
        "colab": {
          "base_uri": "https://localhost:8080/"
        },
        "id": "-sxRPV1i2O9X",
        "outputId": "8ac8904d-ebe4-4c3f-d74d-7af4bee51300"
      },
      "outputs": [
        {
          "output_type": "execute_result",
          "data": {
            "text/plain": [
              "tensor([ 0,  0,  5, 13,  0,  4,  7, 27,  4,  7, 27,  6,  3,  6,  3,  6,  3,  6,\n",
              "         3,  6,  3,  6,  3,  6,  3,  6], device='cuda:0')"
            ]
          },
          "metadata": {},
          "execution_count": 92
        }
      ],
      "source": [
        "output_max"
      ]
    },
    {
      "cell_type": "markdown",
      "metadata": {
        "id": "PiggOdvg2O9X"
      },
      "source": [
        "Get the mapping of the target language"
      ]
    },
    {
      "cell_type": "code",
      "execution_count": 93,
      "metadata": {
        "id": "-J12GNIX2O9X"
      },
      "outputs": [],
      "source": [
        "mapping = vocab_transform[TRG_LANGUAGE].get_itos()"
      ]
    },
    {
      "cell_type": "code",
      "execution_count": 94,
      "metadata": {
        "colab": {
          "base_uri": "https://localhost:8080/"
        },
        "id": "S3Ujozzp2O9X",
        "outputId": "738fa16b-58ac-472a-f29a-e772f98c12f1"
      },
      "outputs": [
        {
          "output_type": "stream",
          "name": "stdout",
          "text": [
            "<unk>\n",
            "<unk>\n",
            ",\n",
            "les\n",
            "<unk>\n",
            "de\n",
            "la\n",
            "lumière\n",
            "de\n",
            "la\n",
            "lumière\n",
            ".\n",
            "<eos>\n",
            ".\n",
            "<eos>\n",
            ".\n",
            "<eos>\n",
            ".\n",
            "<eos>\n",
            ".\n",
            "<eos>\n",
            ".\n",
            "<eos>\n",
            ".\n",
            "<eos>\n",
            ".\n"
          ]
        }
      ],
      "source": [
        "for token in output_max:\n",
        "    print(mapping[token.item()])"
      ]
    }
  ],
  "metadata": {
    "kernelspec": {
      "display_name": "Python 3 (ipykernel)",
      "language": "python",
      "name": "python3"
    },
    "language_info": {
      "codemirror_mode": {
        "name": "ipython",
        "version": 3
      },
      "file_extension": ".py",
      "mimetype": "text/x-python",
      "name": "python",
      "nbconvert_exporter": "python",
      "pygments_lexer": "ipython3",
      "version": "3.9.7"
    },
    "vscode": {
      "interpreter": {
        "hash": "0f2c79af21be9d001248940c049b6176cf8bfb45cabf7aa85848f5cea0f590f6"
      }
    },
    "colab": {
      "provenance": []
    },
    "accelerator": "GPU",
    "gpuClass": "standard"
  },
  "nbformat": 4,
  "nbformat_minor": 0
}