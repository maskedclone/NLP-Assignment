{
  "cells": [
    {
      "cell_type": "code",
      "execution_count": 1,
      "id": "371279fa-0ccd-498e-bd6a-21e1ace9b58c",
      "metadata": {
        "id": "371279fa-0ccd-498e-bd6a-21e1ace9b58c"
      },
      "outputs": [],
      "source": [
        "import numpy as np\n",
        "import torch\n",
        "import torch.nn as nn\n",
        "import torch.optim as optim\n",
        "import matplotlib.pyplot as plt"
      ]
    },
    {
      "cell_type": "code",
      "execution_count": 2,
      "id": "1c13fea6-0204-45aa-bba3-57438192a959",
      "metadata": {
        "id": "1c13fea6-0204-45aa-bba3-57438192a959"
      },
      "outputs": [],
      "source": [
        "import time"
      ]
    },
    {
      "cell_type": "code",
      "execution_count": 3,
      "id": "c01d6b84-9229-4d94-a5ee-59b3967afa22",
      "metadata": {
        "id": "c01d6b84-9229-4d94-a5ee-59b3967afa22"
      },
      "outputs": [],
      "source": [
        "def epoch_time(start_time, end_time):\n",
        "    elapsed_time = end_time - start_time\n",
        "    elapsed_mins = int(elapsed_time / 60)\n",
        "    elapsed_secs = int(elapsed_time - (elapsed_mins * 60))\n",
        "    return elapsed_mins, elapsed_secs"
      ]
    },
    {
      "cell_type": "markdown",
      "id": "581f5ffe-87d9-4f41-ae81-1b16520f28ea",
      "metadata": {
        "id": "581f5ffe-87d9-4f41-ae81-1b16520f28ea"
      },
      "source": [
        "## 1. Load the data\n",
        "\n",
        "I use my interested informations about jazz music as a corpus for the data in here."
      ]
    },
    {
      "cell_type": "code",
      "execution_count": 4,
      "id": "c87cbde2-194d-4a12-9810-30d6aa1ce746",
      "metadata": {
        "colab": {
          "base_uri": "https://localhost:8080/",
          "height": 35
        },
        "id": "c87cbde2-194d-4a12-9810-30d6aa1ce746",
        "outputId": "9f2d6889-4b1f-47e7-b566-5436bac596b4"
      },
      "outputs": [
        {
          "output_type": "execute_result",
          "data": {
            "text/plain": [
              "'3.5.1'"
            ],
            "application/vnd.google.colaboratory.intrinsic+json": {
              "type": "string"
            }
          },
          "metadata": {},
          "execution_count": 4
        }
      ],
      "source": [
        "import spacy\n",
        "spacy.__version__"
      ]
    },
    {
      "cell_type": "code",
      "execution_count": 5,
      "id": "79b60eef-e108-4e8a-a2b4-0b52c5e4d3af",
      "metadata": {
        "id": "79b60eef-e108-4e8a-a2b4-0b52c5e4d3af"
      },
      "outputs": [],
      "source": [
        "nlp = spacy.load(\"en_core_web_sm\")"
      ]
    },
    {
      "cell_type": "code",
      "execution_count": 6,
      "id": "9f919282-ff96-47e5-aed3-f758e283d3cf",
      "metadata": {
        "id": "9f919282-ff96-47e5-aed3-f758e283d3cf"
      },
      "outputs": [],
      "source": [
        "# wiki_King\n",
        "corpus = [\"Martin Luther King Jr. (born Michael King Jr.; January 15, 1929 – April 4, 1968) was an American Baptist minister and activist who became the most visible spokesman and leader in the American civil rights movement from 1955 until his assassination in 1968. King advanced civil rights through nonviolence and civil disobedience, inspired by his Christian beliefs and the nonviolent activism of Mahatma Gandhi. He was the son of early civil rights activist and minister Martin Luther King Sr.King participated in and led marches for blacks' right to vote, desegregation, labor rights, and other basic civil rights.[1] King led the 1955 Montgomery bus boycott and later became the first president of the Southern Christian Leadership Conference (SCLC). As president of the SCLC, he led the unsuccessful Albany Movement in Albany, Georgia, and helped organize some of the nonviolent 1963 protests in Birmingham, Alabama. King helped organize the 1963 March on Washington, where he delivered his famous: I Have a Dream speech on the steps of the Lincoln Memorial.\"]"
      ]
    },
    {
      "cell_type": "code",
      "execution_count": 7,
      "id": "4bd3c731-f43f-4a77-b74c-9a4f2425447f",
      "metadata": {
        "id": "4bd3c731-f43f-4a77-b74c-9a4f2425447f"
      },
      "outputs": [],
      "source": [
        "corpus_tokenized = []\n",
        "for i in range(len(corpus)):\n",
        "    corpus_tokenized.append([str(token) for token in nlp([c for c in corpus][i])])"
      ]
    },
    {
      "cell_type": "code",
      "execution_count": 8,
      "id": "744ba48e-bf48-4d1e-ba65-c3f46883c4a1",
      "metadata": {
        "colab": {
          "base_uri": "https://localhost:8080/"
        },
        "id": "744ba48e-bf48-4d1e-ba65-c3f46883c4a1",
        "outputId": "5e08e414-9105-4538-9a02-15c1a2a85048"
      },
      "outputs": [
        {
          "output_type": "execute_result",
          "data": {
            "text/plain": [
              "[['Martin',\n",
              "  'Luther',\n",
              "  'King',\n",
              "  'Jr.',\n",
              "  '(',\n",
              "  'born',\n",
              "  'Michael',\n",
              "  'King',\n",
              "  'Jr.',\n",
              "  ';',\n",
              "  'January',\n",
              "  '15',\n",
              "  ',',\n",
              "  '1929',\n",
              "  '–',\n",
              "  'April',\n",
              "  '4',\n",
              "  ',',\n",
              "  '1968',\n",
              "  ')',\n",
              "  'was',\n",
              "  'an',\n",
              "  'American',\n",
              "  'Baptist',\n",
              "  'minister',\n",
              "  'and',\n",
              "  'activist',\n",
              "  'who',\n",
              "  'became',\n",
              "  'the',\n",
              "  'most',\n",
              "  'visible',\n",
              "  'spokesman',\n",
              "  'and',\n",
              "  'leader',\n",
              "  'in',\n",
              "  'the',\n",
              "  'American',\n",
              "  'civil',\n",
              "  'rights',\n",
              "  'movement',\n",
              "  'from',\n",
              "  '1955',\n",
              "  'until',\n",
              "  'his',\n",
              "  'assassination',\n",
              "  'in',\n",
              "  '1968',\n",
              "  '.',\n",
              "  'King',\n",
              "  'advanced',\n",
              "  'civil',\n",
              "  'rights',\n",
              "  'through',\n",
              "  'nonviolence',\n",
              "  'and',\n",
              "  'civil',\n",
              "  'disobedience',\n",
              "  ',',\n",
              "  'inspired',\n",
              "  'by',\n",
              "  'his',\n",
              "  'Christian',\n",
              "  'beliefs',\n",
              "  'and',\n",
              "  'the',\n",
              "  'nonviolent',\n",
              "  'activism',\n",
              "  'of',\n",
              "  'Mahatma',\n",
              "  'Gandhi',\n",
              "  '.',\n",
              "  'He',\n",
              "  'was',\n",
              "  'the',\n",
              "  'son',\n",
              "  'of',\n",
              "  'early',\n",
              "  'civil',\n",
              "  'rights',\n",
              "  'activist',\n",
              "  'and',\n",
              "  'minister',\n",
              "  'Martin',\n",
              "  'Luther',\n",
              "  'King',\n",
              "  'Sr',\n",
              "  '.',\n",
              "  'King',\n",
              "  'participated',\n",
              "  'in',\n",
              "  'and',\n",
              "  'led',\n",
              "  'marches',\n",
              "  'for',\n",
              "  'blacks',\n",
              "  \"'\",\n",
              "  'right',\n",
              "  'to',\n",
              "  'vote',\n",
              "  ',',\n",
              "  'desegregation',\n",
              "  ',',\n",
              "  'labor',\n",
              "  'rights',\n",
              "  ',',\n",
              "  'and',\n",
              "  'other',\n",
              "  'basic',\n",
              "  'civil',\n",
              "  'rights.[1',\n",
              "  ']',\n",
              "  'King',\n",
              "  'led',\n",
              "  'the',\n",
              "  '1955',\n",
              "  'Montgomery',\n",
              "  'bus',\n",
              "  'boycott',\n",
              "  'and',\n",
              "  'later',\n",
              "  'became',\n",
              "  'the',\n",
              "  'first',\n",
              "  'president',\n",
              "  'of',\n",
              "  'the',\n",
              "  'Southern',\n",
              "  'Christian',\n",
              "  'Leadership',\n",
              "  'Conference',\n",
              "  '(',\n",
              "  'SCLC',\n",
              "  ')',\n",
              "  '.',\n",
              "  'As',\n",
              "  'president',\n",
              "  'of',\n",
              "  'the',\n",
              "  'SCLC',\n",
              "  ',',\n",
              "  'he',\n",
              "  'led',\n",
              "  'the',\n",
              "  'unsuccessful',\n",
              "  'Albany',\n",
              "  'Movement',\n",
              "  'in',\n",
              "  'Albany',\n",
              "  ',',\n",
              "  'Georgia',\n",
              "  ',',\n",
              "  'and',\n",
              "  'helped',\n",
              "  'organize',\n",
              "  'some',\n",
              "  'of',\n",
              "  'the',\n",
              "  'nonviolent',\n",
              "  '1963',\n",
              "  'protests',\n",
              "  'in',\n",
              "  'Birmingham',\n",
              "  ',',\n",
              "  'Alabama',\n",
              "  '.',\n",
              "  'King',\n",
              "  'helped',\n",
              "  'organize',\n",
              "  'the',\n",
              "  '1963',\n",
              "  'March',\n",
              "  'on',\n",
              "  'Washington',\n",
              "  ',',\n",
              "  'where',\n",
              "  'he',\n",
              "  'delivered',\n",
              "  'his',\n",
              "  'famous',\n",
              "  ':',\n",
              "  'I',\n",
              "  'Have',\n",
              "  'a',\n",
              "  'Dream',\n",
              "  'speech',\n",
              "  'on',\n",
              "  'the',\n",
              "  'steps',\n",
              "  'of',\n",
              "  'the',\n",
              "  'Lincoln',\n",
              "  'Memorial',\n",
              "  '.']]"
            ]
          },
          "metadata": {},
          "execution_count": 8
        }
      ],
      "source": [
        "corpus_tokenized"
      ]
    },
    {
      "cell_type": "code",
      "execution_count": 9,
      "id": "8a86bd5e-c8f4-4c27-84b3-20b21cb6b8aa",
      "metadata": {
        "id": "8a86bd5e-c8f4-4c27-84b3-20b21cb6b8aa"
      },
      "outputs": [],
      "source": [
        "#2. numericalize\n",
        "\n",
        "#2.1 get all the unique words\n",
        "#we want to flatten this (basically merge all list)\n",
        "flatten = lambda l: [item for sublist in l for item in sublist]\n",
        "vocabs  = list(set(flatten(corpus_tokenized)))  \n",
        "#vocabs is a term defining all unique words your system know"
      ]
    },
    {
      "cell_type": "code",
      "execution_count": 10,
      "id": "5306ecf8-bcd0-4055-8cac-4fac2a626bc3",
      "metadata": {
        "id": "5306ecf8-bcd0-4055-8cac-4fac2a626bc3"
      },
      "outputs": [],
      "source": [
        "#2.2 assign id to all these vocabs\n",
        "word2index = {v: idx for idx, v in enumerate(vocabs)}"
      ]
    },
    {
      "cell_type": "code",
      "execution_count": 11,
      "id": "169c625e-1203-4f9e-8d5b-dc5fc1a13f5f",
      "metadata": {
        "colab": {
          "base_uri": "https://localhost:8080/"
        },
        "id": "169c625e-1203-4f9e-8d5b-dc5fc1a13f5f",
        "outputId": "8538c073-8647-4f7f-b0d2-aca91af31d3c"
      },
      "outputs": [
        {
          "output_type": "execute_result",
          "data": {
            "text/plain": [
              "58"
            ]
          },
          "metadata": {},
          "execution_count": 11
        }
      ],
      "source": [
        "word2index['March']"
      ]
    },
    {
      "cell_type": "code",
      "execution_count": 12,
      "id": "a7607f28-8b5e-4369-9761-5743a3250e89",
      "metadata": {
        "colab": {
          "base_uri": "https://localhost:8080/"
        },
        "id": "a7607f28-8b5e-4369-9761-5743a3250e89",
        "outputId": "0bc0eebc-8b7a-4ef3-c2de-4ddb61604680"
      },
      "outputs": [
        {
          "output_type": "execute_result",
          "data": {
            "text/plain": [
              "101"
            ]
          },
          "metadata": {},
          "execution_count": 12
        }
      ],
      "source": [
        "word2index['Washington']"
      ]
    },
    {
      "cell_type": "code",
      "execution_count": 13,
      "id": "aa3e40f1-32cf-4654-a26c-e56732b9eded",
      "metadata": {
        "id": "aa3e40f1-32cf-4654-a26c-e56732b9eded"
      },
      "outputs": [],
      "source": [
        "#add <UNK>, which is a very normal token exists in the world\n",
        "vocabs.append('<UNK>') #chaky, can it be ##UNK, or UNKKKKKK, or anything"
      ]
    },
    {
      "cell_type": "code",
      "execution_count": 14,
      "id": "70e72d92-e51d-4cac-bcac-0db40fcd160e",
      "metadata": {
        "id": "70e72d92-e51d-4cac-bcac-0db40fcd160e"
      },
      "outputs": [],
      "source": [
        "#now we have a way to know what is the id of <UNK>\n",
        "word2index['<UNK>'] = 0  #I set <UNK> as 0"
      ]
    },
    {
      "cell_type": "code",
      "execution_count": 15,
      "id": "45a35d57-1033-403b-a178-867b1c5e769a",
      "metadata": {
        "colab": {
          "base_uri": "https://localhost:8080/"
        },
        "id": "45a35d57-1033-403b-a178-867b1c5e769a",
        "outputId": "cb33ca39-37cd-49d9-b876-332317b43ac2"
      },
      "outputs": [
        {
          "output_type": "execute_result",
          "data": {
            "text/plain": [
              "{0: '<UNK>',\n",
              " 1: 'most',\n",
              " 2: 'unsuccessful',\n",
              " 3: 'visible',\n",
              " 4: ']',\n",
              " 5: 'where',\n",
              " 6: ':',\n",
              " 7: 'who',\n",
              " 8: 'early',\n",
              " 9: 'helped',\n",
              " 10: 'leader',\n",
              " 11: 'an',\n",
              " 12: 'became',\n",
              " 13: 'he',\n",
              " 14: 'steps',\n",
              " 15: 'disobedience',\n",
              " 16: ';',\n",
              " 17: 'until',\n",
              " 18: 'Leadership',\n",
              " 19: 'Memorial',\n",
              " 20: 'civil',\n",
              " 21: 'Gandhi',\n",
              " 22: 'in',\n",
              " 23: 'Lincoln',\n",
              " 24: 'and',\n",
              " 25: 'activism',\n",
              " 26: 'Luther',\n",
              " 27: 'Martin',\n",
              " 28: 'Have',\n",
              " 29: 'Dream',\n",
              " 30: 'protests',\n",
              " 31: '.',\n",
              " 32: 'vote',\n",
              " 33: 'led',\n",
              " 34: \"'\",\n",
              " 35: 'movement',\n",
              " 36: 'He',\n",
              " 37: 'later',\n",
              " 38: 'speech',\n",
              " 39: 'Sr',\n",
              " 40: 'rights.[1',\n",
              " 41: 'of',\n",
              " 42: '1963',\n",
              " 43: 'was',\n",
              " 44: 'Baptist',\n",
              " 45: ',',\n",
              " 46: 'the',\n",
              " 47: 'Conference',\n",
              " 48: 'Alabama',\n",
              " 49: 'for',\n",
              " 50: 'blacks',\n",
              " 51: 'president',\n",
              " 52: 'labor',\n",
              " 53: 'other',\n",
              " 54: 'Michael',\n",
              " 55: 'his',\n",
              " 56: 'to',\n",
              " 57: 'American',\n",
              " 58: 'March',\n",
              " 59: 'Georgia',\n",
              " 60: 'on',\n",
              " 61: 'a',\n",
              " 62: 'inspired',\n",
              " 63: 'through',\n",
              " 64: '15',\n",
              " 65: 'I',\n",
              " 66: 'April',\n",
              " 67: 'famous',\n",
              " 68: 'nonviolence',\n",
              " 69: 'Movement',\n",
              " 70: 'minister',\n",
              " 71: ')',\n",
              " 72: 'beliefs',\n",
              " 73: 'right',\n",
              " 74: 'January',\n",
              " 75: 'by',\n",
              " 76: 'born',\n",
              " 77: 'Albany',\n",
              " 78: 'King',\n",
              " 79: '1968',\n",
              " 80: 'Mahatma',\n",
              " 81: 'Christian',\n",
              " 82: 'bus',\n",
              " 83: 'activist',\n",
              " 84: 'participated',\n",
              " 85: 'advanced',\n",
              " 86: 'first',\n",
              " 87: '1955',\n",
              " 88: 'son',\n",
              " 89: 'Southern',\n",
              " 90: 'SCLC',\n",
              " 91: 'boycott',\n",
              " 92: 'As',\n",
              " 93: 'spokesman',\n",
              " 94: '(',\n",
              " 95: '1929',\n",
              " 96: '–',\n",
              " 97: 'assassination',\n",
              " 98: 'some',\n",
              " 99: '4',\n",
              " 100: 'organize',\n",
              " 101: 'Washington',\n",
              " 102: 'basic',\n",
              " 103: 'desegregation',\n",
              " 104: 'from',\n",
              " 105: 'Jr.',\n",
              " 106: 'Montgomery',\n",
              " 107: 'Birmingham',\n",
              " 108: 'rights',\n",
              " 109: 'delivered',\n",
              " 110: 'nonviolent'}"
            ]
          },
          "metadata": {},
          "execution_count": 15
        }
      ],
      "source": [
        "#create index2word dictionary \n",
        "index2word = {v:k for k, v in word2index.items()}\n",
        "\n",
        "index2word"
      ]
    },
    {
      "cell_type": "code",
      "execution_count": 16,
      "id": "68360563-66c4-40ec-a56a-f751caf58a89",
      "metadata": {
        "colab": {
          "base_uri": "https://localhost:8080/"
        },
        "id": "68360563-66c4-40ec-a56a-f751caf58a89",
        "outputId": "fe661a1c-c72a-43d0-eb2b-adb84d3ed63b"
      },
      "outputs": [
        {
          "output_type": "execute_result",
          "data": {
            "text/plain": [
              "['marches',\n",
              " 'most',\n",
              " 'unsuccessful',\n",
              " 'visible',\n",
              " ']',\n",
              " 'where',\n",
              " ':',\n",
              " 'who',\n",
              " 'early',\n",
              " 'helped',\n",
              " 'leader',\n",
              " 'an',\n",
              " 'became',\n",
              " 'he',\n",
              " 'steps',\n",
              " 'disobedience',\n",
              " ';',\n",
              " 'until',\n",
              " 'Leadership',\n",
              " 'Memorial',\n",
              " 'civil',\n",
              " 'Gandhi',\n",
              " 'in',\n",
              " 'Lincoln',\n",
              " 'and',\n",
              " 'activism',\n",
              " 'Luther',\n",
              " 'Martin',\n",
              " 'Have',\n",
              " 'Dream',\n",
              " 'protests',\n",
              " '.',\n",
              " 'vote',\n",
              " 'led',\n",
              " \"'\",\n",
              " 'movement',\n",
              " 'He',\n",
              " 'later',\n",
              " 'speech',\n",
              " 'Sr',\n",
              " 'rights.[1',\n",
              " 'of',\n",
              " '1963',\n",
              " 'was',\n",
              " 'Baptist',\n",
              " ',',\n",
              " 'the',\n",
              " 'Conference',\n",
              " 'Alabama',\n",
              " 'for',\n",
              " 'blacks',\n",
              " 'president',\n",
              " 'labor',\n",
              " 'other',\n",
              " 'Michael',\n",
              " 'his',\n",
              " 'to',\n",
              " 'American',\n",
              " 'March',\n",
              " 'Georgia',\n",
              " 'on',\n",
              " 'a',\n",
              " 'inspired',\n",
              " 'through',\n",
              " '15',\n",
              " 'I',\n",
              " 'April',\n",
              " 'famous',\n",
              " 'nonviolence',\n",
              " 'Movement',\n",
              " 'minister',\n",
              " ')',\n",
              " 'beliefs',\n",
              " 'right',\n",
              " 'January',\n",
              " 'by',\n",
              " 'born',\n",
              " 'Albany',\n",
              " 'King',\n",
              " '1968',\n",
              " 'Mahatma',\n",
              " 'Christian',\n",
              " 'bus',\n",
              " 'activist',\n",
              " 'participated',\n",
              " 'advanced',\n",
              " 'first',\n",
              " '1955',\n",
              " 'son',\n",
              " 'Southern',\n",
              " 'SCLC',\n",
              " 'boycott',\n",
              " 'As',\n",
              " 'spokesman',\n",
              " '(',\n",
              " '1929',\n",
              " '–',\n",
              " 'assassination',\n",
              " 'some',\n",
              " '4',\n",
              " 'organize',\n",
              " 'Washington',\n",
              " 'basic',\n",
              " 'desegregation',\n",
              " 'from',\n",
              " 'Jr.',\n",
              " 'Montgomery',\n",
              " 'Birmingham',\n",
              " 'rights',\n",
              " 'delivered',\n",
              " 'nonviolent',\n",
              " '<UNK>']"
            ]
          },
          "metadata": {},
          "execution_count": 16
        }
      ],
      "source": [
        "vocabs"
      ]
    },
    {
      "cell_type": "markdown",
      "id": "8437181a-c68a-49b7-9979-2ac8bff613ca",
      "metadata": {
        "id": "8437181a-c68a-49b7-9979-2ac8bff613ca"
      },
      "source": [
        "## Prepare the data"
      ]
    },
    {
      "cell_type": "code",
      "execution_count": 17,
      "id": "1c284982-6105-4446-8c42-bc07ebd66cea",
      "metadata": {
        "colab": {
          "base_uri": "https://localhost:8080/"
        },
        "id": "1c284982-6105-4446-8c42-bc07ebd66cea",
        "outputId": "b5cc0f0b-84e8-4829-9a87-e513ab23d855"
      },
      "outputs": [
        {
          "output_type": "execute_result",
          "data": {
            "text/plain": [
              "[['King', 'Martin'],\n",
              " ['King', '('],\n",
              " ['Jr.', 'Luther'],\n",
              " ['Jr.', 'born'],\n",
              " ['(', 'King'],\n",
              " ['(', 'Michael'],\n",
              " ['born', 'Jr.'],\n",
              " ['born', 'King'],\n",
              " ['Michael', '('],\n",
              " ['Michael', 'Jr.'],\n",
              " ['King', 'born'],\n",
              " ['King', ';'],\n",
              " ['Jr.', 'Michael'],\n",
              " ['Jr.', 'January'],\n",
              " [';', 'King'],\n",
              " [';', '15'],\n",
              " ['January', 'Jr.'],\n",
              " ['January', ','],\n",
              " ['15', ';'],\n",
              " ['15', '1929'],\n",
              " [',', 'January'],\n",
              " [',', '–'],\n",
              " ['1929', '15'],\n",
              " ['1929', 'April'],\n",
              " ['–', ','],\n",
              " ['–', '4'],\n",
              " ['April', '1929'],\n",
              " ['April', ','],\n",
              " ['4', '–'],\n",
              " ['4', '1968'],\n",
              " [',', 'April'],\n",
              " [',', ')'],\n",
              " ['1968', '4'],\n",
              " ['1968', 'was'],\n",
              " [')', ','],\n",
              " [')', 'an'],\n",
              " ['was', '1968'],\n",
              " ['was', 'American'],\n",
              " ['an', ')'],\n",
              " ['an', 'Baptist']]"
            ]
          },
          "metadata": {},
          "execution_count": 17
        }
      ],
      "source": [
        "\n",
        "#use window_size = 2 as the assignment's instruction.\n",
        "\n",
        "skipgrams = []\n",
        "\n",
        "#for each corpus\n",
        "for sent in corpus_tokenized:\n",
        "    for i in range(2, len(sent)-2): #start from 2 to second last\n",
        "        center_word = sent[i]\n",
        "        outside_words = [sent[i-2], sent[i+2]]  #window_size = 2\n",
        "        for o in outside_words:\n",
        "            skipgrams.append([center_word, o])\n",
        "\n",
        "skipgrams[:40]"
      ]
    },
    {
      "cell_type": "code",
      "execution_count": 18,
      "id": "817a007c-122b-4b1e-b8fa-22ffc0a74075",
      "metadata": {
        "id": "817a007c-122b-4b1e-b8fa-22ffc0a74075"
      },
      "outputs": [],
      "source": [
        "#let's make what we have made into a function (batch function)\n",
        "#return a batches of data, e.g., =2 --> ['banana', 'apple'], ['banana', 'fruit']\n",
        "#also i want these batches to be id, NOT token   --> [5, 4]\n",
        "\n",
        "def random_batch(batch_size, corpus):\n",
        "    \n",
        "    skipgrams = []\n",
        "\n",
        "    #for each corpus\n",
        "    for sent in corpus_tokenized:\n",
        "        #for each sent \n",
        "        for i in range(2, len(sent) - 2): #start from 2 to the third last\n",
        "            center_word = word2index[sent[i]]\n",
        "            outside_words = [word2index[sent[i-2]], word2index[sent[i+2]]]  #window_size = 2\n",
        "            for o in outside_words:\n",
        "                skipgrams.append([center_word, o])\n",
        "                \n",
        "    #only get a batch, not the entire list\n",
        "    random_index = np.random.choice(range(len(skipgrams)), batch_size, replace=False)\n",
        "             \n",
        "    #appending some list of inputs and labels\n",
        "    random_inputs, random_labels = [], []   \n",
        "    for index in random_index:\n",
        "        random_inputs.append([skipgrams[index][0]])  #center words, this will be a shape of (1, ) --> (1, 1) for modeling\n",
        "        random_labels.append([skipgrams[index][1]])\n",
        "        \n",
        "    return np.array(random_inputs), np.array(random_labels)"
      ]
    },
    {
      "cell_type": "code",
      "execution_count": 19,
      "id": "b908f760-93dc-482d-84e9-b9183cfaa3b2",
      "metadata": {
        "colab": {
          "base_uri": "https://localhost:8080/"
        },
        "id": "b908f760-93dc-482d-84e9-b9183cfaa3b2",
        "outputId": "b7095d14-c865-4394-aa10-0a8b61811939"
      },
      "outputs": [
        {
          "output_type": "stream",
          "name": "stdout",
          "text": [
            "(10, 1)\n",
            "label=array([[45],\n",
            "       [26],\n",
            "       [46],\n",
            "       [45],\n",
            "       [15],\n",
            "       [31],\n",
            "       [45],\n",
            "       [22],\n",
            "       [90],\n",
            "       [63]])\n"
          ]
        }
      ],
      "source": [
        "input, label = random_batch(10, corpus_tokenized)\n",
        "\n",
        "print(f\"{input.shape}\")\n",
        "print(f\"{label=}\")"
      ]
    },
    {
      "cell_type": "markdown",
      "id": "3adcd33d-597c-47b2-aea1-6c304060b21d",
      "metadata": {
        "id": "3adcd33d-597c-47b2-aea1-6c304060b21d"
      },
      "source": [
        "## Unigram distribution"
      ]
    },
    {
      "cell_type": "code",
      "execution_count": 20,
      "id": "378a3eb2-7129-4be9-acd8-0216dc9deb5f",
      "metadata": {
        "id": "378a3eb2-7129-4be9-acd8-0216dc9deb5f"
      },
      "outputs": [],
      "source": [
        "from collections import Counter\n",
        "\n",
        "word_count = Counter(flatten(corpus_tokenized))\n",
        "# word_count # Showing word count"
      ]
    },
    {
      "cell_type": "code",
      "execution_count": 21,
      "id": "5b097d1d-dad9-4500-920b-1c5cb4c4f40d",
      "metadata": {
        "colab": {
          "base_uri": "https://localhost:8080/"
        },
        "id": "5b097d1d-dad9-4500-920b-1c5cb4c4f40d",
        "outputId": "bdd20332-56cd-4ea7-ff63-fdd5f43b8586"
      },
      "outputs": [
        {
          "output_type": "execute_result",
          "data": {
            "text/plain": [
              "194"
            ]
          },
          "metadata": {},
          "execution_count": 21
        }
      ],
      "source": [
        "num_total_words = sum([c for w, c in word_count.items()])\n",
        "num_total_words"
      ]
    },
    {
      "cell_type": "code",
      "execution_count": 22,
      "id": "265b4424-a2a1-439d-933b-98acc35725b3",
      "metadata": {
        "id": "265b4424-a2a1-439d-933b-98acc35725b3"
      },
      "outputs": [],
      "source": [
        "z = 0.001  #scaling up low frequency terms\n",
        "unigram_table = []\n",
        "\n",
        "# create loop for the P(w) formula\n",
        "for v in vocabs:\n",
        "    uw = word_count[v]/num_total_words\n",
        "    uw_alpha = uw ** (3/4)\n",
        "    uw_alpha_dividebyz = int(uw_alpha / z)\n",
        "    unigram_table.extend([v] * uw_alpha_dividebyz)\n",
        "    \n",
        "# Counter(unigram_table)"
      ]
    },
    {
      "cell_type": "markdown",
      "id": "a7074cd7-d4a8-4d87-9567-968e6d0c5bbb",
      "metadata": {
        "id": "a7074cd7-d4a8-4d87-9567-968e6d0c5bbb"
      },
      "source": [
        "## 4. Negative sampling"
      ]
    },
    {
      "cell_type": "code",
      "execution_count": 23,
      "id": "2fb9f05e-2453-4ce0-85e2-44ebdcf3ec7d",
      "metadata": {
        "id": "2fb9f05e-2453-4ce0-85e2-44ebdcf3ec7d"
      },
      "outputs": [],
      "source": [
        "def prepare_sequence(seq, word2index):\n",
        "    idxs = list(map(lambda w: word2index[w] if word2index.get(w) is not None else word2index[\"<UNK>\"], seq))\n",
        "    return torch.LongTensor(idxs)"
      ]
    },
    {
      "cell_type": "code",
      "execution_count": 24,
      "id": "f15dc315-7da2-4a0f-a837-a1e5191be6b6",
      "metadata": {
        "id": "f15dc315-7da2-4a0f-a837-a1e5191be6b6"
      },
      "outputs": [],
      "source": [
        "import random\n",
        "\n",
        "def negative_sampling(targets, unigram_table, k):\n",
        "    \n",
        "    batch_size = targets.shape[0]\n",
        "    neg_samples = []\n",
        "    \n",
        "    for i in range(batch_size):\n",
        "        #randomly pick k negative words from unigram_table\n",
        "        target_index = targets[i].item()  #looping each of the batch....\n",
        "        nsample = []\n",
        "        while len(nsample) < k:\n",
        "            neg = random.choice(unigram_table)\n",
        "            #if this word == target, skip this word\n",
        "            if word2index[neg] == target_index:\n",
        "                continue\n",
        "            nsample.append(neg)\n",
        "        #append this word to some list\n",
        "        neg_samples.append(prepare_sequence(nsample, word2index).reshape(1, -1))  #tensor[], tensor[]\n",
        "    return torch.cat(neg_samples)"
      ]
    },
    {
      "cell_type": "code",
      "execution_count": 25,
      "id": "e555fde6-dcee-45ff-83be-00d23f13ee77",
      "metadata": {
        "colab": {
          "base_uri": "https://localhost:8080/"
        },
        "id": "e555fde6-dcee-45ff-83be-00d23f13ee77",
        "outputId": "e77e6ecb-e987-4034-bf59-88bba8273877"
      },
      "outputs": [
        {
          "output_type": "execute_result",
          "data": {
            "text/plain": [
              "(array([[79],\n",
              "        [70]]),\n",
              " array([[97],\n",
              "        [26]]))"
            ]
          },
          "metadata": {},
          "execution_count": 25
        }
      ],
      "source": [
        "batch_size = 2\n",
        "input_batch, label_batch = random_batch(batch_size, corpus_tokenized)\n",
        "\n",
        "input_batch, label_batch"
      ]
    },
    {
      "cell_type": "code",
      "execution_count": 26,
      "id": "42140165-ad66-4045-8b11-db3582ec66a9",
      "metadata": {
        "id": "42140165-ad66-4045-8b11-db3582ec66a9"
      },
      "outputs": [],
      "source": [
        "# Convert to Tensor\n",
        "\n",
        "input_batch = torch.LongTensor(input_batch)\n",
        "label_batch = torch.LongTensor(label_batch)"
      ]
    },
    {
      "cell_type": "code",
      "execution_count": 27,
      "id": "956cce9f-ed10-4527-bad5-8832d3e9fd9e",
      "metadata": {
        "id": "956cce9f-ed10-4527-bad5-8832d3e9fd9e"
      },
      "outputs": [],
      "source": [
        "num_neg = 5 \n",
        "neg_samples = negative_sampling(label_batch, unigram_table, num_neg)"
      ]
    },
    {
      "cell_type": "code",
      "execution_count": 28,
      "id": "590a783e-66e4-4c8f-91c7-619a54dc6a93",
      "metadata": {
        "colab": {
          "base_uri": "https://localhost:8080/"
        },
        "id": "590a783e-66e4-4c8f-91c7-619a54dc6a93",
        "outputId": "2dc3d160-90d5-4bab-d541-b7624aef6ac3"
      },
      "outputs": [
        {
          "output_type": "execute_result",
          "data": {
            "text/plain": [
              "torch.Size([2, 5])"
            ]
          },
          "metadata": {},
          "execution_count": 28
        }
      ],
      "source": [
        "neg_samples.shape # shape is (batch_size, num_neg)"
      ]
    },
    {
      "cell_type": "markdown",
      "id": "16c74a46-7732-41ac-9163-9dea8019a5af",
      "metadata": {
        "id": "16c74a46-7732-41ac-9163-9dea8019a5af"
      },
      "source": [
        "## 5. Model"
      ]
    },
    {
      "cell_type": "code",
      "execution_count": 29,
      "id": "433ca860-b78e-436a-8ebb-3e1f20b7a208",
      "metadata": {
        "id": "433ca860-b78e-436a-8ebb-3e1f20b7a208"
      },
      "outputs": [],
      "source": [
        "class SkipgramNeg(nn.Module):\n",
        "    \n",
        "    def __init__(self, voc_size, emb_size):\n",
        "        super(SkipgramNeg, self).__init__()\n",
        "        self.embedding_center_word  = nn.Embedding(voc_size, emb_size)\n",
        "        self.embedding_outside_word = nn.Embedding(voc_size, emb_size)\n",
        "        self.logsigmoid = nn.LogSigmoid()\n",
        "        \n",
        "    def forward(self, centre_words, outside_words, negative_words):\n",
        "        #center_words, outside_words: (batch_size, 1)\n",
        "        #negative_words:  (batch_size, k)\n",
        "        \n",
        "        center_embbed  = self.embedding_center_word(centre_words)    #(batch_size, 1, emb_size)\n",
        "        outside_embbed = self.embedding_outside_word(outside_words)  #(batch_size, 1, emb_size)\n",
        "        neg_embbed     = self.embedding_outside_word(negative_words) #(batch_size, k, emb_size)\n",
        "        \n",
        "        uovc          =  outside_embbed.bmm(center_embbed.transpose(1, 2)).squeeze(2)  #(batch_size, 1)\n",
        "        ukvc          = -neg_embbed.bmm(center_embbed.transpose(1, 2)).squeeze(2)  #(batch_size, k)\n",
        "        ukvc_sum      =  torch.sum(ukvc, 1).view(-1, 1) #(batch_size, 1)\n",
        "        \n",
        "        loss = self.logsigmoid(uovc) + self.logsigmoid(ukvc_sum)  #(batch_size, 1) + (batch_size, 1)\n",
        "                \n",
        "        return -torch.mean(loss)  \n",
        "#scalar, loss should be scalar, to call backward()"
      ]
    },
    {
      "cell_type": "code",
      "execution_count": 30,
      "id": "514aa4ac-f691-43d7-8efb-8f25d0373c51",
      "metadata": {
        "id": "514aa4ac-f691-43d7-8efb-8f25d0373c51"
      },
      "outputs": [],
      "source": [
        "input, label = random_batch(batch_size, corpus_tokenized)\n",
        "input_tensor = torch.LongTensor(input)  \n",
        "label_tensor = torch.LongTensor(label)"
      ]
    },
    {
      "cell_type": "code",
      "execution_count": 31,
      "id": "dd75b1c9-4e11-46fd-a02c-294cc3adcc64",
      "metadata": {
        "id": "dd75b1c9-4e11-46fd-a02c-294cc3adcc64"
      },
      "outputs": [],
      "source": [
        "emb_size = 20 \n",
        "voc_size = len(vocabs)\n",
        "model = SkipgramNeg(voc_size, emb_size)"
      ]
    },
    {
      "cell_type": "code",
      "execution_count": 32,
      "id": "0952176c-3380-4e8e-bf0b-2f16104fce06",
      "metadata": {
        "id": "0952176c-3380-4e8e-bf0b-2f16104fce06"
      },
      "outputs": [],
      "source": [
        "neg_tensor = negative_sampling(label_tensor, unigram_table, 5)"
      ]
    },
    {
      "cell_type": "code",
      "execution_count": 33,
      "id": "6d0d0e68-5400-4008-ad7c-40dbc2fe4824",
      "metadata": {
        "colab": {
          "base_uri": "https://localhost:8080/"
        },
        "id": "6d0d0e68-5400-4008-ad7c-40dbc2fe4824",
        "outputId": "6575f8d8-9f01-4dba-d60c-75ed504d5612"
      },
      "outputs": [
        {
          "output_type": "execute_result",
          "data": {
            "text/plain": [
              "tensor([[19, 38, 68, 73, 41],\n",
              "        [39, 26, 41, 74,  9]])"
            ]
          },
          "metadata": {},
          "execution_count": 33
        }
      ],
      "source": [
        "neg_tensor"
      ]
    },
    {
      "cell_type": "code",
      "execution_count": 34,
      "id": "ac25dc18-1e28-419c-be71-f2f2ecb3abec",
      "metadata": {
        "colab": {
          "base_uri": "https://localhost:8080/"
        },
        "id": "ac25dc18-1e28-419c-be71-f2f2ecb3abec",
        "outputId": "bd3d8d27-3c3b-4f9e-9327-d2ced4dd0992"
      },
      "outputs": [
        {
          "output_type": "execute_result",
          "data": {
            "text/plain": [
              "(torch.Size([2, 1]), torch.Size([2, 1]))"
            ]
          },
          "metadata": {},
          "execution_count": 34
        }
      ],
      "source": [
        "input_tensor.shape, label_tensor.shape"
      ]
    },
    {
      "cell_type": "code",
      "execution_count": 35,
      "id": "d4e12ad3-ca64-490d-90e6-661ec57319c4",
      "metadata": {
        "colab": {
          "base_uri": "https://localhost:8080/"
        },
        "id": "d4e12ad3-ca64-490d-90e6-661ec57319c4",
        "outputId": "2ae27595-1e3d-4eeb-85db-e6068ed746d3"
      },
      "outputs": [
        {
          "output_type": "execute_result",
          "data": {
            "text/plain": [
              "tensor(9.0118, grad_fn=<NegBackward0>)"
            ]
          },
          "metadata": {},
          "execution_count": 35
        }
      ],
      "source": [
        "loss = model(input_tensor, label_tensor, neg_tensor)\n",
        "loss"
      ]
    },
    {
      "cell_type": "markdown",
      "id": "eea57919-f10e-4951-a0fb-ef73a4afa826",
      "metadata": {
        "id": "eea57919-f10e-4951-a0fb-ef73a4afa826"
      },
      "source": [
        "## 6. Training"
      ]
    },
    {
      "cell_type": "code",
      "execution_count": 36,
      "id": "e3c0f437-de6c-4105-bccf-ff121dea89c4",
      "metadata": {
        "id": "e3c0f437-de6c-4105-bccf-ff121dea89c4"
      },
      "outputs": [],
      "source": [
        "voc_size   = len(vocabs)\n",
        "batch_size = 2\n",
        "emb_size   = 20\n",
        "model      = SkipgramNeg(voc_size, emb_size)\n",
        "\n",
        "optimizer  = optim.Adam(model.parameters(), lr=0.001)"
      ]
    },
    {
      "cell_type": "code",
      "execution_count": 37,
      "id": "fc1edbc6-742f-4c2c-8692-8d8d36e9836e",
      "metadata": {
        "colab": {
          "base_uri": "https://localhost:8080/"
        },
        "id": "fc1edbc6-742f-4c2c-8692-8d8d36e9836e",
        "outputId": "0acbeaf5-5af8-4e40-d85c-db99a72d5094"
      },
      "outputs": [
        {
          "output_type": "stream",
          "name": "stdout",
          "text": [
            "Epoch 1000 | Loss: 0.857514 | Time: 0mins 0secs\n",
            "Epoch 2000 | Loss: 2.118812 | Time: 0mins 0secs\n",
            "Epoch 3000 | Loss: 37.143444 | Time: 0mins 0secs\n",
            "Epoch 4000 | Loss: 3.105965 | Time: 0mins 0secs\n",
            "Process Time: 0mins 6secs\n"
          ]
        }
      ],
      "source": [
        "num_epochs = 4000\n",
        "start0 = time.time()\n",
        "\n",
        "for epoch in range(num_epochs):\n",
        "\n",
        "    #get random batch\n",
        "    start = time.time()\n",
        "    input_batch, label_batch = random_batch(batch_size, corpus_tokenized)\n",
        "    input_batch = torch.LongTensor(input_batch)\n",
        "    label_batch = torch.LongTensor(label_batch)\n",
        "    neg_batch   = negative_sampling(label_batch, unigram_table, 5)    \n",
        "    \n",
        "    #loss = model\n",
        "    loss = model(input_batch, label_batch, neg_batch)\n",
        "    end = time.time()\n",
        "    epoch_mins, epoch_secs = epoch_time(start, end)\n",
        "    \n",
        "    #backpropagate\n",
        "    loss.backward()\n",
        "    \n",
        "    #update alpha\n",
        "    optimizer.step()\n",
        "    \n",
        "    #print epoch loss\n",
        "    if (epoch + 1) % 1000 == 0:\n",
        "        print(f\"Epoch {epoch+1} | Loss: {loss:.6f} | Time: {epoch_mins}mins {epoch_secs}secs\")\n",
        "end0 = time.time()\n",
        "skipmins, skipsecs = epoch_time(start0, end0)\n",
        "print(f\"Process Time: {skipmins}mins {skipsecs}secs\")"
      ]
    },
    {
      "cell_type": "markdown",
      "id": "aa39269b-d3b3-4af5-90ed-6abaa1544017",
      "metadata": {
        "id": "aa39269b-d3b3-4af5-90ed-6abaa1544017"
      },
      "source": [
        "## 7. Plot the embeddings"
      ]
    },
    {
      "cell_type": "code",
      "execution_count": 38,
      "id": "223716df-24cc-487f-b4d8-6665e7e4cc1c",
      "metadata": {
        "colab": {
          "base_uri": "https://localhost:8080/"
        },
        "id": "223716df-24cc-487f-b4d8-6665e7e4cc1c",
        "outputId": "0aa22689-646f-4d17-8c8b-ee51b5b1392c"
      },
      "outputs": [
        {
          "output_type": "execute_result",
          "data": {
            "text/plain": [
              "tensor([78])"
            ]
          },
          "metadata": {},
          "execution_count": 38
        }
      ],
      "source": [
        "king = torch.LongTensor([word2index['King']])\n",
        "king"
      ]
    },
    {
      "cell_type": "code",
      "execution_count": 39,
      "id": "de35d922-c0ed-40a2-a9cc-ba3576998f8d",
      "metadata": {
        "colab": {
          "base_uri": "https://localhost:8080/"
        },
        "id": "de35d922-c0ed-40a2-a9cc-ba3576998f8d",
        "outputId": "3ba5d785-80ce-4e6b-ed35-6e4b9e259387"
      },
      "outputs": [
        {
          "output_type": "execute_result",
          "data": {
            "text/plain": [
              "tensor([51])"
            ]
          },
          "metadata": {},
          "execution_count": 39
        }
      ],
      "source": [
        "president = torch.LongTensor([word2index['president']])\n",
        "president"
      ]
    },
    {
      "cell_type": "code",
      "execution_count": 40,
      "id": "ffd92052-299e-45e4-8681-508e1f0d9f8d",
      "metadata": {
        "colab": {
          "base_uri": "https://localhost:8080/"
        },
        "id": "ffd92052-299e-45e4-8681-508e1f0d9f8d",
        "outputId": "060681ff-d8d8-44dd-a10c-54bd6b634ec6"
      },
      "outputs": [
        {
          "output_type": "execute_result",
          "data": {
            "text/plain": [
              "tensor([[ 0.7344,  1.3435,  2.8556, -1.8368, -0.3663, -1.5712, -1.3355,  0.8111,\n",
              "          0.2515,  1.5568,  0.1334, -0.4816,  2.2125, -1.1088,  2.1707,  2.8774,\n",
              "          0.8719, -1.3954, -1.2681,  1.0637]], grad_fn=<DivBackward0>)"
            ]
          },
          "metadata": {},
          "execution_count": 40
        }
      ],
      "source": [
        "king_center_embbed = model.embedding_center_word(king)\n",
        "king_outside_embbed = model.embedding_outside_word(king)\n",
        "king_embbed = (king_center_embbed + king_outside_embbed) / 2\n",
        "king_embbed"
      ]
    },
    {
      "cell_type": "code",
      "execution_count": 41,
      "id": "673eb362-ce83-4e98-b170-46d289437707",
      "metadata": {
        "id": "673eb362-ce83-4e98-b170-46d289437707"
      },
      "outputs": [],
      "source": [
        "def get_embbed(word):\n",
        "    try:\n",
        "        index = word2index[word]\n",
        "    except:\n",
        "        index = word2index['<UNK>']\n",
        "    \n",
        "    word = torch.LongTensor([index])\n",
        "\n",
        "    center_embbed  = model.embedding_center_word(word)\n",
        "    outside_embbed = model.embedding_outside_word(word)\n",
        "    \n",
        "    embbed = (center_embbed + outside_embbed) / 2\n",
        "    \n",
        "    return  embbed[0][0].item(), embbed[0][1].item()"
      ]
    },
    {
      "cell_type": "code",
      "execution_count": 42,
      "id": "ae29d034-9ea0-48ca-ab7c-5366432f0364",
      "metadata": {
        "colab": {
          "base_uri": "https://localhost:8080/"
        },
        "id": "ae29d034-9ea0-48ca-ab7c-5366432f0364",
        "outputId": "5488549f-326a-4391-971d-532613f57f41"
      },
      "outputs": [
        {
          "output_type": "stream",
          "name": "stdout",
          "text": [
            "(0.734352171421051, 1.3434690237045288)\n",
            "(-1.4363582134246826, -0.6898972988128662)\n"
          ]
        }
      ],
      "source": [
        "king_1 = get_embbed('King')\n",
        "print(king_1)\n",
        "president_1 = get_embbed('president')\n",
        "print(president_1)"
      ]
    },
    {
      "cell_type": "code",
      "source": [
        "leader_1 = get_embbed('leader')\n",
        "print(leader_1)"
      ],
      "metadata": {
        "colab": {
          "base_uri": "https://localhost:8080/"
        },
        "id": "vdMDuAN_i5xS",
        "outputId": "f856a1e8-d097-4e80-8888-ed1029fc64d3"
      },
      "id": "vdMDuAN_i5xS",
      "execution_count": 43,
      "outputs": [
        {
          "output_type": "stream",
          "name": "stdout",
          "text": [
            "(0.1297507882118225, 1.1365818977355957)\n"
          ]
        }
      ]
    },
    {
      "cell_type": "code",
      "execution_count": 44,
      "id": "d1cb9376-5b49-4a8e-b273-f77056eb144f",
      "metadata": {
        "colab": {
          "base_uri": "https://localhost:8080/",
          "height": 295
        },
        "id": "d1cb9376-5b49-4a8e-b273-f77056eb144f",
        "outputId": "82914f68-5bc5-4bac-98c3-0881302d8279"
      },
      "outputs": [
        {
          "output_type": "display_data",
          "data": {
            "text/plain": [
              "<Figure size 600x300 with 1 Axes>"
            ],
            "image/png": "[encoded data removed]"
          },
          "metadata": {}
        }
      ],
      "source": [
        "plt.figure(figsize=(6,3))\n",
        "for i, word in enumerate(vocabs[:20]): #loop each unique vocab\n",
        "    x, y = get_embbed(word)\n",
        "    plt.scatter(x, y)\n",
        "    plt.annotate(word, xy=(x, y), xytext=(5, 2), textcoords='offset points')\n",
        "plt.show()"
      ]
    },
    {
      "cell_type": "markdown",
      "id": "cc6a9424-e542-441d-a78d-f06c4c1fa00c",
      "metadata": {
        "id": "cc6a9424-e542-441d-a78d-f06c4c1fa00c"
      },
      "source": [
        "## Try CBOW"
      ]
    },
    {
      "cell_type": "code",
      "execution_count": 45,
      "id": "ff285977-0147-4bec-97c2-5e5797938f47",
      "metadata": {
        "id": "ff285977-0147-4bec-97c2-5e5797938f47"
      },
      "outputs": [],
      "source": [
        "#delete duplicate word define as vocabs, also include unknow as <UNK>.\n",
        "flatten = lambda l: [item for sublist in l for item in sublist]\n",
        "vocabs  = list(set(flatten(corpus_tokenized)))\n",
        "vocabs.append('<UNK>') # to let '<UNK>' become the last."
      ]
    },
    {
      "cell_type": "code",
      "execution_count": 46,
      "id": "b976be00-1b73-4d46-bae7-562c3a9149e8",
      "metadata": {
        "colab": {
          "base_uri": "https://localhost:8080/"
        },
        "id": "b976be00-1b73-4d46-bae7-562c3a9149e8",
        "outputId": "f0b667b7-256f-4a59-f977-a1fe7ff6ba36"
      },
      "outputs": [
        {
          "output_type": "execute_result",
          "data": {
            "text/plain": [
              "79"
            ]
          },
          "metadata": {},
          "execution_count": 46
        }
      ],
      "source": [
        "word2index = {v: idx+1 for idx, v in enumerate(vocabs)} #plus one to shift value in word index to assign <UNK>'s value to 0 without duplication with others.\n",
        "word2index['<UNK>'] = 0\n",
        "\n",
        "#Let check word to index's value\n",
        "word2index[\"King\"]"
      ]
    },
    {
      "cell_type": "code",
      "execution_count": 47,
      "id": "d774c2bc-5e11-4a8a-b960-b02a889f0c00",
      "metadata": {
        "colab": {
          "base_uri": "https://localhost:8080/",
          "height": 35
        },
        "id": "d774c2bc-5e11-4a8a-b960-b02a889f0c00",
        "outputId": "25a65b95-0f0a-48e6-e17f-50ef5a425dfd"
      },
      "outputs": [
        {
          "output_type": "execute_result",
          "data": {
            "text/plain": [
              "'famous'"
            ],
            "application/vnd.google.colaboratory.intrinsic+json": {
              "type": "string"
            }
          },
          "metadata": {},
          "execution_count": 47
        }
      ],
      "source": [
        "# create index to word\n",
        "index2word = {v:k for k, v in word2index.items()}\n",
        "\n",
        "index2word[68]"
      ]
    },
    {
      "cell_type": "markdown",
      "id": "559b0f14-1745-4e2a-b68a-44ea607457d1",
      "metadata": {
        "id": "559b0f14-1745-4e2a-b68a-44ea607457d1"
      },
      "source": [
        "## Prepare the data"
      ]
    },
    {
      "cell_type": "code",
      "execution_count": 48,
      "id": "7b3fd8da-d2af-47b8-ba93-89024ba6811d",
      "metadata": {
        "colab": {
          "base_uri": "https://localhost:8080/"
        },
        "id": "7b3fd8da-d2af-47b8-ba93-89024ba6811d",
        "outputId": "306dee16-60da-4856-f285-09592820fa97"
      },
      "outputs": [
        {
          "output_type": "execute_result",
          "data": {
            "text/plain": [
              "[['King', 'of'],\n",
              " ['King', '.'],\n",
              " ['Jr.', 'of'],\n",
              " ['Jr.', '.'],\n",
              " ['(', 'of'],\n",
              " ['(', '.'],\n",
              " ['born', 'of'],\n",
              " ['born', '.'],\n",
              " ['Michael', 'of'],\n",
              " ['Michael', '.'],\n",
              " ['King', 'of'],\n",
              " ['King', '.'],\n",
              " ['Jr.', 'of'],\n",
              " ['Jr.', '.'],\n",
              " [';', 'of'],\n",
              " [';', '.'],\n",
              " ['January', 'of'],\n",
              " ['January', '.'],\n",
              " ['15', 'of'],\n",
              " ['15', '.'],\n",
              " [',', 'of'],\n",
              " [',', '.'],\n",
              " ['1929', 'of'],\n",
              " ['1929', '.'],\n",
              " ['–', 'of'],\n",
              " ['–', '.'],\n",
              " ['April', 'of'],\n",
              " ['April', '.'],\n",
              " ['4', 'of'],\n",
              " ['4', '.']]"
            ]
          },
          "metadata": {},
          "execution_count": 48
        }
      ],
      "source": [
        "cbow = []\n",
        "\n",
        "#for each corpus\n",
        "for sent in corpus_tokenized:\n",
        "    #for each sent \n",
        "    for i in range(2, len(sent) - 2): # start from 1 to second last but we use window size of 2, then first centre word should be at index 2\n",
        "        center_word = sent[i]\n",
        "        ooutside_words = [sent[i-2], sent[i+2]]  #window_size = 2\n",
        "        for o in outside_words:\n",
        "            cbow.append([center_word, o])\n",
        "\n",
        "cbow[:30]"
      ]
    },
    {
      "cell_type": "code",
      "execution_count": 49,
      "id": "31a1c63b-3c1a-4f5a-b67e-0022b86d1f64",
      "metadata": {
        "id": "31a1c63b-3c1a-4f5a-b67e-0022b86d1f64"
      },
      "outputs": [],
      "source": [
        "def random_batch(batch_size, corpus):\n",
        "    \n",
        "    cbow = []\n",
        "\n",
        "    #for each corpus\n",
        "    for sent in corpus_tokenized:\n",
        "        #for each sent \n",
        "        for i in range(2, len(sent) - 2): #start from 2 to the third last\n",
        "            center_word = word2index[sent[i]]\n",
        "            outside_words = [word2index[sent[i-2]], word2index[sent[i+2]]]  #window_size = 2\n",
        "            for o in outside_words:\n",
        "                cbow.append([center_word, o])\n",
        "                \n",
        "    #only get a batch, not the entire list\n",
        "    random_index = np.random.choice(range(len(skipgrams)), batch_size, replace=False)\n",
        "             \n",
        "    #appending some list of inputs and labels\n",
        "    random_inputs, random_labels = [], []   \n",
        "    for index in random_index:\n",
        "        random_inputs.append([cbow[index][0]])  \n",
        "        random_labels.append([cbow[index][1]])\n",
        "        \n",
        "    return np.array(random_inputs), np.array(random_labels)"
      ]
    },
    {
      "cell_type": "code",
      "execution_count": 50,
      "id": "233d4ea0-3852-4ab1-9085-61b9e8efb4fc",
      "metadata": {
        "colab": {
          "base_uri": "https://localhost:8080/"
        },
        "id": "233d4ea0-3852-4ab1-9085-61b9e8efb4fc",
        "outputId": "cb82ebb1-5b38-4bbf-fec7-a43ac331d6ea"
      },
      "outputs": [
        {
          "output_type": "stream",
          "name": "stdout",
          "text": [
            "(10, 1)\n",
            "label=array([[96],\n",
            "       [23],\n",
            "       [95],\n",
            "       [33],\n",
            "       [88],\n",
            "       [26],\n",
            "       [71],\n",
            "       [27],\n",
            "       [40],\n",
            "       [47]])\n"
          ]
        }
      ],
      "source": [
        "input, label = random_batch(10, corpus_tokenized)\n",
        "\n",
        "print(f\"{input.shape}\")\n",
        "print(f\"{label=}\")"
      ]
    },
    {
      "cell_type": "markdown",
      "id": "bd3ef726-fa46-4fd0-95e5-e714bc6b1623",
      "metadata": {
        "id": "bd3ef726-fa46-4fd0-95e5-e714bc6b1623"
      },
      "source": [
        "## Unigram distribution"
      ]
    },
    {
      "cell_type": "code",
      "execution_count": 51,
      "id": "639e925f-e55b-4def-8795-653eb748ddd9",
      "metadata": {
        "id": "639e925f-e55b-4def-8795-653eb748ddd9"
      },
      "outputs": [],
      "source": [
        "from collections import Counter\n",
        "\n",
        "word_count = Counter(flatten(corpus_tokenized))"
      ]
    },
    {
      "cell_type": "code",
      "execution_count": 52,
      "id": "ebb7be50-8a40-48ab-8e47-cf8920ab516a",
      "metadata": {
        "colab": {
          "base_uri": "https://localhost:8080/"
        },
        "id": "ebb7be50-8a40-48ab-8e47-cf8920ab516a",
        "outputId": "29352fa9-ea2a-4959-9b11-2a9969bfe43c"
      },
      "outputs": [
        {
          "output_type": "execute_result",
          "data": {
            "text/plain": [
              "194"
            ]
          },
          "metadata": {},
          "execution_count": 52
        }
      ],
      "source": [
        "num_total_words = sum([c for w, c in word_count.items()])\n",
        "num_total_words"
      ]
    },
    {
      "cell_type": "code",
      "execution_count": 53,
      "id": "df391a31-805d-4f57-9cb4-733a4b79a2be",
      "metadata": {
        "id": "df391a31-805d-4f57-9cb4-733a4b79a2be"
      },
      "outputs": [],
      "source": [
        "z = 0.001  #scaling up low frequency terms\n",
        "unigram_table = []\n",
        "\n",
        "# create loop for the P(w) formula\n",
        "for v in vocabs:\n",
        "    uw = word_count[v]/num_total_words\n",
        "    uw_alpha = uw ** (3/4)\n",
        "    uw_alpha_dividebyz = int(uw_alpha / z)\n",
        "    unigram_table.extend([v] * uw_alpha_dividebyz)"
      ]
    },
    {
      "cell_type": "markdown",
      "id": "a612a706-ff7d-40a7-9fde-9ba7c970f33e",
      "metadata": {
        "id": "a612a706-ff7d-40a7-9fde-9ba7c970f33e"
      },
      "source": [
        "## Negative sampling"
      ]
    },
    {
      "cell_type": "code",
      "execution_count": 54,
      "id": "eb1a6669-0c66-4ae3-a127-867e83554174",
      "metadata": {
        "id": "eb1a6669-0c66-4ae3-a127-867e83554174"
      },
      "outputs": [],
      "source": [
        "def prepare_sequence(seq, word2index):\n",
        "    idxs = list(map(lambda w: word2index[w] if word2index.get(w) is not None else word2index[\"<UNK>\"], seq))\n",
        "    return torch.LongTensor(idxs)"
      ]
    },
    {
      "cell_type": "code",
      "execution_count": 55,
      "id": "4f421c88-0742-400e-a73b-c4bd72538bf4",
      "metadata": {
        "id": "4f421c88-0742-400e-a73b-c4bd72538bf4"
      },
      "outputs": [],
      "source": [
        "import random\n",
        "\n",
        "def negative_sampling(targets, unigram_table, k):\n",
        "    \n",
        "    batch_size = targets.shape[0]\n",
        "    neg_samples = []\n",
        "    \n",
        "    for i in range(batch_size):\n",
        "        #randomly pick k negative words from unigram_table\n",
        "        target_index = targets[i].item()  #looping each of the batch....\n",
        "        nsample = []\n",
        "        while len(nsample) < k:\n",
        "            neg = random.choice(unigram_table)\n",
        "            #if this word == target, skip this word\n",
        "            if word2index[neg] == target_index:\n",
        "                continue\n",
        "            nsample.append(neg)\n",
        "        #append this word to some list\n",
        "        neg_samples.append(prepare_sequence(nsample, word2index).reshape(1, -1))  #tensor[], tensor[]\n",
        "    return torch.cat(neg_samples)"
      ]
    },
    {
      "cell_type": "markdown",
      "id": "b013face-fc57-463b-a4e5-95d8234b0a28",
      "metadata": {
        "id": "b013face-fc57-463b-a4e5-95d8234b0a28"
      },
      "source": [
        "Skipgram and CBOW have different prediction methods\n",
        "then it has to flip labels and inputs for CBOW."
      ]
    },
    {
      "cell_type": "code",
      "execution_count": 56,
      "id": "cd371d58-1481-4af0-a4e9-edf2ee93a0d0",
      "metadata": {
        "colab": {
          "base_uri": "https://localhost:8080/"
        },
        "id": "cd371d58-1481-4af0-a4e9-edf2ee93a0d0",
        "outputId": "e88e739b-28f2-4a89-c7da-26a1face218b"
      },
      "outputs": [
        {
          "output_type": "execute_result",
          "data": {
            "text/plain": [
              "(array([[81],\n",
              "        [46]]),\n",
              " array([[26],\n",
              "        [75]]))"
            ]
          },
          "metadata": {},
          "execution_count": 56
        }
      ],
      "source": [
        "batch_size = 2\n",
        "label_batch, input_batch = random_batch(batch_size, corpus_tokenized)\n",
        "\n",
        "input_batch, label_batch"
      ]
    },
    {
      "cell_type": "code",
      "execution_count": 57,
      "id": "a881ce9b-0bb7-47e4-a80a-5e0ed768d7eb",
      "metadata": {
        "id": "a881ce9b-0bb7-47e4-a80a-5e0ed768d7eb"
      },
      "outputs": [],
      "source": [
        "# Convert to Tensor\n",
        "\n",
        "input_batch = torch.LongTensor(input_batch)\n",
        "label_batch = torch.LongTensor(label_batch)"
      ]
    },
    {
      "cell_type": "code",
      "execution_count": 58,
      "id": "5e3d2c6d-6c13-466f-b145-8f8439977783",
      "metadata": {
        "id": "5e3d2c6d-6c13-466f-b145-8f8439977783"
      },
      "outputs": [],
      "source": [
        "num_neg = 5  # same as the first part\n",
        "neg_samples = negative_sampling(label_batch, unigram_table, num_neg)"
      ]
    },
    {
      "cell_type": "code",
      "execution_count": 59,
      "id": "95a58168-a389-409b-8b0d-9634f18ef81c",
      "metadata": {
        "colab": {
          "base_uri": "https://localhost:8080/"
        },
        "id": "95a58168-a389-409b-8b0d-9634f18ef81c",
        "outputId": "95967c44-7d84-4a23-ed6e-7542205c7634"
      },
      "outputs": [
        {
          "output_type": "execute_result",
          "data": {
            "text/plain": [
              "torch.Size([2, 5])"
            ]
          },
          "metadata": {},
          "execution_count": 59
        }
      ],
      "source": [
        "neg_samples.shape # shape is (batch_size, num_neg)"
      ]
    },
    {
      "cell_type": "markdown",
      "id": "3198b611-aea9-4b8c-83a5-f4280c319c12",
      "metadata": {
        "id": "3198b611-aea9-4b8c-83a5-f4280c319c12"
      },
      "source": [
        "## Model"
      ]
    },
    {
      "cell_type": "code",
      "execution_count": 60,
      "id": "5f3a1a9c-3f85-4f1b-98a0-6bb04ea780e0",
      "metadata": {
        "id": "5f3a1a9c-3f85-4f1b-98a0-6bb04ea780e0"
      },
      "outputs": [],
      "source": [
        "class cbow(nn.Module):\n",
        "    \n",
        "    def __init__(self, voc_size, emb_size):\n",
        "        super(cbow, self).__init__()\n",
        "        self.embedding_center_word  = nn.Embedding(voc_size, emb_size)\n",
        "        self.embedding_outside_word = nn.Embedding(voc_size, emb_size)\n",
        "        self.logsigmoid = nn.LogSigmoid()\n",
        "        \n",
        "    def forward(self, center_words, outside_words, negative_words):\n",
        "        \n",
        "        center_embed  = self.embedding_center_word(center_words)    #(batch_size, 1, emb_size)\n",
        "        outside_embed = self.embedding_outside_word(outside_words)  #(batch_size, 1, emb_size)\n",
        "        neg_embed     = self.embedding_outside_word(negative_words) #(batch_size, k, emb_size)\n",
        "        \n",
        "        uovc          =  outside_embed.bmm(center_embed.transpose(1, 2)).squeeze(2)  #(batch_size, 1)\n",
        "        ukvc          = -neg_embed.bmm(center_embed.transpose(1, 2)).squeeze(2)  #(batch_size, k)\n",
        "        ukvc_sum      =  torch.sum(ukvc, 1).view(-1, 1) #(batch_size, 1)\n",
        "        \n",
        "        loss = self.logsigmoid(uovc) + self.logsigmoid(ukvc_sum)  #(batch_size, 1) + (batch_size, 1)\n",
        "                \n",
        "        return -torch.mean(loss)  #scalar, loss should be scalar, to call backward()"
      ]
    },
    {
      "cell_type": "code",
      "execution_count": 61,
      "id": "86fbc226-7512-4429-8241-bada6a159c53",
      "metadata": {
        "id": "86fbc226-7512-4429-8241-bada6a159c53"
      },
      "outputs": [],
      "source": [
        "label, input = random_batch(batch_size, corpus_tokenized)\n",
        "input_tensor = torch.LongTensor(input)  \n",
        "label_tensor = torch.LongTensor(label)"
      ]
    },
    {
      "cell_type": "code",
      "execution_count": 62,
      "id": "ae6fa688-3e89-4f76-8373-77a3b864e57b",
      "metadata": {
        "id": "ae6fa688-3e89-4f76-8373-77a3b864e57b"
      },
      "outputs": [],
      "source": [
        "emb_size = 20\n",
        "voc_size = len(vocabs)\n",
        "model = cbow(voc_size, emb_size)"
      ]
    },
    {
      "cell_type": "code",
      "execution_count": 63,
      "id": "3eead5e3-9a8b-4f30-a486-7de1e6754f47",
      "metadata": {
        "colab": {
          "base_uri": "https://localhost:8080/"
        },
        "id": "3eead5e3-9a8b-4f30-a486-7de1e6754f47",
        "outputId": "46c7cd5f-9d78-432c-aa76-a849032f4d3a"
      },
      "outputs": [
        {
          "output_type": "execute_result",
          "data": {
            "text/plain": [
              "20"
            ]
          },
          "metadata": {},
          "execution_count": 63
        }
      ],
      "source": [
        "emb_size"
      ]
    },
    {
      "cell_type": "code",
      "execution_count": 64,
      "id": "51756e65-75b0-406c-9582-af5a7f2a1279",
      "metadata": {
        "colab": {
          "base_uri": "https://localhost:8080/"
        },
        "id": "51756e65-75b0-406c-9582-af5a7f2a1279",
        "outputId": "da693300-b9f3-48bf-ea41-186cdafb40f9"
      },
      "outputs": [
        {
          "output_type": "execute_result",
          "data": {
            "text/plain": [
              "112"
            ]
          },
          "metadata": {},
          "execution_count": 64
        }
      ],
      "source": [
        "voc_size"
      ]
    },
    {
      "cell_type": "code",
      "execution_count": 65,
      "id": "dba4dfab-8e6c-4cee-b744-f013fce7356c",
      "metadata": {
        "colab": {
          "base_uri": "https://localhost:8080/"
        },
        "id": "dba4dfab-8e6c-4cee-b744-f013fce7356c",
        "outputId": "160d1036-f48c-452b-fb0f-f51aec5a5003"
      },
      "outputs": [
        {
          "output_type": "execute_result",
          "data": {
            "text/plain": [
              "cbow(\n",
              "  (embedding_center_word): Embedding(112, 20)\n",
              "  (embedding_outside_word): Embedding(112, 20)\n",
              "  (logsigmoid): LogSigmoid()\n",
              ")"
            ]
          },
          "metadata": {},
          "execution_count": 65
        }
      ],
      "source": [
        "model"
      ]
    },
    {
      "cell_type": "code",
      "execution_count": 66,
      "id": "a446cb7e-80f6-47f7-bef1-876a9e607c62",
      "metadata": {
        "id": "a446cb7e-80f6-47f7-bef1-876a9e607c62"
      },
      "outputs": [],
      "source": [
        "neg_tensor = negative_sampling(label_tensor, unigram_table, 5)"
      ]
    },
    {
      "cell_type": "code",
      "execution_count": 67,
      "id": "a7be2f30-e199-427f-871e-2c976764c77d",
      "metadata": {
        "colab": {
          "base_uri": "https://localhost:8080/"
        },
        "id": "a7be2f30-e199-427f-871e-2c976764c77d",
        "outputId": "b0a678fb-51b3-432d-f8bf-16593c26e312"
      },
      "outputs": [
        {
          "output_type": "execute_result",
          "data": {
            "text/plain": [
              "(torch.Size([2, 1]), torch.Size([2, 1]))"
            ]
          },
          "metadata": {},
          "execution_count": 67
        }
      ],
      "source": [
        "input_tensor.shape, label_tensor.shape"
      ]
    },
    {
      "cell_type": "code",
      "execution_count": 68,
      "id": "3d7db951-28f8-48d7-b1b4-61fa32660f77",
      "metadata": {
        "colab": {
          "base_uri": "https://localhost:8080/"
        },
        "id": "3d7db951-28f8-48d7-b1b4-61fa32660f77",
        "outputId": "f69b16f7-45d2-4391-890f-cce639e1a0a9"
      },
      "outputs": [
        {
          "output_type": "execute_result",
          "data": {
            "text/plain": [
              "tensor(3.7207, grad_fn=<NegBackward0>)"
            ]
          },
          "metadata": {},
          "execution_count": 68
        }
      ],
      "source": [
        "loss = model(input_tensor, label_tensor, neg_tensor)\n",
        "loss"
      ]
    },
    {
      "cell_type": "markdown",
      "id": "680499e5-8f01-4a7e-8eeb-fa884b0df4c5",
      "metadata": {
        "id": "680499e5-8f01-4a7e-8eeb-fa884b0df4c5"
      },
      "source": [
        "## Training"
      ]
    },
    {
      "cell_type": "code",
      "execution_count": 69,
      "id": "ae69955a-3ec3-4358-9805-ef9e62679619",
      "metadata": {
        "id": "ae69955a-3ec3-4358-9805-ef9e62679619"
      },
      "outputs": [],
      "source": [
        "voc_size   = len(vocabs)\n",
        "batch_size = 2\n",
        "emb_size   = 20\n",
        "model      = cbow(voc_size, emb_size)\n",
        "\n",
        "optimizer  = optim.Adam(model.parameters(), lr=0.001)"
      ]
    },
    {
      "cell_type": "code",
      "execution_count": 70,
      "id": "a31d37b1-67f8-4196-85b4-dc0d92607d61",
      "metadata": {
        "colab": {
          "base_uri": "https://localhost:8080/"
        },
        "id": "a31d37b1-67f8-4196-85b4-dc0d92607d61",
        "outputId": "cef0e3fe-a734-4f60-c4d1-3670db6c91b8"
      },
      "outputs": [
        {
          "output_type": "stream",
          "name": "stdout",
          "text": [
            "Epoch 1000 | Loss: 0.015671\n",
            "Epoch 2000 | Loss: 3.710151\n",
            "Epoch 3000 | Loss: 17.852722\n",
            "Epoch 4000 | Loss: 0.000000\n",
            "Process Time: 0mins 4secs\n"
          ]
        }
      ],
      "source": [
        "num_epochs = 4000\n",
        "start0 = time.time()\n",
        "\n",
        "for epoch in range(num_epochs):\n",
        "    start = time.time()\n",
        "\n",
        "    #get random batch\n",
        "    input_batch, label_batch = random_batch(batch_size, corpus_tokenized)\n",
        "    input_batch = torch.LongTensor(input_batch)\n",
        "    label_batch = torch.LongTensor(label_batch)\n",
        "    neg_batch   = negative_sampling(label_batch, unigram_table, 5)    \n",
        "    \n",
        "    #loss = model\n",
        "    loss = model(input_batch, label_batch, neg_batch)\n",
        "    end = time.time()\n",
        "    epoch_mins, epoch_secs = epoch_time(start, end)\n",
        "    \n",
        "    #backpropagate\n",
        "    loss.backward()\n",
        "    \n",
        "    #update alpha\n",
        "    optimizer.step()\n",
        "    \n",
        "    #print epoch loss\n",
        "    if (epoch + 1) % 1000 == 0:\n",
        "        print(f\"Epoch {epoch+1} | Loss: {loss:.6f}\")\n",
        "end0 = time.time()\n",
        "negmins, negsecs = epoch_time(start0, end0)\n",
        "print(f\"Process Time: {negmins}mins {negsecs}secs\")"
      ]
    },
    {
      "cell_type": "markdown",
      "id": "0c921f25-43dd-4501-afe7-512b36b41382",
      "metadata": {
        "id": "0c921f25-43dd-4501-afe7-512b36b41382"
      },
      "source": [
        "## Plot the embeddings"
      ]
    },
    {
      "cell_type": "code",
      "execution_count": 71,
      "id": "ec280945-82cb-4a68-80cc-9ffe6c7cf50e",
      "metadata": {
        "colab": {
          "base_uri": "https://localhost:8080/"
        },
        "id": "ec280945-82cb-4a68-80cc-9ffe6c7cf50e",
        "outputId": "56458daf-fdfe-45a8-965a-6802d93aee7f"
      },
      "outputs": [
        {
          "output_type": "execute_result",
          "data": {
            "text/plain": [
              "tensor([79])"
            ]
          },
          "metadata": {},
          "execution_count": 71
        }
      ],
      "source": [
        "king = torch.LongTensor([word2index['King']])\n",
        "king"
      ]
    },
    {
      "cell_type": "code",
      "execution_count": 72,
      "id": "279d4fb0-756f-4353-9958-1ef0ae78a745",
      "metadata": {
        "colab": {
          "base_uri": "https://localhost:8080/"
        },
        "id": "279d4fb0-756f-4353-9958-1ef0ae78a745",
        "outputId": "9a028243-ce98-4135-95f8-fe2403631dc4"
      },
      "outputs": [
        {
          "output_type": "execute_result",
          "data": {
            "text/plain": [
              "tensor([[-2.0001, -2.5732,  0.7129, -0.8444,  4.1257,  1.1380, -2.3126, -2.2041,\n",
              "          1.5149, -0.3793,  2.4533,  0.3230,  1.4032, -0.2519, -0.5588, -0.9905,\n",
              "         -0.2676, -1.5087,  0.9739,  1.4016]], grad_fn=<DivBackward0>)"
            ]
          },
          "metadata": {},
          "execution_count": 72
        }
      ],
      "source": [
        "king_center_embed = model.embedding_center_word(king)\n",
        "king_outside_embed = model.embedding_outside_word(king)\n",
        "\n",
        "king_embed = (king_center_embed + king_outside_embed) / 2\n",
        "king_embed"
      ]
    },
    {
      "cell_type": "code",
      "execution_count": 73,
      "id": "7e039e1d-20c6-40d4-ac2c-ea598b8e650d",
      "metadata": {
        "id": "7e039e1d-20c6-40d4-ac2c-ea598b8e650d"
      },
      "outputs": [],
      "source": [
        "def get_embed(word):\n",
        "    try:\n",
        "        index = word2index[word]\n",
        "    except:\n",
        "        index = word2index['<UNK>']\n",
        "    \n",
        "    word = torch.LongTensor([index])\n",
        "\n",
        "    center_embed  = model.embedding_center_word(word)\n",
        "    outside_embed = model.embedding_outside_word(word)\n",
        "    \n",
        "    embed = (center_embed + outside_embed) / 2\n",
        "    \n",
        "    return  embed[0][0].item(), embed[0][1].item()"
      ]
    },
    {
      "cell_type": "code",
      "execution_count": 74,
      "id": "6a474693-0d71-4064-b26f-a411f4d9d145",
      "metadata": {
        "colab": {
          "base_uri": "https://localhost:8080/"
        },
        "id": "6a474693-0d71-4064-b26f-a411f4d9d145",
        "outputId": "5eff2ef0-4154-48ad-b241-457ce30fd277"
      },
      "outputs": [
        {
          "output_type": "stream",
          "name": "stdout",
          "text": [
            "(-2.0001373291015625, -2.573195457458496)\n",
            "(1.2795846462249756, -0.223901629447937)\n",
            "(-1.4619696140289307, -2.53597354888916)\n"
          ]
        }
      ],
      "source": [
        "neg_king = get_embed('King')\n",
        "neg_leader = get_embed('leader')\n",
        "neg_president = get_embed('president')\n",
        "print(neg_king)\n",
        "print(neg_leader)\n",
        "print(neg_president)"
      ]
    },
    {
      "cell_type": "code",
      "execution_count": 75,
      "id": "7da8971b-f31f-407c-9d86-024478db903d",
      "metadata": {
        "colab": {
          "base_uri": "https://localhost:8080/",
          "height": 295
        },
        "id": "7da8971b-f31f-407c-9d86-024478db903d",
        "outputId": "9bce7f5f-92a3-44b2-db09-0c7a9d97872a"
      },
      "outputs": [
        {
          "output_type": "display_data",
          "data": {
            "text/plain": [
              "<Figure size 600x300 with 1 Axes>"
            ],
            "image/png": "[encoded data removed]"
          },
          "metadata": {}
        }
      ],
      "source": [
        "plt.figure(figsize=(6,3))\n",
        "for i, word in enumerate(vocabs[:20]): #loop each unique vocab\n",
        "    x, y = get_embed(word)\n",
        "    plt.scatter(x, y)\n",
        "    plt.annotate(word, xy=(x, y), xytext=(5, 2), textcoords='offset points')\n",
        "plt.show()"
      ]
    },
    {
      "cell_type": "markdown",
      "id": "fecf01f2-7a2e-49d3-bdfa-ec6006bde0ea",
      "metadata": {
        "id": "fecf01f2-7a2e-49d3-bdfa-ec6006bde0ea"
      },
      "source": [
        "## Try Normal Skipgram"
      ]
    },
    {
      "cell_type": "code",
      "execution_count": 76,
      "id": "f77a238b-84bf-4efb-9dc7-e3812833dc3a",
      "metadata": {
        "colab": {
          "base_uri": "https://localhost:8080/"
        },
        "id": "f77a238b-84bf-4efb-9dc7-e3812833dc3a",
        "outputId": "01a07fa1-0e2b-4f52-967a-234ab63b5cd4"
      },
      "outputs": [
        {
          "output_type": "execute_result",
          "data": {
            "text/plain": [
              "79"
            ]
          },
          "metadata": {},
          "execution_count": 76
        }
      ],
      "source": [
        "#delete duplicate word define as vocabs, also include unknow as <UNK>.\n",
        "flatten = lambda l: [item for sublist in l for item in sublist]\n",
        "vocabs  = list(set(flatten(corpus_tokenized)))\n",
        "vocabs.append('<UNK>') # to let '<UNK>' become the last.\n",
        "word2index = {v: idx+1 for idx, v in enumerate(vocabs)} #plus one to shift value in word index to assign <UNK>'s value to 0 without duplication with others.\n",
        "word2index['<UNK>'] = 0\n",
        "\n",
        "#Let check word to index's value\n",
        "word2index[\"King\"]"
      ]
    },
    {
      "cell_type": "code",
      "execution_count": 77,
      "id": "db458481-af57-4143-b98e-4cc1c18b2d1b",
      "metadata": {
        "colab": {
          "base_uri": "https://localhost:8080/",
          "height": 35
        },
        "id": "db458481-af57-4143-b98e-4cc1c18b2d1b",
        "outputId": "ec1ba219-3ca9-4a6f-d1a3-f2275ac453b0"
      },
      "outputs": [
        {
          "output_type": "execute_result",
          "data": {
            "text/plain": [
              "'1968'"
            ],
            "application/vnd.google.colaboratory.intrinsic+json": {
              "type": "string"
            }
          },
          "metadata": {},
          "execution_count": 77
        }
      ],
      "source": [
        "# Create index to word\n",
        "index2word = {v:k for k, v in word2index.items()}\n",
        "\n",
        "index2word[80]"
      ]
    },
    {
      "cell_type": "code",
      "execution_count": 78,
      "id": "727b4e62-8d34-4b56-a5f5-f934a2fc5e18",
      "metadata": {
        "id": "727b4e62-8d34-4b56-a5f5-f934a2fc5e18"
      },
      "outputs": [],
      "source": [
        "skipgrams = []\n",
        "\n",
        "#for each corpus\n",
        "for sent in corpus_tokenized:\n",
        "    \n",
        "    for i in range(2, len(sent) - 2): # start from 1 to second last but we use window size of 2, then first centre word should be at index 2\n",
        "        center_word = sent[i]\n",
        "        outside_words = np.ravel([sent[i - 2:i],sent[i+1: i + 3]])  # window_size = 2\n",
        "        for o in outside_words:\n",
        "            skipgrams.append([center_word, o])"
      ]
    },
    {
      "cell_type": "code",
      "execution_count": 79,
      "id": "c8dd80a7-eb61-4da2-b4b9-fb1e9cedcf7d",
      "metadata": {
        "colab": {
          "base_uri": "https://localhost:8080/"
        },
        "id": "c8dd80a7-eb61-4da2-b4b9-fb1e9cedcf7d",
        "outputId": "2bd89fa7-b520-4928-9e1e-97420ad50d2c"
      },
      "outputs": [
        {
          "output_type": "execute_result",
          "data": {
            "text/plain": [
              "[['King', 'Martin'],\n",
              " ['King', 'Luther'],\n",
              " ['King', 'Jr.'],\n",
              " ['King', '('],\n",
              " ['Jr.', 'Luther'],\n",
              " ['Jr.', 'King'],\n",
              " ['Jr.', '('],\n",
              " ['Jr.', 'born'],\n",
              " ['(', 'King'],\n",
              " ['(', 'Jr.'],\n",
              " ['(', 'born'],\n",
              " ['(', 'Michael'],\n",
              " ['born', 'Jr.'],\n",
              " ['born', '('],\n",
              " ['born', 'Michael'],\n",
              " ['born', 'King'],\n",
              " ['Michael', '('],\n",
              " ['Michael', 'born'],\n",
              " ['Michael', 'King'],\n",
              " ['Michael', 'Jr.'],\n",
              " ['King', 'born'],\n",
              " ['King', 'Michael'],\n",
              " ['King', 'Jr.'],\n",
              " ['King', ';'],\n",
              " ['Jr.', 'Michael'],\n",
              " ['Jr.', 'King'],\n",
              " ['Jr.', ';'],\n",
              " ['Jr.', 'January'],\n",
              " [';', 'King'],\n",
              " [';', 'Jr.'],\n",
              " [';', 'January'],\n",
              " [';', '15'],\n",
              " ['January', 'Jr.'],\n",
              " ['January', ';'],\n",
              " ['January', '15'],\n",
              " ['January', ','],\n",
              " ['15', ';'],\n",
              " ['15', 'January'],\n",
              " ['15', ','],\n",
              " ['15', '1929']]"
            ]
          },
          "metadata": {},
          "execution_count": 79
        }
      ],
      "source": [
        "skipgrams[:40]"
      ]
    },
    {
      "cell_type": "code",
      "execution_count": 80,
      "id": "e68bd830-3229-4dc6-bf1d-a1ad66ffb00b",
      "metadata": {
        "id": "e68bd830-3229-4dc6-bf1d-a1ad66ffb00b"
      },
      "outputs": [],
      "source": [
        "def random_batch(batch_size, corpus):\n",
        "    \n",
        "    skipgrams = []\n",
        "\n",
        "    #for each corpus\n",
        "    for sent in corpus_tokenized:\n",
        "        #for each sent \n",
        "        for i in range(2, len(sent) - 2): #start from 2 to the third last\n",
        "            center_word = word2index[sent[i]]\n",
        "            outside_words = [word2index[sent[i-2]], word2index[sent[i+2]]]  #window_size = 2\n",
        "            for o in outside_words:\n",
        "                skipgrams.append([center_word, o])\n",
        "                \n",
        "    #only get a batch, not the entire list\n",
        "    random_index = np.random.choice(range(len(skipgrams)), batch_size, replace=False)\n",
        "             \n",
        "    #appending some list of inputs and labels\n",
        "    random_inputs, random_labels = [], []   \n",
        "    for index in random_index:\n",
        "        random_inputs.append([skipgrams[index][0]])  \n",
        "        random_labels.append([skipgrams[index][1]])\n",
        "        \n",
        "    return np.array(random_inputs), np.array(random_labels)"
      ]
    },
    {
      "cell_type": "code",
      "execution_count": 81,
      "id": "d3e786aa-e07f-45c3-a439-be511492bc77",
      "metadata": {
        "id": "d3e786aa-e07f-45c3-a439-be511492bc77"
      },
      "outputs": [],
      "source": [
        "class Skipgram(nn.Module):\n",
        "    \n",
        "    def __init__(self, voc_size, emb_size):\n",
        "        super(Skipgram, self).__init__()\n",
        "        self.embedding_center_word  = nn.Embedding(voc_size, emb_size)  #is a lookup table mapping all ids in voc_size, into some vector of size emb_size\n",
        "        self.embedding_outside_word = nn.Embedding(voc_size, emb_size)\n",
        "    \n",
        "    def forward(self, center_word, outside_word, all_vocabs):\n",
        "        #center_word, outside_word: (batch_size, 1)\n",
        "        #all_vocabs: (batch_size, voc_size)\n",
        "        \n",
        "        #convert them into embedding\n",
        "        center_word_embed  = self.embedding_center_word(center_word)     #(batch_size, 1, emb_size)\n",
        "        outside_word_embed = self.embedding_outside_word(outside_word)   #(batch_size, 1, emb_size)\n",
        "        all_vocabs_embed   = self.embedding_outside_word(all_vocabs)     #(batch_size, voc_size, emb_size)\n",
        "        \n",
        "        #bmm is basically @ or .dot , but across batches (i.e., ignore the batch dimension)\n",
        "        top_term = outside_word_embed.bmm(center_word_embed.transpose(1, 2)).squeeze(2)\n",
        "        #(batch_size, 1, emb_size) @ (batch_size, emb_size, 1) = (batch_size, 1, 1) ===> (batch_size, 1)\n",
        "        \n",
        "        top_term_exp = torch.exp(top_term)  #exp(uo vc)\n",
        "        #(batch_size, 1)\n",
        "        \n",
        "        lower_term = all_vocabs_embed.bmm(center_word_embed.transpose(1, 2)).squeeze(2)\n",
        "         #(batch_size, voc_size, emb_size) @ (batch_size, emb_size, 1) = (batch_size, voc_size, 1) = (batch_size, voc_size)\n",
        "         \n",
        "        lower_term_sum = torch.sum(torch.exp(lower_term), 1) #sum exp(uw vc)\n",
        "        #(batch_size, 1)\n",
        "        \n",
        "        loss_fn = -torch.mean(torch.log(top_term_exp / lower_term_sum))\n",
        "        #(batch_size, 1) / (batch_size, 1) ==mean==> scalar\n",
        "        \n",
        "        return loss_fn"
      ]
    },
    {
      "cell_type": "code",
      "execution_count": 82,
      "id": "66872fc5-1d01-432c-ad0f-d8aae3d8bb3c",
      "metadata": {
        "colab": {
          "base_uri": "https://localhost:8080/"
        },
        "id": "66872fc5-1d01-432c-ad0f-d8aae3d8bb3c",
        "outputId": "19758dcf-386d-4366-dc82-671e845980a4"
      },
      "outputs": [
        {
          "output_type": "stream",
          "name": "stdout",
          "text": [
            "(10, 1)\n",
            "label=array([[12],\n",
            "       [75],\n",
            "       [29],\n",
            "       [25],\n",
            "       [25],\n",
            "       [45],\n",
            "       [47],\n",
            "       [ 9],\n",
            "       [36],\n",
            "       [56]])\n"
          ]
        }
      ],
      "source": [
        "input, label = random_batch(10, corpus_tokenized)\n",
        "\n",
        "print(f\"{input.shape}\")\n",
        "print(f\"{label=}\")"
      ]
    },
    {
      "cell_type": "markdown",
      "id": "e17ca36a-61c7-40c5-b519-5620ba6528e7",
      "metadata": {
        "id": "e17ca36a-61c7-40c5-b519-5620ba6528e7"
      },
      "source": [
        "## Model"
      ]
    },
    {
      "cell_type": "code",
      "execution_count": 83,
      "id": "d9138230-d09f-4f70-b976-9deb3cb336bf",
      "metadata": {
        "colab": {
          "base_uri": "https://localhost:8080/"
        },
        "id": "d9138230-d09f-4f70-b976-9deb3cb336bf",
        "outputId": "28e06ba2-2fe5-4ce5-f5e7-952a71e6a01b"
      },
      "outputs": [
        {
          "output_type": "execute_result",
          "data": {
            "text/plain": [
              "torch.Size([2, 112])"
            ]
          },
          "metadata": {},
          "execution_count": 83
        }
      ],
      "source": [
        "batch_size = 2\n",
        "\n",
        "def prepare_sequence(seq, word2index):\n",
        "    #map(function, list of something)\n",
        "    #map will look at each of element in this list, and apply this function\n",
        "    idxs = list(map(lambda w: word2index[w] if word2index.get(w) is not None else word2index[\"<UNK>\"], seq))\n",
        "    return torch.LongTensor(idxs)\n",
        "\n",
        "all_vocabs = prepare_sequence(list(vocabs), word2index).expand(batch_size, voc_size)\n",
        "all_vocabs.shape"
      ]
    },
    {
      "cell_type": "code",
      "execution_count": 84,
      "id": "6d76e82a-d24a-444a-9d3c-94bd39568a4b",
      "metadata": {
        "id": "6d76e82a-d24a-444a-9d3c-94bd39568a4b"
      },
      "outputs": [],
      "source": [
        "input, label = random_batch(batch_size, corpus_tokenized)\n",
        "input_tensor = torch.LongTensor(input)  \n",
        "label_tensor = torch.LongTensor(label)"
      ]
    },
    {
      "cell_type": "code",
      "execution_count": 85,
      "id": "8f3b1ae2-9419-4a29-99c7-0f7b08a106f1",
      "metadata": {
        "id": "8f3b1ae2-9419-4a29-99c7-0f7b08a106f1"
      },
      "outputs": [],
      "source": [
        "emb_size = 20\n",
        "voc_size = len(vocabs)\n",
        "model = Skipgram(voc_size, emb_size)"
      ]
    },
    {
      "cell_type": "code",
      "execution_count": 86,
      "id": "afeab875-8507-456b-ba0a-815b2a07a91c",
      "metadata": {
        "colab": {
          "base_uri": "https://localhost:8080/"
        },
        "id": "afeab875-8507-456b-ba0a-815b2a07a91c",
        "outputId": "9df94e9b-2efe-4cc9-d574-be9b2a0ba751"
      },
      "outputs": [
        {
          "output_type": "execute_result",
          "data": {
            "text/plain": [
              "torch.Size([2, 1])"
            ]
          },
          "metadata": {},
          "execution_count": 86
        }
      ],
      "source": [
        "input_tensor.shape"
      ]
    },
    {
      "cell_type": "code",
      "execution_count": 87,
      "id": "52f63cc0-cba6-4225-9308-322f9460993a",
      "metadata": {
        "colab": {
          "base_uri": "https://localhost:8080/"
        },
        "id": "52f63cc0-cba6-4225-9308-322f9460993a",
        "outputId": "cebf7a1b-fd86-4736-9350-06b235373a35"
      },
      "outputs": [
        {
          "output_type": "execute_result",
          "data": {
            "text/plain": [
              "torch.Size([2, 1])"
            ]
          },
          "metadata": {},
          "execution_count": 87
        }
      ],
      "source": [
        "label_tensor.shape"
      ]
    },
    {
      "cell_type": "code",
      "execution_count": 88,
      "id": "451118c1-c9c7-4ca2-9745-b86b1d4ea1c3",
      "metadata": {
        "colab": {
          "base_uri": "https://localhost:8080/"
        },
        "id": "451118c1-c9c7-4ca2-9745-b86b1d4ea1c3",
        "outputId": "87f147a1-acca-4ff4-e2c7-5bf8d07980fd"
      },
      "outputs": [
        {
          "output_type": "execute_result",
          "data": {
            "text/plain": [
              "tensor(12.7076, grad_fn=<NegBackward0>)"
            ]
          },
          "metadata": {},
          "execution_count": 88
        }
      ],
      "source": [
        "loss = model(input_tensor, label_tensor, all_vocabs)\n",
        "loss"
      ]
    },
    {
      "cell_type": "markdown",
      "id": "bb15878f-25cd-4fe9-891e-386296b60580",
      "metadata": {
        "id": "bb15878f-25cd-4fe9-891e-386296b60580"
      },
      "source": [
        "## Training"
      ]
    },
    {
      "cell_type": "code",
      "execution_count": 89,
      "id": "50048ce9-d8b8-4269-8e41-b7f46aab65f0",
      "metadata": {
        "id": "50048ce9-d8b8-4269-8e41-b7f46aab65f0"
      },
      "outputs": [],
      "source": [
        "voc_size   = len(vocabs)\n",
        "batch_size = 2\n",
        "emb_size   = 20\n",
        "model      = Skipgram(voc_size, emb_size)\n",
        "optimizer  = optim.Adam(model.parameters(), lr=0.001)"
      ]
    },
    {
      "cell_type": "code",
      "execution_count": 90,
      "id": "344bcd0b-440b-4dec-a553-5743520bbe42",
      "metadata": {
        "colab": {
          "base_uri": "https://localhost:8080/"
        },
        "id": "344bcd0b-440b-4dec-a553-5743520bbe42",
        "outputId": "804956dc-e4ad-4fb3-ee48-8b93c0327bc5"
      },
      "outputs": [
        {
          "output_type": "stream",
          "name": "stdout",
          "text": [
            "Epoch 1000 | Loss: 8.593601\n",
            "Epoch 2000 | Loss: 8.013803\n",
            "Epoch 3000 | Loss: 2.194254\n",
            "Epoch 4000 | Loss: nan\n",
            "Process Time: 0mins 5secs\n"
          ]
        }
      ],
      "source": [
        "num_epochs = 4000\n",
        "start0 = time.time()\n",
        "\n",
        "#for epoch\n",
        "for epoch in range(num_epochs):\n",
        "    start = time.time()\n",
        "    \n",
        "    #get random batch\n",
        "    input_batch, label_batch = random_batch(batch_size, corpus_tokenized)\n",
        "    input_batch = torch.LongTensor(input_batch)\n",
        "    label_batch = torch.LongTensor(label_batch)\n",
        "    \n",
        "    # print(input_batch.shape, label_batch.shape, all_vocabs.shape)\n",
        "    \n",
        "    #loss = model\n",
        "    loss = model(input_batch, label_batch, all_vocabs)\n",
        "    \n",
        "    end = time.time()\n",
        "    \n",
        "    epoch_mins, epoch_secs = epoch_time(start, end)\n",
        "    \n",
        "    #backpropagate\n",
        "    loss.backward()\n",
        "    \n",
        "    #update alpha\n",
        "    optimizer.step()\n",
        "    \n",
        "    #print epoch loss\n",
        "    if (epoch + 1) % 1000 == 0:\n",
        "        print(f\"Epoch {epoch+1} | Loss: {loss:.6f}\")\n",
        "\n",
        "end0 = time.time()\n",
        "mins, secs = epoch_time(start0, end0)\n",
        "print(f\"Process Time: {mins}mins {secs}secs\")"
      ]
    },
    {
      "cell_type": "markdown",
      "id": "ee7402a9-f005-493d-9aa4-931ea52819b0",
      "metadata": {
        "id": "ee7402a9-f005-493d-9aa4-931ea52819b0"
      },
      "source": [
        "## Plot the embeddings"
      ]
    },
    {
      "cell_type": "code",
      "execution_count": 91,
      "id": "d77c914d-4992-4c66-8e23-aa4c4f397f1c",
      "metadata": {
        "colab": {
          "base_uri": "https://localhost:8080/"
        },
        "id": "d77c914d-4992-4c66-8e23-aa4c4f397f1c",
        "outputId": "e8435fb8-0a6c-4af9-c78d-72246da5c3f0"
      },
      "outputs": [
        {
          "output_type": "execute_result",
          "data": {
            "text/plain": [
              "tensor([79])"
            ]
          },
          "metadata": {},
          "execution_count": 91
        }
      ],
      "source": [
        "king = torch.LongTensor([word2index['King']])\n",
        "king"
      ]
    },
    {
      "cell_type": "code",
      "execution_count": 92,
      "id": "ce78b38c-f606-476c-8816-04caf27fb74e",
      "metadata": {
        "colab": {
          "base_uri": "https://localhost:8080/"
        },
        "id": "ce78b38c-f606-476c-8816-04caf27fb74e",
        "outputId": "7aacb019-eaa1-47b5-da4b-2afdc8c9d995"
      },
      "outputs": [
        {
          "output_type": "execute_result",
          "data": {
            "text/plain": [
              "tensor([[nan, nan, nan, nan, nan, nan, nan, nan, nan, nan, nan, nan, nan, nan, nan, nan, nan, nan, nan, nan]],\n",
              "       grad_fn=<DivBackward0>)"
            ]
          },
          "metadata": {},
          "execution_count": 92
        }
      ],
      "source": [
        "king_center_embed = model.embedding_center_word(king)\n",
        "king_outside_embed = model.embedding_outside_word(king)\n",
        "\n",
        "king_embed = (king_center_embed + king_outside_embed) / 2\n",
        "king_embed"
      ]
    },
    {
      "cell_type": "code",
      "execution_count": 93,
      "id": "cfb3fe7d-b8ac-45e8-89c4-5fe24c7d9f8c",
      "metadata": {
        "id": "cfb3fe7d-b8ac-45e8-89c4-5fe24c7d9f8c"
      },
      "outputs": [],
      "source": [
        "def get_embed(word):\n",
        "    try:\n",
        "        index = word2index[word]\n",
        "    except:\n",
        "        index = word2index['<UNK>']\n",
        "    \n",
        "    word = torch.LongTensor([index])\n",
        "\n",
        "    center_embed  = model.embedding_center_word(word)\n",
        "    outside_embed = model.embedding_outside_word(word)\n",
        "    \n",
        "    embed = (center_embed + outside_embed) / 2\n",
        "    \n",
        "    return  embed[0][0].item(), embed[0][1].item()"
      ]
    },
    {
      "cell_type": "markdown",
      "source": [
        "##### Something went wrong, normal version of skipgram did not work"
      ],
      "metadata": {
        "id": "GECBaPKclltX"
      },
      "id": "GECBaPKclltX"
    },
    {
      "cell_type": "code",
      "execution_count": 94,
      "id": "d84db4f3-2a15-4df1-8033-f91c3fb113eb",
      "metadata": {
        "id": "d84db4f3-2a15-4df1-8033-f91c3fb113eb"
      },
      "outputs": [],
      "source": [
        "# print(get_embed('president'))"
      ]
    },
    {
      "cell_type": "code",
      "execution_count": 95,
      "id": "c5de6d4b-1317-4d9d-ae86-8d8f65ad3a96",
      "metadata": {
        "id": "c5de6d4b-1317-4d9d-ae86-8d8f65ad3a96"
      },
      "outputs": [],
      "source": [
        "# plt.figure(figsize=(6,3))\n",
        "# for i, word in enumerate(vocabs[:20]): #loop each unique vocab\n",
        "#     x, y = get_embed(word)\n",
        "#     plt.scatter(x, y)\n",
        "#     plt.annotate(word, xy=(x, y), xytext=(5, 2), textcoords='offset points')\n",
        "# plt.show()"
      ]
    },
    {
      "cell_type": "markdown",
      "source": [
        "## Comparing"
      ],
      "metadata": {
        "id": "rFM96bPtgxUj"
      },
      "id": "rFM96bPtgxUj"
    },
    {
      "cell_type": "code",
      "execution_count": 96,
      "id": "0a4a106e-06cf-45bc-9520-29ae9c4ee5a8",
      "metadata": {
        "id": "0a4a106e-06cf-45bc-9520-29ae9c4ee5a8"
      },
      "outputs": [],
      "source": [
        "#scipy version\n",
        "from scipy import spatial\n",
        "\n",
        "def cos_sim(a, b):\n",
        "    cos_sim = 1 - spatial.distance.cosine(a, b)  #distance = 1 - similarlity, because scipy only gives distance\n",
        "    return cos_sim"
      ]
    },
    {
      "cell_type": "code",
      "source": [
        "print(f\"king vs. president: \",        cos_sim(king_1, president_1))\n",
        "print(f\"king vs. leader: \",       cos_sim(king_1, leader_1))\n",
        "print(f\"president vs. leader: \",     cos_sim(president_1, leader_1))\n",
        "print(f'Total time use in skipgram {skipmins} miniute(s) {skipsecs} second')"
      ],
      "metadata": {
        "colab": {
          "base_uri": "https://localhost:8080/"
        },
        "id": "AZ4pDiAqjBAR",
        "outputId": "e09f54d5-9f63-4633-e029-d745bcbe5ee8"
      },
      "id": "AZ4pDiAqjBAR",
      "execution_count": 97,
      "outputs": [
        {
          "output_type": "stream",
          "name": "stdout",
          "text": [
            "king vs. president:  -0.8122551333398507\n",
            "king vs. leader:  0.9262079330583262\n",
            "president vs. leader:  -0.5324045415963159\n",
            "Total time use in skipgram 0 miniute(s) 6 second\n"
          ]
        }
      ]
    },
    {
      "cell_type": "code",
      "source": [
        "print(f\"king vs. president: \",        cos_sim(neg_king, neg_president))\n",
        "print(f\"king vs. leader: \",       cos_sim(neg_king, neg_leader))\n",
        "print(f\"president vs. leader: \",     cos_sim(neg_president, neg_leader))\n",
        "print(f'Total time use in negSampling {negmins} miniute(s) {negsecs} second')"
      ],
      "metadata": {
        "colab": {
          "base_uri": "https://localhost:8080/"
        },
        "id": "473__SbUjReR",
        "outputId": "810bcced-fa72-42b4-d9e5-91ff60368458"
      },
      "id": "473__SbUjReR",
      "execution_count": 98,
      "outputs": [
        {
          "output_type": "stream",
          "name": "stdout",
          "text": [
            "king vs. president:  0.990522185710691\n",
            "king vs. leader:  -0.4684339603387597\n",
            "president vs. leader:  -0.3426432099594041\n",
            "Total time use in negSampling 0 miniute(s) 4 second\n"
          ]
        }
      ]
    }
  ],
  "metadata": {
    "kernelspec": {
      "display_name": "Python 3 (ipykernel)",
      "language": "python",
      "name": "python3"
    },
    "language_info": {
      "codemirror_mode": {
        "name": "ipython",
        "version": 3
      },
      "file_extension": ".py",
      "mimetype": "text/x-python",
      "name": "python",
      "nbconvert_exporter": "python",
      "pygments_lexer": "ipython3",
      "version": "3.9.7"
    },
    "colab": {
      "provenance": []
    },
    "accelerator": "GPU",
    "gpuClass": "standard"
  },
  "nbformat": 4,
  "nbformat_minor": 5
}