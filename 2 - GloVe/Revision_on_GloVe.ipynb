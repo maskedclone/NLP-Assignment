{
  "cells": [
    {
      "cell_type": "markdown",
      "metadata": {
        "id": "6Cg0z0UUYSMH"
      },
      "source": [
        "# Skipgram"
      ]
    },
    {
      "cell_type": "markdown",
      "metadata": {
        "id": "bMqCrnF1YSMH"
      },
      "source": [
        "## 1.Load data"
      ]
    },
    {
      "cell_type": "code",
      "execution_count": 1,
      "metadata": {
        "id": "WxmC5RKtYSMH"
      },
      "outputs": [],
      "source": [
        "import numpy as np \n",
        "import torch \n",
        "import torch.nn as nn\n",
        "import torch.optim as optim \n",
        "import matplotlib.pyplot as plt \n",
        "import spacy\n",
        "import pandas as pd \n",
        "import time \n",
        "import itertools\n",
        "from numpy import dot\n",
        "from numpy.linalg import norm\n",
        "nlp = spacy.load(\"en_core_web_sm\")"
      ]
    },
    {
      "cell_type": "markdown",
      "metadata": {
        "id": "dZxhnIEaYSMI"
      },
      "source": [
        "### Load corpus data from txt file, which referenced from our classmates"
      ]
    },
    {
      "cell_type": "code",
      "execution_count": 3,
      "metadata": {
        "id": "VwzzrVp1YSMI"
      },
      "outputs": [],
      "source": [
        "f = ((open(\"questions-words.txt\", \"r\")).read()).split(\":\")\n",
        "corpus_syntactic = (f[14]).split(\"\\n\")[1:-1] # Singular and Plural Verbs\n",
        "corpus_semantic = (f[3]).split(\"\\n\")[1:-1] + (f[5]).split(\"\\n\")[1:-1] # Family [boy, girl, brother, sister]\n",
        "\n",
        "corpus = corpus_semantic + corpus_syntactic\n",
        "\n",
        "word = [[corpus[i]] for i in range(len(corpus))] #extract the data\n",
        "\n",
        "corpus_syntactic = [[corpus_syntactic[i]] for i in range(len(corpus_syntactic))] #contain the corpus in list\n",
        "corpus_semantic = [[corpus_semantic[i]] for i in range(len(corpus_semantic))]"
      ]
    },
    {
      "cell_type": "code",
      "execution_count": 4,
      "metadata": {
        "colab": {
          "base_uri": "https://localhost:8080/"
        },
        "id": "BEczugvRYSMI",
        "outputId": "f43ef64d-c82f-446b-f270-5f2bbc88b539"
      },
      "outputs": [
        {
          "output_type": "execute_result",
          "data": {
            "text/plain": [
              "2241"
            ]
          },
          "metadata": {},
          "execution_count": 4
        }
      ],
      "source": [
        "len(word) # take a quick look"
      ]
    },
    {
      "cell_type": "markdown",
      "metadata": {
        "id": "T-J2zpnwYSMJ"
      },
      "source": [
        "## 2.Tokenization"
      ]
    },
    {
      "cell_type": "code",
      "execution_count": 5,
      "metadata": {
        "id": "qfDL1Mo-YSMJ"
      },
      "outputs": [],
      "source": [
        "def tokenize(corpus_input) : #Tokenize function\n",
        "    corpus_tokenizedd = []\n",
        "    for token in corpus_input : \n",
        "        spare = []\n",
        "        for ss in nlp(str(token[0])) :\n",
        "            spare.append(str(ss))\n",
        "        corpus_tokenizedd.append(spare)    \n",
        "    return corpus_tokenizedd  "
      ]
    },
    {
      "cell_type": "code",
      "execution_count": 6,
      "metadata": {
        "id": "hDr7TC1-YSMJ"
      },
      "outputs": [],
      "source": [
        "corpus_tokenized = tokenize(word)\n",
        "\n",
        "cor_sem_token = tokenize(corpus_semantic) # this data is used to test syntactic and semantic accuracy\n",
        "cor_syn_token = tokenize(corpus_syntactic)"
      ]
    },
    {
      "cell_type": "code",
      "execution_count": 7,
      "metadata": {
        "id": "w6aboMyPYSMJ"
      },
      "outputs": [],
      "source": [
        "flatten = lambda l: [item for sublist in l for item in sublist]\n",
        "vocabs  = list(set(flatten(corpus_tokenized)))\n",
        "vocabs_syn  = list(set(flatten(cor_syn_token)))\n",
        "vocabs_sem  = list(set(flatten(cor_sem_token)))"
      ]
    },
    {
      "cell_type": "code",
      "execution_count": 8,
      "metadata": {
        "colab": {
          "base_uri": "https://localhost:8080/"
        },
        "id": "bqTh6OByYSMK",
        "outputId": "d130b5c0-34a3-425a-e97b-3fcf925057d8"
      },
      "outputs": [
        {
          "output_type": "execute_result",
          "data": {
            "text/plain": [
              "['peso',\n",
              " 'Armenia',\n",
              " 'man',\n",
              " 'swim',\n",
              " 'describes',\n",
              " 'Angola',\n",
              " 'India',\n",
              " 'eats',\n",
              " 'walks',\n",
              " 'Bulgaria']"
            ]
          },
          "metadata": {},
          "execution_count": 8
        }
      ],
      "source": [
        "vocabs[0:10] # check some examples"
      ]
    },
    {
      "cell_type": "markdown",
      "metadata": {
        "id": "nhqxc-yiYSMK"
      },
      "source": [
        "## 3.Numerization"
      ]
    },
    {
      "cell_type": "code",
      "execution_count": 9,
      "metadata": {
        "id": "6GrI1I9QYSMK"
      },
      "outputs": [],
      "source": [
        "word_2_idx = {v: idx for idx, v in enumerate(vocabs)}\n",
        "vocabs.append('<UNK>')\n",
        "word_2_idx['<UNK>'] = len(word_2_idx) "
      ]
    },
    {
      "cell_type": "code",
      "execution_count": 10,
      "metadata": {
        "colab": {
          "base_uri": "https://localhost:8080/"
        },
        "id": "BtC74uHlYSMK",
        "outputId": "8bd2d912-9f6b-4128-e6cc-f824d0ade2bb"
      },
      "outputs": [
        {
          "output_type": "execute_result",
          "data": {
            "text/plain": [
              "{'peso': 0,\n",
              " 'Armenia': 1,\n",
              " 'man': 2,\n",
              " 'swim': 3,\n",
              " 'describes': 4,\n",
              " 'Angola': 5,\n",
              " 'India': 6,\n",
              " 'eats': 7,\n",
              " 'walks': 8,\n",
              " 'Bulgaria': 9}"
            ]
          },
          "metadata": {},
          "execution_count": 10
        }
      ],
      "source": [
        "dict(itertools.islice(word_2_idx.items(), 10)) # quick check"
      ]
    },
    {
      "cell_type": "markdown",
      "metadata": {
        "id": "2NpOuEc5YSMK"
      },
      "source": [
        "## 4.Prepare data"
      ]
    },
    {
      "cell_type": "code",
      "execution_count": 11,
      "metadata": {
        "id": "kmCg4aNuYSMK"
      },
      "outputs": [],
      "source": [
        "def random_batch_skipgram(batch_size, corpus_tokenized):\n",
        "    \n",
        "    Skipgram = []\n",
        "\n",
        "    #for each corpus\n",
        "    for sent in corpus_tokenized:\n",
        "        try :\n",
        "            for i in range(1, len(sent) - 1): #start from 1 to second last\n",
        "                center_word = word_2_idx[sent[i]]\n",
        "                outside_words = [word_2_idx[sent[i-1]], word_2_idx[sent[i+1]]]  #window_size = 1\n",
        "                for o in outside_words:\n",
        "                    Skipgram.append([center_word, o]) #use outside word to predict center word\n",
        "        except :\n",
        "            pass               \n",
        "    #only get a batch, not the entire list\n",
        "    random_inputs, random_labels = [], []   \n",
        "    random_index = np.random.choice(range(len(Skipgram)), batch_size, replace=False)\n",
        "             \n",
        "    #appending some list of inputs and labels\n",
        "    for index in random_index:\n",
        "        random_inputs.append([Skipgram[index][0]])  \n",
        "        random_labels.append([Skipgram[index][1]])\n",
        "        \n",
        "    return np.array(random_inputs), np.array(random_labels)"
      ]
    },
    {
      "cell_type": "markdown",
      "metadata": {
        "id": "HOmcBhNqYSMK"
      },
      "source": [
        "## 5.Model"
      ]
    },
    {
      "cell_type": "code",
      "execution_count": 12,
      "metadata": {
        "id": "nYLhZ-qfYSML"
      },
      "outputs": [],
      "source": [
        "class Skipgram(nn.Module):\n",
        "    \n",
        "    def __init__(self, voc_size, emb_size):\n",
        "        super(Skipgram, self).__init__()\n",
        "        self.embedding_center_word  = nn.Embedding(voc_size, emb_size)  \n",
        "        self.embedding_outside_word = nn.Embedding(voc_size, emb_size)\n",
        "    \n",
        "    def forward(self, center_word, outside_word, all_vocabs):\n",
        "        #convert them into embedding\n",
        "        center_word_embed  = self.embedding_center_word(center_word)     #(batch_size, 1, emb_size) -> note about the shape\n",
        "        outside_word_embed = self.embedding_outside_word(outside_word)   #(batch_size, 1, emb_size)\n",
        "        all_vocabs_embed   = self.embedding_outside_word(all_vocabs)     #(batch_size, voc_size, emb_size)\n",
        "        top_term = outside_word_embed.bmm(center_word_embed.transpose(1, 2)).squeeze(2)\n",
        "        top_term_exp = torch.exp(top_term) \n",
        "        lower_term = all_vocabs_embed.bmm(center_word_embed.transpose(1, 2)).squeeze(2)\n",
        "        lower_term_sum = torch.sum(torch.exp(lower_term), 1) \n",
        "        loss_fn = -torch.mean(torch.log(top_term_exp / lower_term_sum))\n",
        "\n",
        "        \n",
        "        return loss_fn"
      ]
    },
    {
      "cell_type": "markdown",
      "metadata": {
        "id": "AX5a_ZSAYSML"
      },
      "source": [
        "## 6. Train"
      ]
    },
    {
      "cell_type": "code",
      "execution_count": 13,
      "metadata": {
        "id": "0DfYKXYSYSML"
      },
      "outputs": [],
      "source": [
        "voc_size = len(vocabs)\n",
        "batch_size = 2 \n",
        "emb_size   = 3\n",
        "Skipgram   = Skipgram(voc_size, emb_size)\n",
        "optimizer  = optim.Adam(Skipgram.parameters(), lr=0.001)\n",
        "\n",
        "num_epochs = 4000"
      ]
    },
    {
      "cell_type": "code",
      "execution_count": 14,
      "metadata": {
        "colab": {
          "base_uri": "https://localhost:8080/"
        },
        "id": "tJTlNdBnYSML",
        "outputId": "7f6df377-1baf-4a27-86a3-2648c60d16d7"
      },
      "outputs": [
        {
          "output_type": "execute_result",
          "data": {
            "text/plain": [
              "torch.Size([2, 165])"
            ]
          },
          "metadata": {},
          "execution_count": 14
        }
      ],
      "source": [
        "def prepare_sequence(seq, word2index):\n",
        "\n",
        "    #map will look at each of element in this list, and apply this function\n",
        "    idxs = list(map(lambda w: word2index[w] if word2index.get(w) is not None else word2index[\"<UNK>\"], seq))\n",
        "    return torch.LongTensor(idxs)\n",
        "\n",
        "all_vocabs = prepare_sequence(list(vocabs), word_2_idx).expand(batch_size, voc_size)\n",
        "all_vocabs.shape # quick check"
      ]
    },
    {
      "cell_type": "code",
      "execution_count": 15,
      "metadata": {
        "id": "2Lg1kt6OYSML"
      },
      "outputs": [],
      "source": [
        "def epoch_time(start_time, end_time):\n",
        "    elapsed_time = (end_time - start_time)\n",
        "    return elapsed_time"
      ]
    },
    {
      "cell_type": "code",
      "execution_count": 16,
      "metadata": {
        "colab": {
          "base_uri": "https://localhost:8080/"
        },
        "id": "2KC_z8m1YSML",
        "outputId": "1e484d34-159d-4d71-cc54-c40071f88716"
      },
      "outputs": [
        {
          "output_type": "stream",
          "name": "stdout",
          "text": [
            "Epoch 1000 | Loss: 5.158748 | Time: 9.925258874893188 s\n",
            "Epoch 2000 | Loss: 5.514926 | Time: 8.612216711044312 s\n",
            "Epoch 3000 | Loss: 4.472905 | Time: 9.587579011917114 s\n",
            "Epoch 4000 | Loss: 7.372119 | Time: 9.505197048187256 s\n",
            "Time in total : 37.63025164604187 \n"
          ]
        }
      ],
      "source": [
        "run_time_normal = 0\n",
        "sum_time = 0\n",
        "#for epoch\n",
        "for epoch in range(num_epochs):\n",
        "    start_time = time.time()\n",
        "\n",
        "    #get random batch\n",
        "    input_batch, label_batch = random_batch_skipgram(batch_size, corpus_tokenized)\n",
        "    input_batch = torch.LongTensor(input_batch)\n",
        "    label_batch = torch.LongTensor(label_batch)\n",
        "    \n",
        "    \n",
        "    #loss = model\n",
        "    \n",
        "    optimizer.zero_grad()\n",
        "    loss = Skipgram(input_batch, label_batch, all_vocabs)\n",
        "    #backpropagate\n",
        "    loss.backward()\n",
        "    #update alpha\n",
        "    optimizer.step()\n",
        "    stop_time = time.time()\n",
        "    run_time_normal = run_time_normal + epoch_time(start_time, stop_time)\n",
        "    \n",
        "    #print epoch loss\n",
        "    if (epoch + 1) % 1000 == 0:\n",
        "        sum_time += run_time_normal\n",
        "        print(f\"Epoch {epoch+1} | Loss: {loss:.6f} | Time: {run_time_normal} s\")\n",
        "        run_time_normal = 0\n",
        "print(f\"Time in total : {sum_time} \" )    "
      ]
    },
    {
      "cell_type": "markdown",
      "metadata": {
        "id": "Ogf-z0YGYSML"
      },
      "source": [
        "## 7. Plot"
      ]
    },
    {
      "cell_type": "code",
      "execution_count": 17,
      "metadata": {
        "id": "5S14FqixYSML"
      },
      "outputs": [],
      "source": [
        "def get_embed(word , model):\n",
        "    \n",
        "    try:\n",
        "        index = word_2_idx[word]\n",
        "    except:\n",
        "        index = word_2_idx['<UNK>']\n",
        "    \n",
        "    word = torch.LongTensor([index])\n",
        "    center_embed  = model.embedding_center_word(word)\n",
        "    outside_embed = model.embedding_outside_word(word)\n",
        "    embed = (center_embed + outside_embed) / 2\n",
        "    \n",
        "    return  [embed[0][i].item() for i in range(emb_size)]\n"
      ]
    },
    {
      "cell_type": "code",
      "execution_count": 18,
      "metadata": {
        "id": "RMS6DeCZYSMM"
      },
      "outputs": [],
      "source": [
        "words = []\n",
        "for i, word in enumerate(vocabs[:40]): #loop each unique vocab\n",
        "    words.append(word)\n",
        "vec_word  = []\n"
      ]
    },
    {
      "cell_type": "code",
      "execution_count": 19,
      "metadata": {
        "colab": {
          "base_uri": "https://localhost:8080/",
          "height": 818
        },
        "id": "TBKU92SdYSMM",
        "outputId": "7c1d71e6-7a5f-4912-f5cb-afaf5127ace9"
      },
      "outputs": [
        {
          "output_type": "display_data",
          "data": {
            "text/plain": [
              "<Figure size 1500x1000 with 1 Axes>"
            ],
            "image/png": "[encoded data removed]"
          },
          "metadata": {}
        }
      ],
      "source": [
        "from sklearn.decomposition import PCA # referenced from my friend\n",
        "import numpy as np\n",
        "import matplotlib.pyplot as plt\n",
        "for oo in words :\n",
        "    vec_word.append(np.array(get_embed(oo, Skipgram)))\n",
        "word_vectors = vec_word\n",
        "twodim = PCA().fit_transform(word_vectors)[:,:2]  #transform 4 to 2 dimensions\n",
        "\n",
        "plt.figure(figsize=(15,10))\n",
        "plt.scatter(twodim[:,0], twodim[:,1], edgecolors='k', c='r')\n",
        "for word, (x,y) in zip(words, twodim):\n",
        "    plt.text(x+0.05, y+0.05, word)\n",
        "plt.show()"
      ]
    },
    {
      "cell_type": "markdown",
      "metadata": {
        "id": "8YxmzP49YSMM"
      },
      "source": [
        "## 8. Revision on Analogy"
      ]
    },
    {
      "cell_type": "code",
      "execution_count": 20,
      "metadata": {
        "id": "kiDV3LWPYSMM"
      },
      "outputs": [],
      "source": [
        "vectors = { token:np.array(get_embed(token, Skipgram)) for token in vocabs }\n",
        "\n",
        "vectors_sementic = { token:np.array(get_embed(token, Skipgram)) for token in vocabs_sem } # for test accuracy\n",
        "vectors_syntactic = { token:np.array(get_embed(token, Skipgram)) for token in vocabs_syn }"
      ]
    },
    {
      "cell_type": "code",
      "execution_count": 21,
      "metadata": {
        "colab": {
          "base_uri": "https://localhost:8080/"
        },
        "id": "sZQMrd0DYSMM",
        "outputId": "3ab4fc2f-1c9e-4c2f-e2c3-3d2c0b648cce"
      },
      "outputs": [
        {
          "output_type": "execute_result",
          "data": {
            "text/plain": [
              "{'peso': array([ 0.02124178,  0.12962236, -0.25118351]),\n",
              " 'Armenia': array([0.26601517, 0.97365499, 0.05260557]),\n",
              " 'man': array([ 0.11460383,  0.86755943, -0.26764026]),\n",
              " 'Angola': array([-0.29521307, -0.26211092,  0.11265632]),\n",
              " 'India': array([ 0.05237138, -0.27366027,  0.64649063]),\n",
              " 'Bulgaria': array([ 0.05562389,  0.32372895, -0.1809926 ]),\n",
              " 'ringgit': array([ 0.21408796, -0.73468107,  0.42477086]),\n",
              " 'Russia': array([ 1.1821444 , -0.04867852,  0.04010355]),\n",
              " 'mom': array([0.81224483, 0.08792408, 0.37810025]),\n",
              " 'Lithuania': array([-0.59395009, -0.71602535, -0.45812398])}"
            ]
          },
          "metadata": {},
          "execution_count": 21
        }
      ],
      "source": [
        "dict(itertools.islice(vectors_sementic.items(), 10)) # show several examples"
      ]
    },
    {
      "cell_type": "code",
      "execution_count": 22,
      "metadata": {
        "id": "aDuS2PRpYSMM"
      },
      "outputs": [],
      "source": [
        "sum = (vectors[\"dad\"]-vectors[\"mom\"])+vectors[\"brothers\"]"
      ]
    },
    {
      "cell_type": "code",
      "execution_count": 23,
      "metadata": {
        "colab": {
          "base_uri": "https://localhost:8080/"
        },
        "id": "dkr3PymWYSMN",
        "outputId": "16b0c113-45e0-4ad5-a921-bab56fd3f5c3"
      },
      "outputs": [
        {
          "output_type": "stream",
          "name": "stdout",
          "text": [
            " 'dad' - 'mom' + 'brothers' similarity to 'sister'  at 77.32987726206333 percentage\n"
          ]
        }
      ],
      "source": [
        "# revision\n",
        "sum_value = np.dot(sum, vectors[\"brothers\"]) / (np.linalg.norm(sum) * np.linalg.norm(vectors[\"brothers\"]))\n",
        "print(f\" 'dad' - 'mom' + 'brothers' similarity to 'sister' at {sum_value*100} percentage\")"
      ]
    },
    {
      "cell_type": "code",
      "execution_count": 25,
      "metadata": {
        "id": "auWofRhZYSMN"
      },
      "outputs": [],
      "source": [
        "def analogy(x1, x2, y1, vectors): \n",
        "    x1_vec, x2_vec, y1_vec = vectors[x1], vectors[x2], vectors[y1]\n",
        "    result_vec = y1_vec + (x2_vec - x1_vec)\n",
        "    result = closest_word(result_vec, vectors)\n",
        "    return result\n",
        "\n",
        "# function to find closest word to a given vector\n",
        "def closest_word(vec, vectors):\n",
        "    closest_idx = np.argmax([cosine_similarity(vec, v) for v in vectors.values()]) # argmax used in order to find the index of closest word - in other words, this line is used to find the most similarity from the result vector to vector of all vocabs\n",
        "    return list(vectors.keys())[closest_idx]\n",
        "\n",
        "# calculating cosine similarity\n",
        "def cosine_similarity(v1, v2):\n",
        "    return np.dot(v1, v2) / (np.linalg.norm(v1) * np.linalg.norm(v2))"
      ]
    },
    {
      "cell_type": "code",
      "execution_count": 26,
      "metadata": {
        "id": "qo1nI_IjYSMN"
      },
      "outputs": [],
      "source": [
        "def test_senario(a1 , a2, model_l) :\n",
        "    tester1 = get_embed(a1, model_l)\n",
        "    teater2 = get_embed(a2, model_l)\n",
        "    print(f\"{a1} similarity to {a2} = {cosine_similarity(tester1 , teater2)}\")"
      ]
    },
    {
      "cell_type": "code",
      "execution_count": 29,
      "metadata": {
        "colab": {
          "base_uri": "https://localhost:8080/"
        },
        "id": "guFhjxZzYSMN",
        "outputId": "4a53c428-9102-46d9-972a-94aad669f216"
      },
      "outputs": [
        {
          "output_type": "stream",
          "name": "stdout",
          "text": [
            "table similarity to chair = 1.0\n"
          ]
        }
      ],
      "source": [
        "test_senario(\"table\",\"chair\" , Skipgram)"
      ]
    },
    {
      "cell_type": "code",
      "execution_count": 30,
      "metadata": {
        "colab": {
          "base_uri": "https://localhost:8080/"
        },
        "id": "xoCqwTL3YSMN",
        "outputId": "090ea62b-594f-4006-b24d-2b81fe9c8bd5"
      },
      "outputs": [
        {
          "output_type": "stream",
          "name": "stdout",
          "text": [
            "eat similarity to drink = 0.3644364161339244\n"
          ]
        }
      ],
      "source": [
        "test_senario(\"eat\",\"drink\", Skipgram)\n"
      ]
    },
    {
      "cell_type": "code",
      "execution_count": 32,
      "metadata": {
        "colab": {
          "base_uri": "https://localhost:8080/",
          "height": 35
        },
        "id": "DsxEH9-aYSMN",
        "outputId": "99b5c3e9-0ea6-41cd-d53f-c981186067dc"
      },
      "outputs": [
        {
          "output_type": "execute_result",
          "data": {
            "text/plain": [
              "'eat'"
            ],
            "application/vnd.google.colaboratory.intrinsic+json": {
              "type": "string"
            }
          },
          "metadata": {},
          "execution_count": 32
        }
      ],
      "source": [
        "analogy('king', 'queen', 'prince', vectors) # --?"
      ]
    },
    {
      "cell_type": "code",
      "execution_count": 33,
      "metadata": {
        "id": "hwchn2soYSMN"
      },
      "outputs": [],
      "source": [
        "def extract_word(word_m) :\n",
        "    word_cc = []\n",
        "    for value in word_m :\n",
        "        temporary = []\n",
        "        for indx in range (len(value)) :\n",
        "            temporary.append(value[indx])\n",
        "            if int(indx + 1) % int(2) == 0 :\n",
        "                if temporary not in word_cc :\n",
        "                    word_cc.append(temporary)\n",
        "                temporary = []\n",
        "    return word_cc                   "
      ]
    },
    {
      "cell_type": "code",
      "execution_count": 34,
      "metadata": {
        "id": "etwoPmezYSMO"
      },
      "outputs": [],
      "source": [
        "semantic_word = extract_word(cor_sem_token) # [['boy', 'girl'], .....] in this format after extraction\n",
        "syntactic_word = extract_word(cor_syn_token)"
      ]
    },
    {
      "cell_type": "code",
      "execution_count": 36,
      "metadata": {
        "colab": {
          "base_uri": "https://localhost:8080/"
        },
        "id": "9PZ2G0CTYSMO",
        "outputId": "81b4c7ae-5108-482a-80b9-e95bd0eac47c"
      },
      "outputs": [
        {
          "output_type": "execute_result",
          "data": {
            "text/plain": [
              "(30, 53)"
            ]
          },
          "metadata": {},
          "execution_count": 36
        }
      ],
      "source": [
        "len(syntactic_word), len(semantic_word)"
      ]
    },
    {
      "cell_type": "code",
      "execution_count": 37,
      "metadata": {
        "id": "jvY8CDA9YSMO"
      },
      "outputs": [],
      "source": [
        "def acc_test (word_test , vector_target) :\n",
        "    count = 0\n",
        "    round = 0\n",
        "    print(f\"the correct word is : \")\n",
        "    for tokens in word_test : # word_cc[0] look like this [decrease , decreases] then i loop and check analogy every word\n",
        "        word1 = tokens[0]\n",
        "        word2 = tokens[1]\n",
        "        for ss in range (len(word_test)) :\n",
        "            if str(word1) != str(word_test[ss][0]) :\n",
        "                relt  = analogy( str(word1), str(word2), word_test[ss][0], vector_target)\n",
        "                round = round+1\n",
        "                if str(relt) == str(word_test[ss][1]) :\n",
        "                    print(f'{word1} is to {word2} as {word_test[ss][0]} to {relt}')\n",
        "                    count = count + 1     \n",
        "            else : \n",
        "                pass        \n",
        "    accuracy = (abs(count/round)) * 100        \n",
        "    print(f\"test {round} time correct {count} time, you accuracy is {accuracy :.2f} percentage\")    \n",
        "    return accuracy"
      ]
    },
    {
      "cell_type": "code",
      "execution_count": 38,
      "metadata": {
        "colab": {
          "base_uri": "https://localhost:8080/"
        },
        "id": "0I0bg1M8YSMO",
        "outputId": "628510f6-7526-44eb-a76c-9f9607d59bce"
      },
      "outputs": [
        {
          "output_type": "stream",
          "name": "stdout",
          "text": [
            "the correct word is : \n",
            "decrease is to decreases as scream to screams\n",
            "enhance is to enhances as write to writes\n",
            "find is to finds as generate to generates\n",
            "generate is to generates as find to finds\n",
            "go is to goes as scream to screams\n",
            "increase is to increases as think to thinks\n",
            "increase is to increases as vanish to vanishes\n",
            "sit is to sits as estimate to estimates\n",
            "sit is to sits as provide to provides\n",
            "slow is to slows as describe to describes\n",
            "talk is to talks as increase to increases\n",
            "talk is to talks as think to thinks\n",
            "think is to thinks as eat to eats\n",
            "write is to writes as enhance to enhances\n",
            "write is to writes as walk to walks\n",
            "test 870 time correct 15 time, you accuracy is 1.72 percentage\n"
          ]
        }
      ],
      "source": [
        "# this dataset have 30 pair of singular and phural verbs. When loop to check with every word should be 900 round but there are 30 pair that repeated. --> revision\n",
        "skipgram_syn_acc = acc_test(syntactic_word, vectors_syntactic)"
      ]
    },
    {
      "cell_type": "code",
      "execution_count": 39,
      "metadata": {
        "colab": {
          "base_uri": "https://localhost:8080/"
        },
        "id": "ThT2VutoYSMO",
        "outputId": "576a612e-bc4c-4adb-e2eb-23f29d5a537e"
      },
      "outputs": [
        {
          "output_type": "stream",
          "name": "stdout",
          "text": [
            "the correct word is : \n",
            "Angola is to kwanza as Lithuania to litas\n",
            "Argentina is to peso as Brazil to real\n",
            "Bulgaria is to lev as dad to mom\n",
            "Bulgaria is to lev as grandson to granddaughter\n",
            "Cambodia is to riel as groom to bride\n",
            "Denmark is to krone as Bulgaria to lev\n",
            "Denmark is to krone as dad to mom\n",
            "Europe is to euro as Romania to leu\n",
            "Hungary is to forint as brother to sister\n",
            "India is to rupee as his to her\n",
            "India is to rupee as husband to wife\n",
            "Japan is to yen as husband to wife\n",
            "Latvia is to lats as sons to daughters\n",
            "Macedonia is to denar as Hungary to forint\n",
            "Malaysia is to ringgit as Brazil to real\n",
            "Malaysia is to ringgit as Vietnam to dong\n",
            "Mexico is to peso as his to her\n",
            "Mexico is to peso as husband to wife\n",
            "Nigeria is to naira as grandfather to grandmother\n",
            "Nigeria is to naira as husband to wife\n",
            "Sweden is to krona as Lithuania to litas\n",
            "Thailand is to baht as Romania to leu\n",
            "Thailand is to baht as USA to dollar\n",
            "boy is to girl as Sweden to krona\n",
            "brother is to sister as Hungary to forint\n",
            "dad is to mom as Bulgaria to lev\n",
            "grandpa is to grandma as Romania to leu\n",
            "grandson is to granddaughter as stepfather to stepmother\n",
            "groom is to bride as Sweden to krona\n",
            "his is to her as husband to wife\n",
            "man is to woman as Iran to rial\n",
            "man is to woman as husband to wife\n",
            "nephew is to niece as Armenia to dram\n",
            "prince is to princess as Angola to kwanza\n",
            "prince is to princess as Lithuania to litas\n",
            "test 2756 time correct 35 time, you accuracy is 1.27 percentage\n"
          ]
        }
      ],
      "source": [
        "skipgram_sem_acc = acc_test(semantic_word, vectors_sementic)"
      ]
    },
    {
      "cell_type": "markdown",
      "metadata": {
        "id": "JsxjUBzsYSMO"
      },
      "source": [
        "# CBOW"
      ]
    },
    {
      "cell_type": "markdown",
      "metadata": {
        "id": "3ePvlALqYSMO"
      },
      "source": [
        "## 1. Prepare the data"
      ]
    },
    {
      "cell_type": "code",
      "execution_count": 40,
      "metadata": {
        "id": "T8oNtaujYSMP"
      },
      "outputs": [],
      "source": [
        "# it is already tokenizing and numerizing the data\n",
        "\n",
        "def random_batch_CBOW(batch_size, corpus_tokenized):\n",
        "    \n",
        "    CBOW = []\n",
        "\n",
        "    #for each corpus\n",
        "    for sent in corpus_tokenized:\n",
        "        try :\n",
        "            for i in range(1, len(sent) - 1): #start from 1 to second last\n",
        "                center_word = word_2_idx[sent[i]]\n",
        "                outside_words = [word_2_idx[sent[i-1]], word_2_idx[sent[i+1]]]  #window_size = 1\n",
        "                for o in outside_words:\n",
        "                    CBOW.append([o,center_word ]) #use outside word to predict center word\n",
        "        except :\n",
        "            pass               \n",
        "    #only get a batch, not the entire list\n",
        "    random_inputs, random_labels = [], []   \n",
        "    random_index = np.random.choice(range(len(CBOW)), batch_size, replace=False)\n",
        "             \n",
        "    #appending some list of inputs and labels\n",
        "    for index in random_index:\n",
        "        random_inputs.append([CBOW[index][0]])  \n",
        "        random_labels.append([CBOW[index][1]])\n",
        "        \n",
        "    return np.array(random_inputs), np.array(random_labels)"
      ]
    },
    {
      "cell_type": "markdown",
      "metadata": {
        "id": "O5aDxWxYYSMP"
      },
      "source": [
        "## 2. Model "
      ]
    },
    {
      "cell_type": "code",
      "execution_count": 41,
      "metadata": {
        "id": "dLSoQ3EAYSMP"
      },
      "outputs": [],
      "source": [
        "class CBOW(nn.Module):\n",
        "    \n",
        "    def __init__(self, voc_size, emb_size):\n",
        "        super(CBOW, self).__init__()\n",
        "        self.embedding_center_word  = nn.Embedding(voc_size, emb_size)  \n",
        "        self.embedding_outside_word = nn.Embedding(voc_size, emb_size)\n",
        "    \n",
        "    def forward(self, center_word, outside_word, all_vocabs):\n",
        "        #convert them into embedding\n",
        "        center_word_embed  = self.embedding_center_word(center_word)     #(batch_size, 1, emb_size)\n",
        "        outside_word_embed = self.embedding_outside_word(outside_word)   #(batch_size, 1, emb_size)\n",
        "        all_vocabs_embed   = self.embedding_outside_word(all_vocabs)     #(batch_size, voc_size, emb_size)\n",
        "        top_term = outside_word_embed.bmm(center_word_embed.transpose(1, 2)).squeeze(2)\n",
        "        top_term_exp = torch.exp(top_term) \n",
        "        lower_term = all_vocabs_embed.bmm(center_word_embed.transpose(1, 2)).squeeze(2)\n",
        "        lower_term_sum = torch.sum(torch.exp(lower_term), 1) \n",
        "        loss_fn = -torch.mean(torch.log(top_term_exp / lower_term_sum))\n",
        "\n",
        "        \n",
        "        return loss_fn"
      ]
    },
    {
      "cell_type": "markdown",
      "metadata": {
        "id": "lTQ9s_qAYSMP"
      },
      "source": [
        "## 3.Train"
      ]
    },
    {
      "cell_type": "code",
      "execution_count": 42,
      "metadata": {
        "colab": {
          "base_uri": "https://localhost:8080/"
        },
        "id": "gO90dtLPYSMP",
        "outputId": "be84fed7-7348-4e9e-fe13-19482d0b0621"
      },
      "outputs": [
        {
          "output_type": "stream",
          "name": "stdout",
          "text": [
            "Epoch 1000 | Loss: 7.459122 | Time: 12.305271863937378 s\n",
            "Epoch 2000 | Loss: 4.626183 | Time: 9.033655881881714 s\n",
            "Epoch 3000 | Loss: 5.365932 | Time: 9.093980550765991 s\n",
            "Epoch 4000 | Loss: 5.757639 | Time: 9.113869905471802 s\n",
            "Time in total: 39.546778202056885 \n"
          ]
        }
      ],
      "source": [
        "CBOW = CBOW(voc_size, emb_size)\n",
        "optimizer  = optim.Adam(CBOW.parameters(), lr=0.001)\n",
        "run_time_normal = 0\n",
        "sum_time = 0\n",
        "#for epoch\n",
        "for epoch in range(num_epochs):\n",
        "    start_time = time.time()\n",
        "    #get random batch\n",
        "    input_batch, label_batch = random_batch_CBOW(batch_size, corpus_tokenized)\n",
        "    input_batch = torch.LongTensor(input_batch)\n",
        "    label_batch = torch.LongTensor(label_batch)\n",
        "    #loss = model\n",
        "    optimizer.zero_grad()\n",
        "    loss = CBOW(input_batch, label_batch, all_vocabs)\n",
        "    #backpropagate\n",
        "    loss.backward()\n",
        "    #update alpha\n",
        "    optimizer.step()\n",
        "    stop_time = time.time()\n",
        "    run_time_normal = run_time_normal + epoch_time(start_time, stop_time)\n",
        "    \n",
        "    #print epoch loss\n",
        "    if (epoch + 1) % 1000 == 0:\n",
        "        sum_time += run_time_normal\n",
        "        print(f\"Epoch {epoch+1} | Loss: {loss:.6f} | Time: {run_time_normal} s\")\n",
        "        run_time_normal = 0\n",
        "print(f\"Time in total: {sum_time} \" )"
      ]
    },
    {
      "cell_type": "code",
      "execution_count": 43,
      "metadata": {
        "id": "jAQ4OASWYSMP"
      },
      "outputs": [],
      "source": [
        "vectors_CBOW = { token:np.array(get_embed(token, CBOW)) for token in vocabs }\n",
        "\n",
        "CBOW_sementic = { token:np.array(get_embed(token, CBOW)) for token in vocabs_sem }\n",
        "CBOW_syntactic = { token:np.array(get_embed(token, CBOW)) for token in vocabs_syn }"
      ]
    },
    {
      "cell_type": "code",
      "execution_count": 44,
      "metadata": {
        "colab": {
          "base_uri": "https://localhost:8080/"
        },
        "id": "M4ddEsUdYSMP",
        "outputId": "71e000f4-7198-49e7-c39b-dbf58f2868b1"
      },
      "outputs": [
        {
          "output_type": "stream",
          "name": "stdout",
          "text": [
            "the correct word is : \n",
            "Angola is to kwanza as Bulgaria to lev\n",
            "Angola is to kwanza as Croatia to kuna\n",
            "Argentina is to peso as Croatia to kuna\n",
            "Bulgaria is to lev as Croatia to kuna\n",
            "Cambodia is to riel as Lithuania to litas\n",
            "Canada is to dollar as Croatia to kuna\n",
            "Europe is to euro as sons to daughters\n",
            "Hungary is to forint as Argentina to peso\n",
            "India is to rupee as Russia to ruble\n",
            "Iran is to rial as Algeria to dinar\n",
            "Lithuania is to litas as Poland to zloty\n",
            "Nigeria is to naira as Cambodia to riel\n",
            "Nigeria is to naira as Russia to ruble\n",
            "Poland is to zloty as Denmark to krone\n",
            "Romania is to leu as Lithuania to litas\n",
            "Romania is to leu as he to she\n",
            "Thailand is to baht as stepbrother to stepsister\n",
            "boy is to girl as Croatia to kuna\n",
            "boy is to girl as Europe to euro\n",
            "brother is to sister as Algeria to dinar\n",
            "brother is to sister as Europe to euro\n",
            "brothers is to sisters as Croatia to kuna\n",
            "dad is to mom as Europe to euro\n",
            "grandfather is to grandmother as stepbrother to stepsister\n",
            "grandpa is to grandma as Croatia to kuna\n",
            "grandpa is to grandma as Sweden to krona\n",
            "groom is to bride as Malaysia to ringgit\n",
            "he is to she as Algeria to dinar\n",
            "he is to she as Lithuania to litas\n",
            "he is to she as Romania to leu\n",
            "husband is to wife as India to rupee\n",
            "son is to daughter as Malaysia to ringgit\n",
            "sons is to daughters as Sweden to krona\n",
            "sons is to daughters as dad to mom\n",
            "stepfather is to stepmother as Russia to ruble\n",
            "stepson is to stepdaughter as Europe to euro\n",
            "uncle is to aunt as Europe to euro\n",
            "test 2756 time correct 37 time, you accuracy is 1.34 percentage\n"
          ]
        }
      ],
      "source": [
        "CBOW_sem_acc = acc_test(semantic_word, CBOW_sementic)"
      ]
    },
    {
      "cell_type": "code",
      "execution_count": 45,
      "metadata": {
        "colab": {
          "base_uri": "https://localhost:8080/"
        },
        "id": "y3VyNCuKYSMP",
        "outputId": "4727b9fd-fcd7-415c-b452-0a691184bd04"
      },
      "outputs": [
        {
          "output_type": "stream",
          "name": "stdout",
          "text": [
            "the correct word is : \n",
            "decrease is to decreases as describe to describes\n",
            "eat is to eats as estimate to estimates\n",
            "eat is to eats as play to plays\n",
            "enhance is to enhances as describe to describes\n",
            "enhance is to enhances as sing to sings\n",
            "find is to finds as estimate to estimates\n",
            "find is to finds as play to plays\n",
            "go is to goes as scream to screams\n",
            "increase is to increases as say to says\n",
            "scream is to screams as swim to swims\n",
            "search is to searches as predict to predicts\n",
            "search is to searches as sit to sits\n",
            "see is to sees as decrease to decreases\n",
            "see is to sees as describe to describes\n",
            "shuffle is to shuffles as swim to swims\n",
            "sing is to sings as go to goes\n",
            "sit is to sits as describe to describes\n",
            "swim is to swims as estimate to estimates\n",
            "think is to thinks as work to works\n",
            "vanish is to vanishes as predict to predicts\n",
            "test 870 time correct 20 time, you accuracy is 2.30 percentage\n"
          ]
        }
      ],
      "source": [
        "CBOW_syn_acc = acc_test(syntactic_word, CBOW_syntactic)"
      ]
    },
    {
      "cell_type": "markdown",
      "metadata": {
        "id": "Jm08KfnkYSMP"
      },
      "source": [
        "# Negative sampling"
      ]
    },
    {
      "cell_type": "markdown",
      "metadata": {
        "id": "0bnK45CWYSMQ"
      },
      "source": [
        "## 1. Prepare the data"
      ]
    },
    {
      "cell_type": "code",
      "execution_count": 47,
      "metadata": {
        "id": "SSk5WbbLYSMQ"
      },
      "outputs": [],
      "source": [
        "Z = 0.001\n",
        "unigram_table = []"
      ]
    },
    {
      "cell_type": "code",
      "execution_count": 48,
      "metadata": {
        "id": "GYJFaBNMYSMQ"
      },
      "outputs": [],
      "source": [
        "from collections import Counter # referenced from my friend\n",
        "import random\n",
        "\n",
        "word_count = Counter(flatten(corpus_tokenized))\n",
        "aa = [c for w, c in word_count.items()]\n",
        "sumsum = 0\n",
        "for i in range(len(aa)) :\n",
        "    sumsum = sumsum + int(aa[i-1])\n",
        "for vo in vocabs:\n",
        "    unigram_table.extend([vo] * int(((word_count[vo]/sumsum)**0.75)/Z))    "
      ]
    },
    {
      "cell_type": "code",
      "execution_count": 49,
      "metadata": {
        "id": "OFiPKYMaYSMQ"
      },
      "outputs": [],
      "source": [
        "def prepare_sequence_skip(seq, word2index):\n",
        "    idxs = list(map(lambda w: word2index[w] if word2index.get(w) is not None else word2index[\"<UNK>\"], seq))\n",
        "    return torch.LongTensor(idxs)\n",
        "def negative_sampling(targets, unigram_table, k):\n",
        "    batch_size = targets.size(0)\n",
        "    neg_samples = []\n",
        "    for i in range(batch_size):\n",
        "        nsample = []\n",
        "        target_index = targets[i].item()\n",
        "        while len(nsample) < k: # num of sampling\n",
        "            neg = random.choice(unigram_table)\n",
        "            if word_2_idx[neg] == target_index:\n",
        "                continue\n",
        "            nsample.append(neg)\n",
        "        neg_samples.append(prepare_sequence_skip(nsample, word_2_idx).view(1, -1))\n",
        "    \n",
        "    return torch.cat(neg_samples)"
      ]
    },
    {
      "cell_type": "markdown",
      "metadata": {
        "id": "haiQKURmYSMQ"
      },
      "source": [
        "## 2. Model"
      ]
    },
    {
      "cell_type": "code",
      "execution_count": 51,
      "metadata": {
        "id": "m2GKrJFzYSMQ"
      },
      "outputs": [],
      "source": [
        "class SkipgramNegSampling(nn.Module):\n",
        "    \n",
        "    def __init__(self, vocab_size, emb_size):\n",
        "        super(SkipgramNegSampling, self).__init__()\n",
        "        self.embedding_center_word  = nn.Embedding(voc_size, emb_size)  \n",
        "        self.embedding_outside_word = nn.Embedding(voc_size, emb_size)\n",
        "        self.logsigmoid = nn.LogSigmoid()\n",
        "                    \n",
        "    def forward(self, center_words, target_words, negative_words):\n",
        "        center_embeds = self.embedding_center_word(center_words) \n",
        "        target_embeds = self.embedding_outside_word(target_words) \n",
        "        neg_embeds    = -self.embedding_outside_word(negative_words) \n",
        "        \n",
        "        positive_score = target_embeds.bmm(center_embeds.transpose(1, 2)).squeeze(2)\n",
        "        negative_score = neg_embeds.bmm(center_embeds.transpose(1, 2))\n",
        "        \n",
        "        loss = self.logsigmoid(positive_score) + torch.sum(self.logsigmoid(negative_score), 1) # here is the loss function\n",
        "                \n",
        "        return -torch.mean(loss)\n",
        "    \n",
        "    def prediction(self, inputs):\n",
        "        embeds = self.embedding_center_word(inputs)\n",
        "        \n",
        "        return embeds"
      ]
    },
    {
      "cell_type": "markdown",
      "metadata": {
        "id": "y9iWy7ajYSMQ"
      },
      "source": [
        "## 3. Let's train the data"
      ]
    },
    {
      "cell_type": "code",
      "execution_count": 52,
      "metadata": {
        "id": "3QL4-1eFYSMQ"
      },
      "outputs": [],
      "source": [
        "Skip_Neg = SkipgramNegSampling(voc_size, emb_size)\n",
        "optimizer_Neg  = optim.Adam(Skip_Neg.parameters(), lr=0.001)"
      ]
    },
    {
      "cell_type": "code",
      "execution_count": 53,
      "metadata": {
        "colab": {
          "base_uri": "https://localhost:8080/"
        },
        "id": "UPt2n-tmYSMQ",
        "outputId": "d633b1fa-21e5-4b2d-a842-8fbb759f10c4"
      },
      "outputs": [
        {
          "output_type": "stream",
          "name": "stdout",
          "text": [
            "Epoch: 1000 | loss: 15.193077 | time: 9.41211986541748 s\n",
            "Epoch: 2000 | loss: 13.409737 | time: 9.981069803237915 s\n",
            "Epoch: 3000 | loss: 13.875822 | time: 9.403099536895752 s\n",
            "Epoch: 4000 | loss: 10.530771 | time: 8.942537546157837 s\n",
            "Total time with 4000 epoch is: 37.738826751708984 s\n"
          ]
        }
      ],
      "source": [
        "run_time_negative = 0\n",
        "sum_time_negative = 0\n",
        "num_neg        = 15\n",
        "\n",
        "for epoch in range(num_epochs):\n",
        "    \n",
        "    start = time.time()\n",
        "    input_batch, target_batch = random_batch_skipgram(batch_size, corpus_tokenized)\n",
        "    input_batch = torch.LongTensor(input_batch)\n",
        "    target_batch = torch.LongTensor(target_batch)\n",
        "    negs_batch = negative_sampling(target_batch, unigram_table, num_neg)\n",
        "    optimizer_Neg.zero_grad()\n",
        "    loss = Skip_Neg(input_batch, target_batch, negs_batch)\n",
        "\n",
        "    loss.backward()\n",
        "    optimizer_Neg.step()\n",
        "    end = time.time()\n",
        "    run_time_negative = run_time_negative + epoch_time(start, end)\n",
        "\n",
        "    if (epoch + 1) % 1000 == 0:\n",
        "        sum_time_negative += run_time_negative\n",
        "        print(f\"Epoch: {epoch + 1} | loss: {loss:.6f} | time: {run_time_negative} s\")\n",
        "        run_time_negative = 0\n",
        "print(f\"Total time with {num_epochs} epoch is: {sum_time_negative} s\")     "
      ]
    },
    {
      "cell_type": "code",
      "execution_count": 54,
      "metadata": {
        "id": "AAZyk0ZxYSMR"
      },
      "outputs": [],
      "source": [
        "vectors_Neg = { token:np.array(get_embed(token, Skip_Neg)) for token in vocabs } # same as previous\n",
        "Neg_sementic = { token:np.array(get_embed(token, Skip_Neg)) for token in vocabs_sem }\n",
        "Neg_syntactic = { token:np.array(get_embed(token, Skip_Neg)) for token in vocabs_syn }"
      ]
    },
    {
      "cell_type": "code",
      "execution_count": 55,
      "metadata": {
        "colab": {
          "base_uri": "https://localhost:8080/"
        },
        "id": "EGBnt0WeYSMR",
        "outputId": "e5bd59f2-912f-41f4-eb2f-342e689546e2"
      },
      "outputs": [
        {
          "output_type": "stream",
          "name": "stdout",
          "text": [
            "the correct word is : \n",
            "eat is to eats as sing to sings\n",
            "find is to finds as provide to provides\n",
            "predict is to predicts as see to sees\n",
            "provide is to provides as find to finds\n",
            "provide is to provides as go to goes\n",
            "sing is to sings as eat to eats\n",
            "sit is to sits as see to sees\n",
            "write is to writes as enhance to enhances\n",
            "test 870 time correct 8 time, you accuracy is 0.92 percentage\n"
          ]
        }
      ],
      "source": [
        "Neg_syn_acc = acc_test(syntactic_word, Neg_syntactic)"
      ]
    },
    {
      "cell_type": "code",
      "execution_count": 56,
      "metadata": {
        "colab": {
          "base_uri": "https://localhost:8080/"
        },
        "id": "MqZMx8HmYSMR",
        "outputId": "3d490b50-f1e5-45ad-e47f-7550879de961"
      },
      "outputs": [
        {
          "output_type": "stream",
          "name": "stdout",
          "text": [
            "the correct word is : \n",
            "Angola is to kwanza as Europe to euro\n",
            "Argentina is to peso as brother to sister\n",
            "Argentina is to peso as stepson to stepdaughter\n",
            "Armenia is to dram as Russia to ruble\n",
            "Brazil is to real as stepson to stepdaughter\n",
            "Cambodia is to riel as Bulgaria to lev\n",
            "Canada is to dollar as Romania to leu\n",
            "Croatia is to kuna as his to her\n",
            "Denmark is to krone as Romania to leu\n",
            "India is to rupee as boy to girl\n",
            "India is to rupee as husband to wife\n",
            "Korea is to won as Nigeria to naira\n",
            "Korea is to won as stepbrother to stepsister\n",
            "Latvia is to lats as Nigeria to naira\n",
            "Latvia is to lats as stepbrother to stepsister\n",
            "Lithuania is to litas as Ukraine to hryvnia\n",
            "Malaysia is to ringgit as Bulgaria to lev\n",
            "Mexico is to peso as Bulgaria to lev\n",
            "Poland is to zloty as Vietnam to dong\n",
            "Poland is to zloty as dad to mom\n",
            "Poland is to zloty as stepfather to stepmother\n",
            "Romania is to leu as Denmark to krone\n",
            "Ukraine is to hryvnia as Lithuania to litas\n",
            "boy is to girl as brother to sister\n",
            "dad is to mom as stepbrother to stepsister\n",
            "groom is to bride as his to her\n",
            "man is to woman as sons to daughters\n",
            "policeman is to policewoman as Russia to ruble\n",
            "policeman is to policewoman as Vietnam to dong\n",
            "stepbrother is to stepsister as Korea to won\n",
            "stepbrother is to stepsister as Latvia to lats\n",
            "stepfather is to stepmother as Nigeria to naira\n",
            "stepfather is to stepmother as Russia to ruble\n",
            "stepfather is to stepmother as stepbrother to stepsister\n",
            "stepson is to stepdaughter as Brazil to real\n",
            "stepson is to stepdaughter as brother to sister\n",
            "uncle is to aunt as brother to sister\n",
            "uncle is to aunt as stepson to stepdaughter\n",
            "test 2756 time correct 38 time, you accuracy is 1.38 percentage\n"
          ]
        }
      ],
      "source": [
        "Neg_sem_acc = acc_test(semantic_word, Neg_sementic)"
      ]
    },
    {
      "cell_type": "markdown",
      "metadata": {
        "id": "E4cSX37qYSMR"
      },
      "source": [
        "# GloVe Revision"
      ]
    },
    {
      "cell_type": "markdown",
      "metadata": {
        "id": "2fJEqXn9YSMR"
      },
      "source": [
        "##  1. Co-occurrence matrix, which count the occurrences of pair of words using window size of 1"
      ]
    },
    {
      "cell_type": "code",
      "execution_count": 57,
      "metadata": {
        "id": "bdY_gPkTYSMR"
      },
      "outputs": [],
      "source": [
        "skip_grams = []\n",
        "\n",
        "#loop through each corpus\n",
        "for sent in corpus_tokenized:  #['apple', 'banana', 'fruit']\n",
        "    #loop through each word from 1 to n-1 (because 0 and n has no context window)\n",
        "    for i in range(1, len(sent)-1):\n",
        "        target  = sent[i]\n",
        "        context = [sent[i+1], sent[i-1]]\n",
        "        #append(i, i+1) and append(i, i-1)\n",
        "        for c in context:\n",
        "            skip_grams.append((target, c))"
      ]
    },
    {
      "cell_type": "code",
      "execution_count": 58,
      "metadata": {
        "id": "nEvY8Xh7YSMR"
      },
      "outputs": [],
      "source": [
        "X_ik_skipgram = Counter(skip_grams)"
      ]
    },
    {
      "cell_type": "code",
      "execution_count": 59,
      "metadata": {
        "colab": {
          "base_uri": "https://localhost:8080/"
        },
        "id": "gqFbc965YSMR",
        "outputId": "531323f0-8650-4bc3-fe4a-729c3fd6b572"
      },
      "outputs": [
        {
          "output_type": "execute_result",
          "data": {
            "text/plain": [
              "{('dinar', 'Angola'): 1,\n",
              " ('dinar', 'Algeria'): 29,\n",
              " ('Angola', 'kwanza'): 29,\n",
              " ('Angola', 'dinar'): 1,\n",
              " ('dinar', 'Argentina'): 1,\n",
              " ('Argentina', 'peso'): 28,\n",
              " ('Argentina', 'dinar'): 1,\n",
              " ('dinar', 'Armenia'): 1,\n",
              " ('Armenia', 'dram'): 29,\n",
              " ('Armenia', 'dinar'): 1}"
            ]
          },
          "metadata": {},
          "execution_count": 59
        }
      ],
      "source": [
        "dict(itertools.islice(X_ik_skipgram.items(), 10)) # show several examples in dictionary"
      ]
    },
    {
      "cell_type": "markdown",
      "metadata": {
        "id": "FHTOHabrYSMS"
      },
      "source": [
        "## 2. Weighting function \n",
        "\n",
        "GloVe includes a weighting function to scale down too frequent words.\n"
      ]
    },
    {
      "cell_type": "code",
      "execution_count": 60,
      "metadata": {
        "id": "1SH9gLoRYSMS"
      },
      "outputs": [],
      "source": [
        "def weighting(w_i, w_j, X_ik):\n",
        "    #check whether the co-occurrences exist between these two words\n",
        "    try:\n",
        "        x_ij = X_ik[(w_i, w_j)]\n",
        "    except:\n",
        "        x_ij = 1  #if does not exist, set it to 1\n",
        "                \n",
        "    x_max = 100 # fixed in paper  #cannot exceed 100 counts\n",
        "    alpha = 0.75\n",
        "    \n",
        "    #if co-occurrence does not exceed 100, scale it based on some alpha\n",
        "    if x_ij < x_max:\n",
        "        result = (x_ij/x_max)**alpha  #scale it\n",
        "    else:\n",
        "        result = 1  #if is greater than max, set it to 1 maximum\n",
        "    \n",
        "    return result"
      ]
    },
    {
      "cell_type": "code",
      "execution_count": 61,
      "metadata": {
        "id": "bQ8XUlUnYSMS"
      },
      "outputs": [],
      "source": [
        "#now apply this weighting to all possible pairs\n",
        "from itertools import combinations_with_replacement\n",
        "\n",
        "X_ik = {}  #for keeping the co-occurences\n",
        "weighting_dic = {} #scaling the percentage of sampling\n",
        "\n",
        "for bigram in combinations_with_replacement(vocabs, 2):\n",
        "    if X_ik_skipgram.get(bigram) is not None:  #matches \n",
        "        co_occer = X_ik_skipgram[bigram]  #get the count from what we already counted\n",
        "        X_ik[bigram] = co_occer + 1 # + 1 for stability issue\n",
        "        X_ik[(bigram[1],bigram[0])] = co_occer+1   #count also for the opposite\n",
        "    else:\n",
        "        pass\n",
        "        \n",
        "    weighting_dic[bigram] = weighting(bigram[0], bigram[1], X_ik)\n",
        "    weighting_dic[(bigram[1], bigram[0])] = weighting(bigram[1], bigram[0], X_ik)\n",
        "    "
      ]
    },
    {
      "cell_type": "markdown",
      "metadata": {
        "id": "WKH_Vt1vYSMS"
      },
      "source": [
        "## 3. Prepare data"
      ]
    },
    {
      "cell_type": "code",
      "execution_count": 62,
      "metadata": {
        "id": "3djMI8wSYSMS"
      },
      "outputs": [],
      "source": [
        "import math\n",
        "\n",
        "def random_batch_glolve(batch_size, word_sequence, skip_grams, X_ik, weighting_dic):\n",
        "    \n",
        "    #loop through this skipgram, and change it id  because when sending model, it must number\n",
        "    skip_grams_id = [(word_2_idx[skip_gram[0]], word_2_idx[skip_gram[1]]) for skip_gram in skip_grams]\n",
        "    \n",
        "    #randomly pick \"batch_size\" indexes\n",
        "    number_of_choices = len(skip_grams_id)\n",
        "    random_index = np.random.choice(number_of_choices, batch_size, replace=False) #no repeating indexes among these random indexes\n",
        "    \n",
        "    random_inputs = [] #xi, wi (in batches)\n",
        "    random_labels = [] #xj, wj (in batches)\n",
        "    random_coocs  = [] #Xij (in batches)\n",
        "    random_weighting = [] #f(Xij) (in batches)\n",
        "    #for each of the sample in these indexes\n",
        "    for i in random_index:\n",
        "        random_inputs.append([skip_grams_id[i][0]]) #same reason why i put bracket here....\n",
        "        random_labels.append([skip_grams_id[i][1]])\n",
        "        \n",
        "        #get cooc\n",
        "        #first check whether it exists...\n",
        "        pair = skip_grams[i]  #e.g., ('banana', 'fruit)\n",
        "        try:\n",
        "            cooc = X_ik[pair]\n",
        "        except:\n",
        "            cooc = 1 #label smoothing\n",
        "            \n",
        "        random_coocs.append([math.log(cooc)])  #1. why log, #2, why bracket -> size ==> (, 1)  #my neural network expects (, 1)\n",
        "        \n",
        "        #get weighting\n",
        "        weighting = weighting_dic[pair]  #why not use try....maybe it does not exist....\n",
        "        random_weighting.append(weighting)\n",
        "\n",
        "        \n",
        "    return np.array(random_inputs), np.array(random_labels), np.array(random_coocs), np.array(random_weighting)\n",
        "    "
      ]
    },
    {
      "cell_type": "markdown",
      "metadata": {
        "id": "6qg5bv5sYSMS"
      },
      "source": [
        "## 4. Model"
      ]
    },
    {
      "cell_type": "code",
      "execution_count": 63,
      "metadata": {
        "id": "6gLszxoOYSMS"
      },
      "outputs": [],
      "source": [
        "class GloVe(nn.Module):\n",
        "    \n",
        "    def __init__(self, vocab_size,embed_size):\n",
        "        super(GloVe,self).__init__()\n",
        "        self.embedding_center_word = nn.Embedding(vocab_size, embed_size) # center embedding\n",
        "        self.embedding_outside_word = nn.Embedding(vocab_size, embed_size) # out embedding\n",
        "        \n",
        "        self.v_bias = nn.Embedding(vocab_size, 1)\n",
        "        self.u_bias = nn.Embedding(vocab_size, 1)\n",
        "        \n",
        "    def forward(self, center_words, target_words, coocs, weighting):\n",
        "        center_embeds = self.embedding_center_word(center_words) # [batch_size, 1, emb_size]\n",
        "        target_embeds = self.embedding_outside_word(target_words) # [batch_size, 1, emb_size]\n",
        "        \n",
        "        center_bias = self.v_bias(center_words).squeeze(1)\n",
        "        target_bias = self.u_bias(target_words).squeeze(1)\n",
        "        \n",
        "        inner_product = target_embeds.bmm(center_embeds.transpose(1, 2)).squeeze(2)\n",
        "        #[batch_size, 1, emb_size] @ [batch_size, emb_size, 1] = [batch_size, 1, 1] = [batch_size, 1]\n",
        "        \n",
        "        #note that coocs already got log\n",
        "        loss = weighting*torch.pow(inner_product +center_bias + target_bias - coocs, 2)\n",
        "        \n",
        "        return torch.sum(loss)"
      ]
    },
    {
      "cell_type": "markdown",
      "metadata": {
        "id": "i1_1LeA4YSMS"
      },
      "source": [
        "## 5. Training"
      ]
    },
    {
      "cell_type": "code",
      "execution_count": 64,
      "metadata": {
        "colab": {
          "base_uri": "https://localhost:8080/"
        },
        "id": "A02KRpQfYSMS",
        "outputId": "0b062fcf-6eb8-4b74-e26e-6c97d71825f6"
      },
      "outputs": [
        {
          "output_type": "stream",
          "name": "stdout",
          "text": [
            "Epoch: 1000 | loss: 5.262538 | time: 427074.9529144764 s\n",
            "Epoch: 2000 | loss: 20.205996 | time: 429608.3503961563 s\n",
            "Epoch: 3000 | loss: 12.225985 | time: 432071.3382406235 s\n",
            "Epoch: 4000 | loss: 1.330602 | time: 434971.95698809624 s\n",
            "Total time of 4000 epoch is: 1723726.5985393524 s\n"
          ]
        }
      ],
      "source": [
        "#for epoch\n",
        "Glove_model = GloVe(voc_size, emb_size)\n",
        "optimizer_Neg  = optim.Adam(Glove_model.parameters(), lr=0.001)\n",
        "run_time_normal = 0\n",
        "sum_time = 0\n",
        "for epoch in range(num_epochs):\n",
        "\n",
        "    #get random batch\n",
        "    input, target, cooc, weightin = random_batch_glolve(batch_size, corpus_tokenized, skip_grams, X_ik, weighting_dic)\n",
        "    input_batch    = torch.LongTensor(input)\n",
        "    target_batch   = torch.LongTensor(target)\n",
        "    cooc_batch     = torch.FloatTensor(cooc)\n",
        "    weightin_batch = torch.FloatTensor(weightin)\n",
        "    \n",
        "    \n",
        "    #loss = model\n",
        "    optimizer.zero_grad()\n",
        "    loss = Glove_model(input_batch, target_batch, cooc_batch, weightin_batch)\n",
        "    loss.backward()\n",
        "\n",
        "    #update alpha\n",
        "    optimizer.step()\n",
        "    stop_time = time.time()\n",
        "    run_time_normal = run_time_normal + epoch_time(start_time, stop_time)\n",
        "    \n",
        "    #print epoch loss\n",
        "    if (epoch + 1) % 1000 == 0:\n",
        "        sum_time += run_time_normal\n",
        "        print(f\"Epoch: {epoch + 1} | loss: {loss:.6f} | time: {run_time_normal} s\")\n",
        "        run_time_normal = 0\n",
        "print(f\"Total time of {num_epochs} epoch is: {sum_time} s\")   "
      ]
    },
    {
      "cell_type": "code",
      "execution_count": 65,
      "metadata": {
        "id": "_UXnedDrYSMS"
      },
      "outputs": [],
      "source": [
        "vectors_GloVe = { token:np.array(get_embed(token, Glove_model)) for token in vocabs }\n",
        "\n",
        "GloVe_sementic = { token:np.array(get_embed(token, Glove_model)) for token in vocabs_sem }\n",
        "GloVe_syntactic = { token:np.array(get_embed(token, Glove_model)) for token in vocabs_syn }"
      ]
    },
    {
      "cell_type": "code",
      "execution_count": 66,
      "metadata": {
        "colab": {
          "base_uri": "https://localhost:8080/"
        },
        "id": "tYN2X2skYSMT",
        "outputId": "7c171e07-e180-4353-ab4c-fc5cd6b4e420"
      },
      "outputs": [
        {
          "output_type": "stream",
          "name": "stdout",
          "text": [
            "the correct word is : \n",
            "find is to finds as provide to provides\n",
            "search is to searches as estimate to estimates\n",
            "sing is to sings as enhance to enhances\n",
            "think is to thinks as provide to provides\n",
            "vanish is to vanishes as sing to sings\n",
            "walk is to walks as shuffle to shuffles\n",
            "test 870 time correct 6 time, you accuracy is 0.69 percentage\n"
          ]
        }
      ],
      "source": [
        "GloVe_syn_acc = acc_test(syntactic_word, GloVe_syntactic)"
      ]
    },
    {
      "cell_type": "code",
      "execution_count": 67,
      "metadata": {
        "colab": {
          "base_uri": "https://localhost:8080/"
        },
        "id": "7hwcvoALYSMT",
        "outputId": "d1d41d19-26d5-446c-819b-a42c56d3ff75"
      },
      "outputs": [
        {
          "output_type": "stream",
          "name": "stdout",
          "text": [
            "the correct word is : \n",
            "Armenia is to dram as Denmark to krone\n",
            "Armenia is to dram as husband to wife\n",
            "Cambodia is to riel as grandpa to grandma\n",
            "Canada is to dollar as uncle to aunt\n",
            "Denmark is to krone as Armenia to dram\n",
            "Europe is to euro as prince to princess\n",
            "Japan is to yen as Ukraine to hryvnia\n",
            "Lithuania is to litas as Russia to ruble\n",
            "Lithuania is to litas as brothers to sisters\n",
            "Poland is to zloty as Vietnam to dong\n",
            "Romania is to leu as Brazil to real\n",
            "Russia is to ruble as Lithuania to litas\n",
            "Russia is to ruble as brothers to sisters\n",
            "USA is to dollar as policeman to policewoman\n",
            "brother is to sister as Hungary to forint\n",
            "brother is to sister as grandpa to grandma\n",
            "his is to her as stepbrother to stepsister\n",
            "king is to queen as boy to girl\n",
            "prince is to princess as Europe to euro\n",
            "sons is to daughters as stepson to stepdaughter\n",
            "test 2756 time correct 20 time, you accuracy is 0.73 percentage\n"
          ]
        }
      ],
      "source": [
        "GloVe_sem_acc = acc_test(semantic_word, GloVe_sementic)"
      ]
    },
    {
      "cell_type": "markdown",
      "metadata": {
        "id": "dO7cC0bQYSMT"
      },
      "source": [
        "# Corelation\n",
        "### This part is totally learned from my friend for comparison step"
      ]
    },
    {
      "cell_type": "code",
      "execution_count": 68,
      "metadata": {
        "id": "9sSj8JiUYSMT"
      },
      "outputs": [],
      "source": [
        "# Write the equation with numpy\n",
        "def spearman(x, y):\n",
        "    # convert input lists to numpy arrays\n",
        "    x = np.array(x)\n",
        "    y = np.array(y)\n",
        "    # calculate rank of x and y\n",
        "    x_rank = np.argsort(np.argsort(x)) + 1\n",
        "    y_rank = np.argsort(np.argsort(y)) + 1\n",
        "    # calculate difference between rank of x and y\n",
        "    diff = x_rank - y_rank\n",
        "    # calculate the square of the difference\n",
        "    diff_sq = diff**2\n",
        "    # calculate the sum of the square of the difference\n",
        "    diff_sum = diff_sq.sum()\n",
        "    # calculate the Spearman rank correlation coefficient\n",
        "    n = len(x)\n",
        "    spearman = 1 - ((6*diff_sum) / (n*(n**2 - 1)))\n",
        "    return spearman"
      ]
    },
    {
      "cell_type": "code",
      "execution_count": 69,
      "metadata": {
        "id": "CLfAWJVLYSMT"
      },
      "outputs": [],
      "source": [
        "data = pd.read_csv(\"testing.txt\", sep='\\t', names=[\"word1\", \"word2\", \"human_score\"])\n",
        "models = [CBOW,Skipgram,Skip_Neg,Glove_model]\n",
        "corre = []\n",
        "\n",
        "for i in range(4):\n",
        "    sim_array = []\n",
        "    humar_array = []\n",
        "    \n",
        "    # data is the dataframe containing the word pairs and human-assigned similarity scores - borrowed from my friend\n",
        "    for index,row in data.iterrows():\n",
        "        word1 = row[\"word1\"]\n",
        "        word2 = row[\"word2\"]\n",
        "        human_score = row[\"human_score\"]\n",
        "        if word1 in vocabs and word2 in vocabs:\n",
        "\n",
        "            center_embeds = get_embed(word1,models[i]) # [batch_size, 1, emb_size]\n",
        "            target_embeds = get_embed(word2,models[i]) # [batch_size, 1, emb_size]\n",
        "\n",
        "            # Calculate cosin_similarity\n",
        "            similarity = cosine_similarity(center_embeds,target_embeds)\n",
        "            sim_array.append(similarity)\n",
        "            humar_array.append(human_score)\n",
        "\n",
        "\n",
        "    # Calculate corelation with spearman Equation\n",
        "    correlation = spearman(humar_array, sim_array)\n",
        "    corre.append(correlation)"
      ]
    },
    {
      "cell_type": "code",
      "execution_count": 70,
      "metadata": {
        "colab": {
          "base_uri": "https://localhost:8080/"
        },
        "id": "TZaCQB-jYSMT",
        "outputId": "5212232a-6137-4339-c747-e2e316e3c526"
      },
      "outputs": [
        {
          "output_type": "stream",
          "name": "stdout",
          "text": [
            "+----+-------------------+---------------------+----------------------+---------------+\n",
            "|    | Name              |   Semantic Accuracy |   Syntactic Accuracy |   Correlation |\n",
            "|----+-------------------+---------------------+----------------------+---------------|\n",
            "|  0 | CBOW              |            1.34253  |             2.29885  |           1   |\n",
            "|  1 | Skipgram          |            1.26996  |             1.72414  |           0   |\n",
            "|  2 | Skipgram_Negative |            1.37881  |             0.91954  |           0.4 |\n",
            "|  3 | GloVe             |            0.725689 |             0.689655 |          -0.8 |\n",
            "+----+-------------------+---------------------+----------------------+---------------+\n"
          ]
        }
      ],
      "source": [
        "from tabulate import tabulate\n",
        "model_name = [\"CBOW\",\"Skipgram\",\"Skipgram_Negative\",\"GloVe\"]\n",
        "# creating a DataFrame\n",
        "dict = {'Name':model_name,\n",
        "        'Semantic Accuracy':[CBOW_sem_acc,skipgram_sem_acc,Neg_sem_acc,GloVe_sem_acc],\n",
        "        'Syntactic Accuracy':[CBOW_syn_acc,skipgram_syn_acc,Neg_syn_acc,GloVe_syn_acc],\n",
        "        'Correlation':corre}\n",
        "\n",
        "df = pd.DataFrame(dict)\n",
        "\n",
        "# displaying the DataFrame\n",
        "print(tabulate(df, headers = 'keys', tablefmt = 'psql'))"
      ]
    }
  ],
  "metadata": {
    "kernelspec": {
      "display_name": "Python 3",
      "language": "python",
      "name": "python3"
    },
    "language_info": {
      "codemirror_mode": {
        "name": "ipython",
        "version": 3
      },
      "file_extension": ".py",
      "mimetype": "text/x-python",
      "name": "python",
      "nbconvert_exporter": "python",
      "pygments_lexer": "ipython3",
      "version": "3.9.0"
    },
    "orig_nbformat": 4,
    "vscode": {
      "interpreter": {
        "hash": "3dc66c11351b0102d9b13bb868253b81f2002b43c320e9088049bbc4e6917ed6"
      }
    },
    "colab": {
      "provenance": []
    },
    "accelerator": "GPU",
    "gpuClass": "standard"
  },
  "nbformat": 4,
  "nbformat_minor": 0
}